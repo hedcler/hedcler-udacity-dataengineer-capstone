{
 "cells": [
  {
   "cell_type": "markdown",
   "metadata": {},
   "source": [
    "# Brazilian Investment Company Registration Study\n",
    "### Udacity Data Engineering Capstone Project\n",
    "\n",
    "#### Project Summary\n",
    "The Brazilian Securities Commission (CVM) was created on 12/07/1976 by Law 6,385/76, with the objective of inspecting, regulating, disciplining and developing the securities market in Brazil. And it makes public data available at the following address: http://dados.cvm.gov.br/organization/cvm\n",
    "\n",
    "The Brazilian Open Data Portal (https://dados.gov.br/) is the tool provided by the government so that everyone can find and use public data and information.\n",
    "\n",
    "This project aims to understand how open capital companies are distributed in Brazil.\n",
    "\n",
    "The project follows the follow steps:\n",
    "* **Step 1**: Scope the Project and Gather Data\n",
    "* **Step 2**: Explore and Assess the Data\n",
    "* **Step 3**: Define the Data Model\n",
    "* **Step 4**: Run ETL to Model the Data\n",
    "* **Step 5**: Complete Project Write Up"
   ]
  },
  {
   "cell_type": "code",
   "execution_count": 20,
   "metadata": {},
   "outputs": [],
   "source": [
    "# !pip install pandas pyspark numpy scipy requests matplotlib"
   ]
  },
  {
   "cell_type": "code",
   "execution_count": 35,
   "metadata": {},
   "outputs": [
    {
     "name": "stdout",
     "output_type": "stream",
     "text": [
      "The autoreload extension is already loaded. To reload it, use:\n",
      "  %reload_ext autoreload\n"
     ]
    }
   ],
   "source": [
    "%load_ext autoreload\n",
    "# %autoreload 2"
   ]
  },
  {
   "cell_type": "code",
   "execution_count": 1,
   "metadata": {},
   "outputs": [
    {
     "data": {
      "text/html": [
       "<style>\n",
       "table {float:left}\n",
       "</style>\n"
      ],
      "text/plain": [
       "<IPython.core.display.HTML object>"
      ]
     },
     "metadata": {},
     "output_type": "display_data"
    }
   ],
   "source": [
    "%%html\n",
    "<style>\n",
    "table {float:left}\n",
    "</style>"
   ]
  },
  {
   "cell_type": "code",
   "execution_count": 4,
   "metadata": {},
   "outputs": [],
   "source": [
    "# All imports and installs\n",
    "import pandas as pd\n",
    "import requests\n",
    "import json\n",
    "from lxml import html\n",
    "from pyspark.sql import SparkSession\n",
    "from pyspark.sql import functions as F\n",
    "from pyspark.sql.window import Window\n",
    "from pyspark.sql.types import StructType, StructField, StringType, DoubleType, IntegerType, DateType, TimestampType\n",
    "import plotly.express as px"
   ]
  },
  {
   "cell_type": "markdown",
   "metadata": {},
   "source": [
    "### Step 1: Scope the Project and Gather Data\n",
    "\n",
    "#### Scope \n",
    "This project shows how open capital companies are distributed by State, City, Activity Sector, and Shareholding Control Type\n",
    "\n",
    "#### Describe and Gather Data \n",
    "The data used in this project contains information from Brazilian open capital companies, and is available on the PORTAL BRASILEIRO DE DADOS ABERTOS (http://dados.cvm.gov.br/dataset/cia_aberta-cad) along with a data dictionary that has been saved in the `data` directory of this project.\n",
    "\n",
    "All data come in Brazilian Portuguese, and I share below the translated name of used fields:\n",
    "\n",
    "* **CNPJ_CIA**: Company Document\n",
    "* **CD_CVM**: Company ID on CVM\n",
    "* **DENOM_SOCIAL**: Social denomination / Company business name\n",
    "* **DENOM_COMERC**: Comercial denomination / Company comercial name\n",
    "* **DT_REG**: Registration Date\n",
    "* **SIT**: Status / Situation\n",
    "* **SETOR_ATIV**: Activity Sector\n",
    "* **CONTROLE_ACIONARIO**: Shareholding control type\n",
    "* **UF**: State\n",
    "* **MUN**: City\n",
    "\n",
    "* **{*}_RESP**: Responsible person fields, eg.: UF_RESP: State of responsible person\n",
    "\n",
    "Other important translations:\n",
    "\n",
    "* **ATIVO**: Active\n",
    "* **CENCELADA**: Cencelled\n",
    "\n",
    "\n",
    "---\n",
    "    **IMPORTANT!** if you overwrite files, downloading from original source, you will need to convert files to UTF8 encoding. Use the follow command on shell:\n",
    "\n",
    "```sh\n",
    "iconv -f WINDOWS-1252 -t UTF-8 meta_cad_cia_aberta.txt > meta_cad_cia_aberta.tmp.txt && mv -f meta_cad_cia_aberta.tmp.txt meta_cad_cia_aberta.txt\n",
    "iconv -f WINDOWS-1252 -t UTF-8 cad_cia_aberta.csv > cad_cia_aberta.tmp.csv && mv -f cad_cia_aberta.tmp.csv cad_cia_aberta.csv\n",
    "```\n",
    "---"
   ]
  },
  {
   "cell_type": "code",
   "execution_count": 6,
   "metadata": {},
   "outputs": [],
   "source": [
    "# Starting Spark\n",
    "spark = SparkSession\\\n",
    "    .builder\\\n",
    "    .config(\"spark.jars.packages\", \"org.apache.hadoop:hadoop-aws:2.7.0\")\\\n",
    "    .getOrCreate()"
   ]
  },
  {
   "cell_type": "code",
   "execution_count": 3,
   "metadata": {},
   "outputs": [],
   "source": [
    "# Reading data\n",
    "dataset_schema = StructType([\n",
    "    StructField(\"CNPJ_CIA\", StringType()),\n",
    "    StructField(\"DENOM_SOCIAL\", StringType()),\n",
    "    StructField(\"DENOM_COMERC\", StringType()),\n",
    "    StructField(\"DT_REG\", DateType()),\n",
    "    StructField(\"DT_CONST\", DateType()),\n",
    "    StructField(\"DT_CANCEL\", DateType()),\n",
    "    StructField(\"MOTIVO_CANCEL\", StringType()),\n",
    "    StructField(\"SIT\", StringType()),\n",
    "    StructField(\"DT_INI_SIT\", DateType()),\n",
    "    StructField(\"CD_CVM\", IntegerType()),\n",
    "    StructField(\"SETOR_ATIV\", StringType()),\n",
    "    StructField(\"TP_MERC\", StringType()),\n",
    "    StructField(\"CATEG_REG\", StringType()),\n",
    "    StructField(\"DT_INI_CATEG\", StringType()),\n",
    "    StructField(\"SIT_EMISSOR\", StringType()),\n",
    "    StructField(\"DT_INI_SIT_EMISSOR\", DateType()),\n",
    "    StructField(\"CONTROLE_ACIONARIO\", StringType()),\n",
    "    StructField(\"TP_ENDER\", StringType()),\n",
    "    StructField(\"LOGRADOURO\", StringType()),\n",
    "    StructField(\"COMPL\", StringType()),\n",
    "    StructField(\"BAIRRO\", StringType()),\n",
    "    StructField(\"MUN\", StringType()),\n",
    "    StructField(\"UF\", StringType()),\n",
    "    StructField(\"PAIS\", StringType()),\n",
    "    StructField(\"CEP\", IntegerType()),\n",
    "    StructField(\"DDD_TEL\", IntegerType()),\n",
    "    StructField(\"TEL\", StringType()),\n",
    "    StructField(\"DDD_FAX\", IntegerType()),\n",
    "    StructField(\"FAX\", IntegerType()),\n",
    "    StructField(\"EMAIL\", StringType()),\n",
    "    StructField(\"TP_RESP\", StringType()),\n",
    "    StructField(\"RESP\", StringType()),\n",
    "    StructField(\"DT_INI_RESP\", DateType()),\n",
    "    StructField(\"LOGRADOURO_RESP\", StringType()),\n",
    "    StructField(\"COMPL_RESP\", StringType()),\n",
    "    StructField(\"BAIRRO_RESP\", StringType()),\n",
    "    StructField(\"MUN_RESP\", StringType()),\n",
    "    StructField(\"UF_RESP\", StringType()),\n",
    "    StructField(\"PAIS_RESP\", StringType()),\n",
    "    StructField(\"CEP_RESP\", StringType()),\n",
    "    StructField(\"DDD_TEL_RESP\", IntegerType()),\n",
    "    StructField(\"TEL_RESP\", IntegerType()),\n",
    "    StructField(\"DDD_FAX_RESP\", IntegerType()),\n",
    "    StructField(\"FAX_RESP\", IntegerType()),\n",
    "    StructField(\"EMAIL_RESP\", StringType()),\n",
    "    StructField(\"CNPJ_AUDITOR\", StringType()),\n",
    "    StructField(\"AUDITOR\", StringType())\n",
    "])\n",
    "\n",
    "df_spark = spark.read.options(\n",
    "    header='True',\n",
    "    inferSchema='True',\n",
    "    delimiter=';'\n",
    ").csv(\"./data/cad_cia_aberta.csv\", schema=dataset_schema)"
   ]
  },
  {
   "cell_type": "code",
   "execution_count": 4,
   "metadata": {},
   "outputs": [
    {
     "data": {
      "text/html": [
       "<div>\n",
       "<style scoped>\n",
       "    .dataframe tbody tr th:only-of-type {\n",
       "        vertical-align: middle;\n",
       "    }\n",
       "\n",
       "    .dataframe tbody tr th {\n",
       "        vertical-align: top;\n",
       "    }\n",
       "\n",
       "    .dataframe thead th {\n",
       "        text-align: right;\n",
       "    }\n",
       "</style>\n",
       "<table border=\"1\" class=\"dataframe\">\n",
       "  <thead>\n",
       "    <tr style=\"text-align: right;\">\n",
       "      <th></th>\n",
       "      <th>CNPJ_CIA</th>\n",
       "      <th>DENOM_SOCIAL</th>\n",
       "      <th>DENOM_COMERC</th>\n",
       "      <th>DT_REG</th>\n",
       "      <th>DT_CONST</th>\n",
       "      <th>DT_CANCEL</th>\n",
       "      <th>MOTIVO_CANCEL</th>\n",
       "      <th>SIT</th>\n",
       "      <th>DT_INI_SIT</th>\n",
       "      <th>CD_CVM</th>\n",
       "      <th>...</th>\n",
       "      <th>UF_RESP</th>\n",
       "      <th>PAIS_RESP</th>\n",
       "      <th>CEP_RESP</th>\n",
       "      <th>DDD_TEL_RESP</th>\n",
       "      <th>TEL_RESP</th>\n",
       "      <th>DDD_FAX_RESP</th>\n",
       "      <th>FAX_RESP</th>\n",
       "      <th>EMAIL_RESP</th>\n",
       "      <th>CNPJ_AUDITOR</th>\n",
       "      <th>AUDITOR</th>\n",
       "    </tr>\n",
       "  </thead>\n",
       "  <tbody>\n",
       "    <tr>\n",
       "      <th>0</th>\n",
       "      <td>08.773.135/0001-00</td>\n",
       "      <td>2W ENERGIA S.A.</td>\n",
       "      <td>None</td>\n",
       "      <td>2020-10-29</td>\n",
       "      <td>2007-03-23</td>\n",
       "      <td>None</td>\n",
       "      <td>None</td>\n",
       "      <td>ATIVO</td>\n",
       "      <td>2020-10-29</td>\n",
       "      <td>25224</td>\n",
       "      <td>...</td>\n",
       "      <td>SP</td>\n",
       "      <td>None</td>\n",
       "      <td>4707000</td>\n",
       "      <td>11.0</td>\n",
       "      <td>39579400.0</td>\n",
       "      <td>11.0</td>\n",
       "      <td>39579499.0</td>\n",
       "      <td>ri@2wenergia.com.br</td>\n",
       "      <td>61.366.936/0001-25</td>\n",
       "      <td>ERNST &amp; YOUNG AUDITORES INDEPENDENTES S/S</td>\n",
       "    </tr>\n",
       "    <tr>\n",
       "      <th>1</th>\n",
       "      <td>11.396.633/0001-87</td>\n",
       "      <td>3A COMPANHIA SECURITIZADORA</td>\n",
       "      <td>TRIPLO A  COMPANHIA SECURITIZADORA</td>\n",
       "      <td>2010-03-08</td>\n",
       "      <td>2009-11-03</td>\n",
       "      <td>2015-12-18</td>\n",
       "      <td>Cancelamento Voluntário - IN CVM 480/09</td>\n",
       "      <td>CANCELADA</td>\n",
       "      <td>2015-12-18</td>\n",
       "      <td>21954</td>\n",
       "      <td>...</td>\n",
       "      <td>RJ</td>\n",
       "      <td>None</td>\n",
       "      <td>20020000</td>\n",
       "      <td>21.0</td>\n",
       "      <td>22338867.0</td>\n",
       "      <td>21.0</td>\n",
       "      <td>22338867.0</td>\n",
       "      <td>juridico@triploasec.com.br</td>\n",
       "      <td>60.525.706/0001-07</td>\n",
       "      <td>MOORE STEPHENS LIMA LUCCHESI AUDITORES INDEPEN...</td>\n",
       "    </tr>\n",
       "    <tr>\n",
       "      <th>2</th>\n",
       "      <td>12.091.809/0001-55</td>\n",
       "      <td>3R PETROLEUM OLÉO E GÁS S.A.</td>\n",
       "      <td>None</td>\n",
       "      <td>2020-11-09</td>\n",
       "      <td>2010-06-08</td>\n",
       "      <td>None</td>\n",
       "      <td>None</td>\n",
       "      <td>ATIVO</td>\n",
       "      <td>2020-11-09</td>\n",
       "      <td>25291</td>\n",
       "      <td>...</td>\n",
       "      <td>RJ</td>\n",
       "      <td>None</td>\n",
       "      <td>22250180</td>\n",
       "      <td>21.0</td>\n",
       "      <td>21455555.0</td>\n",
       "      <td>0.0</td>\n",
       "      <td>0.0</td>\n",
       "      <td>ri@3rpetroleum.com.br</td>\n",
       "      <td>57.755.217/0001-29</td>\n",
       "      <td>KPMG AUDITORES INDEPENDENTES</td>\n",
       "    </tr>\n",
       "    <tr>\n",
       "      <th>3</th>\n",
       "      <td>01.547.749/0001-16</td>\n",
       "      <td>521 PARTICIPAÇOES S.A. - EM LIQUIDAÇÃO EXTRAJU...</td>\n",
       "      <td>521 PARTICIPAÇÕES S/A</td>\n",
       "      <td>1997-07-11</td>\n",
       "      <td>1996-07-30</td>\n",
       "      <td>None</td>\n",
       "      <td>None</td>\n",
       "      <td>ATIVO</td>\n",
       "      <td>1997-07-11</td>\n",
       "      <td>16330</td>\n",
       "      <td>...</td>\n",
       "      <td>None</td>\n",
       "      <td>None</td>\n",
       "      <td>None</td>\n",
       "      <td>NaN</td>\n",
       "      <td>NaN</td>\n",
       "      <td>NaN</td>\n",
       "      <td>NaN</td>\n",
       "      <td>None</td>\n",
       "      <td>10.830.108/0001-65</td>\n",
       "      <td>GRANT THORNTON AUDITORES INDEPENDENTES</td>\n",
       "    </tr>\n",
       "    <tr>\n",
       "      <th>4</th>\n",
       "      <td>01.851.771/0001-55</td>\n",
       "      <td>524 PARTICIPAÇOES SA</td>\n",
       "      <td>524 PARTICIPACOES SA</td>\n",
       "      <td>1997-05-30</td>\n",
       "      <td>1997-04-02</td>\n",
       "      <td>None</td>\n",
       "      <td>None</td>\n",
       "      <td>ATIVO</td>\n",
       "      <td>1997-05-30</td>\n",
       "      <td>16284</td>\n",
       "      <td>...</td>\n",
       "      <td>RJ</td>\n",
       "      <td>None</td>\n",
       "      <td>20030021</td>\n",
       "      <td>21.0</td>\n",
       "      <td>38043700.0</td>\n",
       "      <td>21.0</td>\n",
       "      <td>38043480.0</td>\n",
       "      <td>gar@opportunity.com.br</td>\n",
       "      <td>10.830.108/0001-65</td>\n",
       "      <td>GRANT THORNTON AUDITORES INDEPENDENTES</td>\n",
       "    </tr>\n",
       "  </tbody>\n",
       "</table>\n",
       "<p>5 rows × 47 columns</p>\n",
       "</div>"
      ],
      "text/plain": [
       "             CNPJ_CIA                                       DENOM_SOCIAL  \\\n",
       "0  08.773.135/0001-00                                    2W ENERGIA S.A.   \n",
       "1  11.396.633/0001-87                        3A COMPANHIA SECURITIZADORA   \n",
       "2  12.091.809/0001-55                       3R PETROLEUM OLÉO E GÁS S.A.   \n",
       "3  01.547.749/0001-16  521 PARTICIPAÇOES S.A. - EM LIQUIDAÇÃO EXTRAJU...   \n",
       "4  01.851.771/0001-55                               524 PARTICIPAÇOES SA   \n",
       "\n",
       "                         DENOM_COMERC      DT_REG    DT_CONST   DT_CANCEL  \\\n",
       "0                                None  2020-10-29  2007-03-23        None   \n",
       "1  TRIPLO A  COMPANHIA SECURITIZADORA  2010-03-08  2009-11-03  2015-12-18   \n",
       "2                                None  2020-11-09  2010-06-08        None   \n",
       "3               521 PARTICIPAÇÕES S/A  1997-07-11  1996-07-30        None   \n",
       "4                524 PARTICIPACOES SA  1997-05-30  1997-04-02        None   \n",
       "\n",
       "                             MOTIVO_CANCEL        SIT  DT_INI_SIT  CD_CVM  \\\n",
       "0                                     None      ATIVO  2020-10-29   25224   \n",
       "1  Cancelamento Voluntário - IN CVM 480/09  CANCELADA  2015-12-18   21954   \n",
       "2                                     None      ATIVO  2020-11-09   25291   \n",
       "3                                     None      ATIVO  1997-07-11   16330   \n",
       "4                                     None      ATIVO  1997-05-30   16284   \n",
       "\n",
       "   ... UF_RESP PAIS_RESP  CEP_RESP DDD_TEL_RESP    TEL_RESP DDD_FAX_RESP  \\\n",
       "0  ...      SP      None   4707000         11.0  39579400.0         11.0   \n",
       "1  ...      RJ      None  20020000         21.0  22338867.0         21.0   \n",
       "2  ...      RJ      None  22250180         21.0  21455555.0          0.0   \n",
       "3  ...    None      None      None          NaN         NaN          NaN   \n",
       "4  ...      RJ      None  20030021         21.0  38043700.0         21.0   \n",
       "\n",
       "     FAX_RESP                  EMAIL_RESP        CNPJ_AUDITOR  \\\n",
       "0  39579499.0         ri@2wenergia.com.br  61.366.936/0001-25   \n",
       "1  22338867.0  juridico@triploasec.com.br  60.525.706/0001-07   \n",
       "2         0.0       ri@3rpetroleum.com.br  57.755.217/0001-29   \n",
       "3         NaN                        None  10.830.108/0001-65   \n",
       "4  38043480.0      gar@opportunity.com.br  10.830.108/0001-65   \n",
       "\n",
       "                                             AUDITOR  \n",
       "0          ERNST & YOUNG AUDITORES INDEPENDENTES S/S  \n",
       "1  MOORE STEPHENS LIMA LUCCHESI AUDITORES INDEPEN...  \n",
       "2                       KPMG AUDITORES INDEPENDENTES  \n",
       "3             GRANT THORNTON AUDITORES INDEPENDENTES  \n",
       "4             GRANT THORNTON AUDITORES INDEPENDENTES  \n",
       "\n",
       "[5 rows x 47 columns]"
      ]
     },
     "execution_count": 4,
     "metadata": {},
     "output_type": "execute_result"
    }
   ],
   "source": [
    "df_spark.toPandas().head()"
   ]
  },
  {
   "cell_type": "code",
   "execution_count": 46,
   "metadata": {},
   "outputs": [],
   "source": [
    "# df_spark.printSchema()"
   ]
  },
  {
   "cell_type": "code",
   "execution_count": 5,
   "metadata": {},
   "outputs": [],
   "source": [
    "# Write to parquet\n",
    "df_spark.write.parquet(\"./data/parquet/br_open_cias_data\", mode=\"overwrite\")\n",
    "df_spark=spark.read.parquet(\"./data/parquet/br_open_cias_data\")"
   ]
  },
  {
   "cell_type": "markdown",
   "metadata": {},
   "source": [
    "### Step 2: Explore and Assess the Data\n",
    "\n",
    "#### Explore the Data \n",
    "Identify data quality issues, like missing values, duplicate data, etc."
   ]
  },
  {
   "cell_type": "code",
   "execution_count": 6,
   "metadata": {},
   "outputs": [],
   "source": [
    "# Create temp view\n",
    "df_spark.createOrReplaceTempView(\"br_open_cias_dataset\")"
   ]
  },
  {
   "cell_type": "code",
   "execution_count": 7,
   "metadata": {},
   "outputs": [
    {
     "data": {
      "text/html": [
       "<div>\n",
       "<style scoped>\n",
       "    .dataframe tbody tr th:only-of-type {\n",
       "        vertical-align: middle;\n",
       "    }\n",
       "\n",
       "    .dataframe tbody tr th {\n",
       "        vertical-align: top;\n",
       "    }\n",
       "\n",
       "    .dataframe thead th {\n",
       "        text-align: right;\n",
       "    }\n",
       "</style>\n",
       "<table border=\"1\" class=\"dataframe\">\n",
       "  <thead>\n",
       "    <tr style=\"text-align: right;\">\n",
       "      <th></th>\n",
       "      <th>0</th>\n",
       "    </tr>\n",
       "  </thead>\n",
       "  <tbody>\n",
       "    <tr>\n",
       "      <th>MISSING_CNPJ_CIA</th>\n",
       "      <td>0</td>\n",
       "    </tr>\n",
       "    <tr>\n",
       "      <th>MISSING_CD_CVM</th>\n",
       "      <td>0</td>\n",
       "    </tr>\n",
       "    <tr>\n",
       "      <th>MISSING_DENOM_SOCIAL</th>\n",
       "      <td>0</td>\n",
       "    </tr>\n",
       "    <tr>\n",
       "      <th>MISSING_DENOM_COMERC</th>\n",
       "      <td>54</td>\n",
       "    </tr>\n",
       "    <tr>\n",
       "      <th>MISSING_DT_REG</th>\n",
       "      <td>0</td>\n",
       "    </tr>\n",
       "    <tr>\n",
       "      <th>MISSING_SIT</th>\n",
       "      <td>0</td>\n",
       "    </tr>\n",
       "    <tr>\n",
       "      <th>MISSING_SETOR_ATIV</th>\n",
       "      <td>6</td>\n",
       "    </tr>\n",
       "    <tr>\n",
       "      <th>MISSING_CONTROLE_ACIONARIO</th>\n",
       "      <td>0</td>\n",
       "    </tr>\n",
       "    <tr>\n",
       "      <th>MISSING_UF</th>\n",
       "      <td>1</td>\n",
       "    </tr>\n",
       "    <tr>\n",
       "      <th>MISSING_MUN</th>\n",
       "      <td>39</td>\n",
       "    </tr>\n",
       "  </tbody>\n",
       "</table>\n",
       "</div>"
      ],
      "text/plain": [
       "                             0\n",
       "MISSING_CNPJ_CIA             0\n",
       "MISSING_CD_CVM               0\n",
       "MISSING_DENOM_SOCIAL         0\n",
       "MISSING_DENOM_COMERC        54\n",
       "MISSING_DT_REG               0\n",
       "MISSING_SIT                  0\n",
       "MISSING_SETOR_ATIV           6\n",
       "MISSING_CONTROLE_ACIONARIO   0\n",
       "MISSING_UF                   1\n",
       "MISSING_MUN                 39"
      ]
     },
     "execution_count": 7,
     "metadata": {},
     "output_type": "execute_result"
    }
   ],
   "source": [
    "##### Verify general missing values\n",
    "missing_values = spark.sql(\"\"\"\n",
    "    SELECT \n",
    "        COUNT(1) - COUNT(CNPJ_CIA) as MISSING_CNPJ_CIA,\n",
    "        COUNT(1) - COUNT(CD_CVM) as MISSING_CD_CVM,\n",
    "        COUNT(1) - COUNT(DENOM_SOCIAL) as MISSING_DENOM_SOCIAL,\n",
    "        COUNT(1) - COUNT(DENOM_COMERC) as MISSING_DENOM_COMERC,\n",
    "        COUNT(1) - COUNT(DT_REG) as MISSING_DT_REG,\n",
    "        COUNT(1) - COUNT(SIT) as MISSING_SIT,\n",
    "        COUNT(1) - COUNT(SETOR_ATIV) as MISSING_SETOR_ATIV,\n",
    "        COUNT(1) - COUNT(CONTROLE_ACIONARIO) as MISSING_CONTROLE_ACIONARIO,\n",
    "        COUNT(1) - COUNT(UF) as MISSING_UF,\n",
    "        COUNT(1) - COUNT(MUN) as MISSING_MUN\n",
    "    FROM br_open_cias_dataset\n",
    "\"\"\")\n",
    "missing_values.toPandas().transpose()"
   ]
  },
  {
   "cell_type": "code",
   "execution_count": 8,
   "metadata": {},
   "outputs": [
    {
     "data": {
      "text/html": [
       "<div>\n",
       "<style scoped>\n",
       "    .dataframe tbody tr th:only-of-type {\n",
       "        vertical-align: middle;\n",
       "    }\n",
       "\n",
       "    .dataframe tbody tr th {\n",
       "        vertical-align: top;\n",
       "    }\n",
       "\n",
       "    .dataframe thead th {\n",
       "        text-align: right;\n",
       "    }\n",
       "</style>\n",
       "<table border=\"1\" class=\"dataframe\">\n",
       "  <thead>\n",
       "    <tr style=\"text-align: right;\">\n",
       "      <th></th>\n",
       "      <th>0</th>\n",
       "    </tr>\n",
       "  </thead>\n",
       "  <tbody>\n",
       "    <tr>\n",
       "      <th>DUPLICATED_CNPJ_CIA</th>\n",
       "      <td>0</td>\n",
       "    </tr>\n",
       "    <tr>\n",
       "      <th>DUPLICATED_CD_CVM</th>\n",
       "      <td>0</td>\n",
       "    </tr>\n",
       "    <tr>\n",
       "      <th>DUPLICATED_DENOM_SOCIAL</th>\n",
       "      <td>0</td>\n",
       "    </tr>\n",
       "    <tr>\n",
       "      <th>DUPLICATED_DENOM_COMERC</th>\n",
       "      <td>0</td>\n",
       "    </tr>\n",
       "    <tr>\n",
       "      <th>DUPLICATED_DT_REG</th>\n",
       "      <td>107</td>\n",
       "    </tr>\n",
       "    <tr>\n",
       "      <th>DUPLICATED_SIT</th>\n",
       "      <td>674</td>\n",
       "    </tr>\n",
       "    <tr>\n",
       "      <th>DUPLICATED_SETOR_ATIV</th>\n",
       "      <td>619</td>\n",
       "    </tr>\n",
       "    <tr>\n",
       "      <th>DUPLICATED_CONTROLE_ACIONARIO</th>\n",
       "      <td>669</td>\n",
       "    </tr>\n",
       "    <tr>\n",
       "      <th>DUPLICATED_UF</th>\n",
       "      <td>653</td>\n",
       "    </tr>\n",
       "    <tr>\n",
       "      <th>DUPLICATED_MUN</th>\n",
       "      <td>527</td>\n",
       "    </tr>\n",
       "  </tbody>\n",
       "</table>\n",
       "</div>"
      ],
      "text/plain": [
       "                                 0\n",
       "DUPLICATED_CNPJ_CIA              0\n",
       "DUPLICATED_CD_CVM                0\n",
       "DUPLICATED_DENOM_SOCIAL          0\n",
       "DUPLICATED_DENOM_COMERC          0\n",
       "DUPLICATED_DT_REG              107\n",
       "DUPLICATED_SIT                 674\n",
       "DUPLICATED_SETOR_ATIV          619\n",
       "DUPLICATED_CONTROLE_ACIONARIO  669\n",
       "DUPLICATED_UF                  653\n",
       "DUPLICATED_MUN                 527"
      ]
     },
     "execution_count": 8,
     "metadata": {},
     "output_type": "execute_result"
    }
   ],
   "source": [
    "##### Verify duplications\n",
    "duplicated_values = spark.sql(\"\"\"\n",
    "    SELECT \n",
    "        COUNT(CNPJ_CIA) - COUNT(DISTINCT CNPJ_CIA) - 1 as DUPLICATED_CNPJ_CIA,\n",
    "        COUNT(CD_CVM) - COUNT(DISTINCT CD_CVM) - 1 as DUPLICATED_CD_CVM,\n",
    "        COUNT(DENOM_SOCIAL) - COUNT(DISTINCT DENOM_SOCIAL) - 1 as DUPLICATED_DENOM_SOCIAL,\n",
    "        COUNT(DENOM_COMERC) - COUNT(DISTINCT DENOM_COMERC) - 1 as DUPLICATED_DENOM_COMERC,\n",
    "        COUNT(DT_REG) - COUNT(DISTINCT DT_REG) - 1 as DUPLICATED_DT_REG,\n",
    "        COUNT(SIT) - COUNT(DISTINCT SIT) - 1 as DUPLICATED_SIT,\n",
    "        COUNT(SETOR_ATIV) - COUNT(DISTINCT SETOR_ATIV) - 1 as DUPLICATED_SETOR_ATIV,\n",
    "        COUNT(CONTROLE_ACIONARIO) - COUNT(DISTINCT CONTROLE_ACIONARIO) - 1 as DUPLICATED_CONTROLE_ACIONARIO,\n",
    "        COUNT(UF) - COUNT(DISTINCT UF) - 1 as DUPLICATED_UF,\n",
    "        COUNT(MUN) - COUNT(DISTINCT MUN) - 1 as DUPLICATED_MUN\n",
    "    FROM br_open_cias_dataset\n",
    "    WHERE SIT = 'ATIVO'\n",
    "\"\"\")\n",
    "duplicated_values.toPandas().transpose()"
   ]
  },
  {
   "cell_type": "markdown",
   "metadata": {},
   "source": [
    "### There's no relevant duplications or missing values\n",
    "\n",
    "Based on identifyers fields `CNPJ`, adn `CD_CVM`, there's no relevant duplications or missing values"
   ]
  },
  {
   "cell_type": "markdown",
   "metadata": {},
   "source": [
    "### Step 3: Define the Data Model\n",
    "#### 3.1 Conceptual Data Model\n",
    "\n",
    "![Conceptual Data Model](./docs/img/dim_model.png)\n",
    "\n",
    "\n",
    "#### 3.2 Mapping Out Data Pipelines\n",
    "\n",
    "The project follows the follow steps to mapping data into conveptual data model:\n",
    "* **Step 1**: Extract and transform companies data, load to `dim_company` table, and save parquet file\n",
    "* **Step 2**: Extract and transform companies location data, load into `dim_location` table, and save parquet file\n",
    "* **Step 3**: Extract and transform CVM registration data from csv file and company location id from `dim_location`, load into `fact_company_registration` table, and save parquet file\n",
    "* **Step 4**: Extract and transform registration dates from `fact_company_registration` table, load into `dim_time` table, and save parquet file\n"
   ]
  },
  {
   "cell_type": "markdown",
   "metadata": {},
   "source": [
    "### Step 4: Run Pipelines to Model the Data \n",
    "#### 4.1 Create the data model\n",
    "Build the data pipelines to create the data model."
   ]
  },
  {
   "cell_type": "code",
   "execution_count": 9,
   "metadata": {},
   "outputs": [
    {
     "data": {
      "text/html": [
       "<div>\n",
       "<style scoped>\n",
       "    .dataframe tbody tr th:only-of-type {\n",
       "        vertical-align: middle;\n",
       "    }\n",
       "\n",
       "    .dataframe tbody tr th {\n",
       "        vertical-align: top;\n",
       "    }\n",
       "\n",
       "    .dataframe thead th {\n",
       "        text-align: right;\n",
       "    }\n",
       "</style>\n",
       "<table border=\"1\" class=\"dataframe\">\n",
       "  <thead>\n",
       "    <tr style=\"text-align: right;\">\n",
       "      <th></th>\n",
       "      <th>cnpj</th>\n",
       "      <th>company_name</th>\n",
       "      <th>business_name</th>\n",
       "      <th>sector</th>\n",
       "      <th>control_type</th>\n",
       "      <th>state</th>\n",
       "      <th>city</th>\n",
       "      <th>neighborhood</th>\n",
       "    </tr>\n",
       "  </thead>\n",
       "  <tbody>\n",
       "    <tr>\n",
       "      <th>0</th>\n",
       "      <td>19.526.748/0001-50</td>\n",
       "      <td>COMPANHIA INDUSTRIAL CATAGUASES</td>\n",
       "      <td>COMPANHIA INDUSTRIAL CATAGUASES</td>\n",
       "      <td>Têxtil e Vestuário</td>\n",
       "      <td>PRIVADO</td>\n",
       "      <td>MG</td>\n",
       "      <td>CATAGUASES</td>\n",
       "      <td>VILA TEREZA</td>\n",
       "    </tr>\n",
       "    <tr>\n",
       "      <th>1</th>\n",
       "      <td>28.201.130/0001-01</td>\n",
       "      <td>ENERGISA TRANSMISSÃO DE ENERGIA S.A.</td>\n",
       "      <td>ENERGISA TRANSMISSÃO DE ENERGIA S.A.</td>\n",
       "      <td>Emp. Adm. Part. - Energia Elétrica</td>\n",
       "      <td>PRIVADO</td>\n",
       "      <td>MG</td>\n",
       "      <td>CATAGUASES</td>\n",
       "      <td>CENTRO</td>\n",
       "    </tr>\n",
       "    <tr>\n",
       "      <th>2</th>\n",
       "      <td>12.979.898/0001-70</td>\n",
       "      <td>FORTE SECURITIZADORA S.A.</td>\n",
       "      <td>FORTE SECURITIZADORA S/A</td>\n",
       "      <td>Securitização de Recebíveis</td>\n",
       "      <td>PRIVADO</td>\n",
       "      <td>SP</td>\n",
       "      <td>SÃO PAULO</td>\n",
       "      <td>VILA OLíMPIA</td>\n",
       "    </tr>\n",
       "    <tr>\n",
       "      <th>3</th>\n",
       "      <td>92.012.467/0001-70</td>\n",
       "      <td>GRAZZIOTIN SA</td>\n",
       "      <td>GRAZZIOTIN</td>\n",
       "      <td>Comércio (Atacado e Varejo)</td>\n",
       "      <td>PRIVADO</td>\n",
       "      <td>RS</td>\n",
       "      <td>None</td>\n",
       "      <td>SÃO CRISTOVAO</td>\n",
       "    </tr>\n",
       "    <tr>\n",
       "      <th>4</th>\n",
       "      <td>10.240.186/0001-00</td>\n",
       "      <td>LINHAS DE XINGU TRANSMISSORA DE ENERGIA S.A.</td>\n",
       "      <td>LINHAS DE XINGU TRANSMISSORA DE ENERGIA S.A.</td>\n",
       "      <td>Energia Elétrica</td>\n",
       "      <td>PRIVADO</td>\n",
       "      <td>RJ</td>\n",
       "      <td>RIO DE JANEIRO</td>\n",
       "      <td>Centro</td>\n",
       "    </tr>\n",
       "  </tbody>\n",
       "</table>\n",
       "</div>"
      ],
      "text/plain": [
       "                 cnpj                                  company_name  \\\n",
       "0  19.526.748/0001-50               COMPANHIA INDUSTRIAL CATAGUASES   \n",
       "1  28.201.130/0001-01          ENERGISA TRANSMISSÃO DE ENERGIA S.A.   \n",
       "2  12.979.898/0001-70                     FORTE SECURITIZADORA S.A.   \n",
       "3  92.012.467/0001-70                                 GRAZZIOTIN SA   \n",
       "4  10.240.186/0001-00  LINHAS DE XINGU TRANSMISSORA DE ENERGIA S.A.   \n",
       "\n",
       "                                  business_name  \\\n",
       "0               COMPANHIA INDUSTRIAL CATAGUASES   \n",
       "1          ENERGISA TRANSMISSÃO DE ENERGIA S.A.   \n",
       "2                      FORTE SECURITIZADORA S/A   \n",
       "3                                    GRAZZIOTIN   \n",
       "4  LINHAS DE XINGU TRANSMISSORA DE ENERGIA S.A.   \n",
       "\n",
       "                               sector control_type state            city  \\\n",
       "0                  Têxtil e Vestuário      PRIVADO    MG      CATAGUASES   \n",
       "1  Emp. Adm. Part. - Energia Elétrica      PRIVADO    MG      CATAGUASES   \n",
       "2         Securitização de Recebíveis      PRIVADO    SP       SÃO PAULO   \n",
       "3         Comércio (Atacado e Varejo)      PRIVADO    RS            None   \n",
       "4                    Energia Elétrica      PRIVADO    RJ  RIO DE JANEIRO   \n",
       "\n",
       "    neighborhood  \n",
       "0    VILA TEREZA  \n",
       "1         CENTRO  \n",
       "2   VILA OLíMPIA  \n",
       "3  SÃO CRISTOVAO  \n",
       "4         Centro  "
      ]
     },
     "execution_count": 9,
     "metadata": {},
     "output_type": "execute_result"
    }
   ],
   "source": [
    "# Step 1 - dim_company\n",
    "open_cias = spark.read.parquet(\"./data/parquet/br_open_cias_data\")\n",
    "open_cias.createOrReplaceTempView(\"open_cias\")\n",
    "dim_company = spark.sql(\"\"\"\n",
    "    SELECT \n",
    "        CNPJ_CIA as cnpj,\n",
    "        DENOM_SOCIAL as company_name,\n",
    "        DENOM_COMERC as business_name,\n",
    "        SETOR_ATIV as sector,\n",
    "        CONTROLE_ACIONARIO as control_type,\n",
    "        UF as state,\n",
    "        MUN as city,\n",
    "        BAIRRO as neighborhood\n",
    "    FROM open_cias\n",
    "    WHERE SIT = 'ATIVO'\n",
    "\"\"\").dropDuplicates()\n",
    "dim_company.createOrReplaceTempView(\"dim_company\")\n",
    "dim_company.write.parquet('./data/parquet/dim_company', mode=\"overwrite\")\n",
    "\n",
    "dim_company.toPandas().head()"
   ]
  },
  {
   "cell_type": "code",
   "execution_count": 10,
   "metadata": {},
   "outputs": [
    {
     "data": {
      "text/html": [
       "<div>\n",
       "<style scoped>\n",
       "    .dataframe tbody tr th:only-of-type {\n",
       "        vertical-align: middle;\n",
       "    }\n",
       "\n",
       "    .dataframe tbody tr th {\n",
       "        vertical-align: top;\n",
       "    }\n",
       "\n",
       "    .dataframe thead th {\n",
       "        text-align: right;\n",
       "    }\n",
       "</style>\n",
       "<table border=\"1\" class=\"dataframe\">\n",
       "  <thead>\n",
       "    <tr style=\"text-align: right;\">\n",
       "      <th></th>\n",
       "      <th>state</th>\n",
       "      <th>city</th>\n",
       "      <th>neighborhood</th>\n",
       "      <th>location_id</th>\n",
       "    </tr>\n",
       "  </thead>\n",
       "  <tbody>\n",
       "    <tr>\n",
       "      <th>0</th>\n",
       "      <td>AM</td>\n",
       "      <td>MANAUS</td>\n",
       "      <td>DISTRITO INDUSTRIAL</td>\n",
       "      <td>1</td>\n",
       "    </tr>\n",
       "    <tr>\n",
       "      <th>1</th>\n",
       "      <td>BA</td>\n",
       "      <td>None</td>\n",
       "      <td>COPEC</td>\n",
       "      <td>2</td>\n",
       "    </tr>\n",
       "    <tr>\n",
       "      <th>2</th>\n",
       "      <td>BA</td>\n",
       "      <td>None</td>\n",
       "      <td>Copec</td>\n",
       "      <td>3</td>\n",
       "    </tr>\n",
       "    <tr>\n",
       "      <th>3</th>\n",
       "      <td>BA</td>\n",
       "      <td>None</td>\n",
       "      <td>Santiago</td>\n",
       "      <td>4</td>\n",
       "    </tr>\n",
       "    <tr>\n",
       "      <th>4</th>\n",
       "      <td>BA</td>\n",
       "      <td>None</td>\n",
       "      <td>Àrea Indl. Leste</td>\n",
       "      <td>5</td>\n",
       "    </tr>\n",
       "  </tbody>\n",
       "</table>\n",
       "</div>"
      ],
      "text/plain": [
       "  state    city         neighborhood  location_id\n",
       "0    AM  MANAUS  DISTRITO INDUSTRIAL            1\n",
       "1    BA    None                COPEC            2\n",
       "2    BA    None                Copec            3\n",
       "3    BA    None             Santiago            4\n",
       "4    BA    None     Àrea Indl. Leste            5"
      ]
     },
     "execution_count": 10,
     "metadata": {},
     "output_type": "execute_result"
    }
   ],
   "source": [
    "# Step 2 - dim_location\n",
    "spec = Window.partitionBy().orderBy([\"state\", \"city\", \"neighborhood\"])\n",
    "dim_location = spark.sql(\"\"\"\n",
    "    SELECT DISTINCT\n",
    "        state,\n",
    "        city,\n",
    "        neighborhood\n",
    "    FROM dim_company\n",
    "\"\"\").withColumn(\"location_id\", F.row_number().over(spec)).dropDuplicates()\n",
    "dim_location.createOrReplaceTempView(\"dim_location\")\n",
    "dim_location.write.parquet('./data/parquet/dim_location', mode=\"overwrite\")\n",
    "\n",
    "dim_location.toPandas().head()"
   ]
  },
  {
   "cell_type": "code",
   "execution_count": 12,
   "metadata": {},
   "outputs": [
    {
     "data": {
      "text/html": [
       "<div>\n",
       "<style scoped>\n",
       "    .dataframe tbody tr th:only-of-type {\n",
       "        vertical-align: middle;\n",
       "    }\n",
       "\n",
       "    .dataframe tbody tr th {\n",
       "        vertical-align: top;\n",
       "    }\n",
       "\n",
       "    .dataframe thead th {\n",
       "        text-align: right;\n",
       "    }\n",
       "</style>\n",
       "<table border=\"1\" class=\"dataframe\">\n",
       "  <thead>\n",
       "    <tr style=\"text-align: right;\">\n",
       "      <th></th>\n",
       "      <th>cvm_id</th>\n",
       "      <th>sector</th>\n",
       "      <th>cnpj</th>\n",
       "      <th>registration_date</th>\n",
       "      <th>location_id</th>\n",
       "    </tr>\n",
       "  </thead>\n",
       "  <tbody>\n",
       "    <tr>\n",
       "      <th>0</th>\n",
       "      <td>1597</td>\n",
       "      <td>Emp. Adm. Part. - Sem Setor Principal</td>\n",
       "      <td>14.308.514/0001-13</td>\n",
       "      <td>1983-12-12</td>\n",
       "      <td>14</td>\n",
       "    </tr>\n",
       "    <tr>\n",
       "      <th>1</th>\n",
       "      <td>8451</td>\n",
       "      <td>Máquinas, Equipamentos, Veículos e Peças</td>\n",
       "      <td>88.611.835/0001-29</td>\n",
       "      <td>1977-07-20</td>\n",
       "      <td>193</td>\n",
       "    </tr>\n",
       "    <tr>\n",
       "      <th>2</th>\n",
       "      <td>9393</td>\n",
       "      <td>Metalurgia e Siderurgia</td>\n",
       "      <td>60.398.369/0004-79</td>\n",
       "      <td>1977-07-20</td>\n",
       "      <td>8</td>\n",
       "    </tr>\n",
       "    <tr>\n",
       "      <th>3</th>\n",
       "      <td>23590</td>\n",
       "      <td>Seguradoras e Corretoras</td>\n",
       "      <td>42.278.473/0001-03</td>\n",
       "      <td>2015-05-11</td>\n",
       "      <td>32</td>\n",
       "    </tr>\n",
       "    <tr>\n",
       "      <th>4</th>\n",
       "      <td>18821</td>\n",
       "      <td>Emp. Adm. Part. - Serviços Transporte e Logística</td>\n",
       "      <td>02.846.056/0001-97</td>\n",
       "      <td>2000-12-19</td>\n",
       "      <td>407</td>\n",
       "    </tr>\n",
       "  </tbody>\n",
       "</table>\n",
       "</div>"
      ],
      "text/plain": [
       "   cvm_id                                             sector  \\\n",
       "0    1597              Emp. Adm. Part. - Sem Setor Principal   \n",
       "1    8451           Máquinas, Equipamentos, Veículos e Peças   \n",
       "2    9393                            Metalurgia e Siderurgia   \n",
       "3   23590                           Seguradoras e Corretoras   \n",
       "4   18821  Emp. Adm. Part. - Serviços Transporte e Logística   \n",
       "\n",
       "                 cnpj registration_date  location_id  \n",
       "0  14.308.514/0001-13        1983-12-12           14  \n",
       "1  88.611.835/0001-29        1977-07-20          193  \n",
       "2  60.398.369/0004-79        1977-07-20            8  \n",
       "3  42.278.473/0001-03        2015-05-11           32  \n",
       "4  02.846.056/0001-97        2000-12-19          407  "
      ]
     },
     "execution_count": 12,
     "metadata": {},
     "output_type": "execute_result"
    }
   ],
   "source": [
    "# Step 3 - fact_company_registration\n",
    "fact_company_registration = spark.sql(\"\"\"\n",
    "    SELECT DISTINCT\n",
    "        c.CD_CVM as cvm_id,\n",
    "        c.SETOR_ATIV as sector,\n",
    "        c.CNPJ_CIA as cnpj,\n",
    "        c.DT_REG as registration_date,\n",
    "        l.location_id\n",
    "    FROM open_cias c\n",
    "    JOIN dim_location l ON (l.state = c.UF\n",
    "        AND l.city = c.MUN\n",
    "        AND l.neighborhood = c.BAIRRO\n",
    "    )\n",
    "    WHERE SIT = 'ATIVO'\n",
    "\"\"\").dropDuplicates()\n",
    "fact_company_registration.createOrReplaceTempView(\"fact_company_registration\")\n",
    "fact_company_registration.write.parquet('./data/parquet/fact_company_registration', mode=\"overwrite\")\n",
    "\n",
    "fact_company_registration.toPandas().head()"
   ]
  },
  {
   "cell_type": "code",
   "execution_count": 13,
   "metadata": {},
   "outputs": [
    {
     "data": {
      "text/html": [
       "<div>\n",
       "<style scoped>\n",
       "    .dataframe tbody tr th:only-of-type {\n",
       "        vertical-align: middle;\n",
       "    }\n",
       "\n",
       "    .dataframe tbody tr th {\n",
       "        vertical-align: top;\n",
       "    }\n",
       "\n",
       "    .dataframe thead th {\n",
       "        text-align: right;\n",
       "    }\n",
       "</style>\n",
       "<table border=\"1\" class=\"dataframe\">\n",
       "  <thead>\n",
       "    <tr style=\"text-align: right;\">\n",
       "      <th></th>\n",
       "      <th>registration_date</th>\n",
       "      <th>year</th>\n",
       "      <th>month</th>\n",
       "      <th>day</th>\n",
       "      <th>weekday</th>\n",
       "      <th>quarter</th>\n",
       "    </tr>\n",
       "  </thead>\n",
       "  <tbody>\n",
       "    <tr>\n",
       "      <th>0</th>\n",
       "      <td>1995-02-21</td>\n",
       "      <td>1995</td>\n",
       "      <td>2</td>\n",
       "      <td>21</td>\n",
       "      <td>1</td>\n",
       "      <td>1</td>\n",
       "    </tr>\n",
       "    <tr>\n",
       "      <th>1</th>\n",
       "      <td>2016-02-19</td>\n",
       "      <td>2016</td>\n",
       "      <td>2</td>\n",
       "      <td>19</td>\n",
       "      <td>4</td>\n",
       "      <td>1</td>\n",
       "    </tr>\n",
       "    <tr>\n",
       "      <th>2</th>\n",
       "      <td>2010-09-20</td>\n",
       "      <td>2010</td>\n",
       "      <td>9</td>\n",
       "      <td>20</td>\n",
       "      <td>0</td>\n",
       "      <td>3</td>\n",
       "    </tr>\n",
       "    <tr>\n",
       "      <th>3</th>\n",
       "      <td>1971-12-08</td>\n",
       "      <td>1971</td>\n",
       "      <td>12</td>\n",
       "      <td>8</td>\n",
       "      <td>2</td>\n",
       "      <td>4</td>\n",
       "    </tr>\n",
       "    <tr>\n",
       "      <th>4</th>\n",
       "      <td>1980-09-03</td>\n",
       "      <td>1980</td>\n",
       "      <td>9</td>\n",
       "      <td>3</td>\n",
       "      <td>2</td>\n",
       "      <td>3</td>\n",
       "    </tr>\n",
       "  </tbody>\n",
       "</table>\n",
       "</div>"
      ],
      "text/plain": [
       "  registration_date  year  month  day  weekday  quarter\n",
       "0        1995-02-21  1995      2   21        1        1\n",
       "1        2016-02-19  2016      2   19        4        1\n",
       "2        2010-09-20  2010      9   20        0        3\n",
       "3        1971-12-08  1971     12    8        2        4\n",
       "4        1980-09-03  1980      9    3        2        3"
      ]
     },
     "execution_count": 13,
     "metadata": {},
     "output_type": "execute_result"
    }
   ],
   "source": [
    "# Step 4 - dim_time\n",
    "dim_time = spark.sql(\"\"\"\n",
    "    SELECT \n",
    "      DISTINCT registration_date,\n",
    "      YEAR(registration_date) as year,\n",
    "      MONTH(registration_date) as month,\n",
    "      DAY(registration_date) as day,\n",
    "      WEEKDAY(registration_date) as weekday,\n",
    "      QUARTER(registration_date) as quarter\n",
    "    FROM fact_company_registration\n",
    "\"\"\").dropDuplicates()\n",
    "dim_time.createOrReplaceTempView(\"dim_time\")\n",
    "dim_time.write.parquet('./data/parquet/dim_time', mode=\"overwrite\")\n",
    "\n",
    "dim_time.toPandas().head()"
   ]
  },
  {
   "cell_type": "markdown",
   "metadata": {},
   "source": [
    "#### 4.2 Data Quality Checks\n",
    "Explain the data quality checks you'll perform to ensure the pipeline ran as expected. These could include:\n",
    " * Integrity constraints on the relational database (e.g., unique key, data type, etc.)\n",
    " * Unit tests for the scripts to ensure they are doing the right thing\n",
    " * Source/Count checks to ensure completeness\n",
    " \n",
    "Run Quality Checks"
   ]
  },
  {
   "cell_type": "code",
   "execution_count": 75,
   "metadata": {},
   "outputs": [
    {
     "data": {
      "text/html": [
       "<div>\n",
       "<style scoped>\n",
       "    .dataframe tbody tr th:only-of-type {\n",
       "        vertical-align: middle;\n",
       "    }\n",
       "\n",
       "    .dataframe tbody tr th {\n",
       "        vertical-align: top;\n",
       "    }\n",
       "\n",
       "    .dataframe thead th {\n",
       "        text-align: right;\n",
       "    }\n",
       "</style>\n",
       "<table border=\"1\" class=\"dataframe\">\n",
       "  <thead>\n",
       "    <tr style=\"text-align: right;\">\n",
       "      <th></th>\n",
       "      <th>count(1)</th>\n",
       "    </tr>\n",
       "  </thead>\n",
       "  <tbody>\n",
       "    <tr>\n",
       "      <th>0</th>\n",
       "      <td>0</td>\n",
       "    </tr>\n",
       "  </tbody>\n",
       "</table>\n",
       "</div>"
      ],
      "text/plain": [
       "   count(1)\n",
       "0         0"
      ]
     },
     "execution_count": 75,
     "metadata": {},
     "output_type": "execute_result"
    }
   ],
   "source": [
    "# Perform fact_company_registration quality checks\n",
    "dq_fact_company_registration = spark.sql(\"\"\"\n",
    "    SELECT COUNT(*) \n",
    "    FROM fact_company_registration\n",
    "    WHERE cvm_id IS NULL\n",
    "\"\"\")\n",
    "dq_fact_company_registration.toPandas()"
   ]
  },
  {
   "cell_type": "code",
   "execution_count": 79,
   "metadata": {},
   "outputs": [
    {
     "data": {
      "text/html": [
       "<div>\n",
       "<style scoped>\n",
       "    .dataframe tbody tr th:only-of-type {\n",
       "        vertical-align: middle;\n",
       "    }\n",
       "\n",
       "    .dataframe tbody tr th {\n",
       "        vertical-align: top;\n",
       "    }\n",
       "\n",
       "    .dataframe thead th {\n",
       "        text-align: right;\n",
       "    }\n",
       "</style>\n",
       "<table border=\"1\" class=\"dataframe\">\n",
       "  <thead>\n",
       "    <tr style=\"text-align: right;\">\n",
       "      <th></th>\n",
       "      <th>count(1)</th>\n",
       "    </tr>\n",
       "  </thead>\n",
       "  <tbody>\n",
       "    <tr>\n",
       "      <th>0</th>\n",
       "      <td>0</td>\n",
       "    </tr>\n",
       "  </tbody>\n",
       "</table>\n",
       "</div>"
      ],
      "text/plain": [
       "   count(1)\n",
       "0         0"
      ]
     },
     "execution_count": 79,
     "metadata": {},
     "output_type": "execute_result"
    }
   ],
   "source": [
    "# Perform dim_location quality checks \n",
    "dq_dim_location = spark.sql(\"\"\"\n",
    "    SELECT COUNT(*)\n",
    "    FROM dim_location\n",
    "    WHERE location_id IS NULL\n",
    "\"\"\")\n",
    "dq_dim_location.toPandas()"
   ]
  },
  {
   "cell_type": "code",
   "execution_count": 12,
   "metadata": {},
   "outputs": [
    {
     "data": {
      "text/html": [
       "<div>\n",
       "<style scoped>\n",
       "    .dataframe tbody tr th:only-of-type {\n",
       "        vertical-align: middle;\n",
       "    }\n",
       "\n",
       "    .dataframe tbody tr th {\n",
       "        vertical-align: top;\n",
       "    }\n",
       "\n",
       "    .dataframe thead th {\n",
       "        text-align: right;\n",
       "    }\n",
       "</style>\n",
       "<table border=\"1\" class=\"dataframe\">\n",
       "  <thead>\n",
       "    <tr style=\"text-align: right;\">\n",
       "      <th></th>\n",
       "      <th>count(1)</th>\n",
       "    </tr>\n",
       "  </thead>\n",
       "  <tbody>\n",
       "    <tr>\n",
       "      <th>0</th>\n",
       "      <td>0</td>\n",
       "    </tr>\n",
       "  </tbody>\n",
       "</table>\n",
       "</div>"
      ],
      "text/plain": [
       "   count(1)\n",
       "0         0"
      ]
     },
     "execution_count": 12,
     "metadata": {},
     "output_type": "execute_result"
    }
   ],
   "source": [
    "# Perform dim_time quality checks \n",
    "dq_dim_time = spark.sql(\"\"\"\n",
    "    SELECT COUNT(*)\n",
    "    FROM dim_time\n",
    "    WHERE registration_date IS NULL\n",
    "\"\"\")\n",
    "dq_dim_time.toPandas()"
   ]
  },
  {
   "cell_type": "markdown",
   "metadata": {},
   "source": [
    "#### 4.3 Expoloring Data \n",
    "\n",
    "Explore from mapped data"
   ]
  },
  {
   "cell_type": "code",
   "execution_count": 7,
   "metadata": {},
   "outputs": [],
   "source": [
    "# Reading data from parquet\n",
    "open_cias = spark.read.parquet(\"./data/parquet/br_open_cias_data\")\n",
    "open_cias.createOrReplaceTempView(\"open_cias\")\n",
    "\n",
    "dim_company=spark.read.parquet(\"./data/parquet/dim_company\")\n",
    "dim_company.createOrReplaceTempView(\"dim_company\")\n",
    "\n",
    "dim_location=spark.read.parquet(\"./data/parquet/dim_location\")\n",
    "dim_location.createOrReplaceTempView(\"dim_location\")\n",
    "\n",
    "dim_time=spark.read.parquet(\"./data/parquet/dim_time\")\n",
    "dim_time.createOrReplaceTempView(\"dim_time\")\n",
    "\n",
    "fact_company_registration=spark.read.parquet(\"./data/parquet/fact_company_registration\")\n",
    "fact_company_registration.createOrReplaceTempView(\"fact_company_registration\")"
   ]
  },
  {
   "cell_type": "code",
   "execution_count": 8,
   "metadata": {},
   "outputs": [
    {
     "data": {
      "text/html": [
       "<div>\n",
       "<style scoped>\n",
       "    .dataframe tbody tr th:only-of-type {\n",
       "        vertical-align: middle;\n",
       "    }\n",
       "\n",
       "    .dataframe tbody tr th {\n",
       "        vertical-align: top;\n",
       "    }\n",
       "\n",
       "    .dataframe thead th {\n",
       "        text-align: right;\n",
       "    }\n",
       "</style>\n",
       "<table border=\"1\" class=\"dataframe\">\n",
       "  <thead>\n",
       "    <tr style=\"text-align: right;\">\n",
       "      <th></th>\n",
       "      <th>registers</th>\n",
       "      <th>sector_size</th>\n",
       "      <th>sector</th>\n",
       "      <th>year</th>\n",
       "    </tr>\n",
       "  </thead>\n",
       "  <tbody>\n",
       "    <tr>\n",
       "      <th>0</th>\n",
       "      <td>1</td>\n",
       "      <td>1</td>\n",
       "      <td>Emp. Adm. Part. - Energia Elétrica</td>\n",
       "      <td>2000</td>\n",
       "    </tr>\n",
       "    <tr>\n",
       "      <th>1</th>\n",
       "      <td>1</td>\n",
       "      <td>1</td>\n",
       "      <td>Telecomunicações</td>\n",
       "      <td>2000</td>\n",
       "    </tr>\n",
       "    <tr>\n",
       "      <th>2</th>\n",
       "      <td>1</td>\n",
       "      <td>1</td>\n",
       "      <td>Securitização de Recebíveis</td>\n",
       "      <td>2000</td>\n",
       "    </tr>\n",
       "    <tr>\n",
       "      <th>3</th>\n",
       "      <td>1</td>\n",
       "      <td>1</td>\n",
       "      <td>Arrendamento Mercantil</td>\n",
       "      <td>2000</td>\n",
       "    </tr>\n",
       "    <tr>\n",
       "      <th>4</th>\n",
       "      <td>2</td>\n",
       "      <td>2</td>\n",
       "      <td>Emp. Adm. Part. - Serviços Transporte e Logística</td>\n",
       "      <td>2000</td>\n",
       "    </tr>\n",
       "  </tbody>\n",
       "</table>\n",
       "</div>"
      ],
      "text/plain": [
       "   registers  sector_size                                             sector  \\\n",
       "0          1            1                 Emp. Adm. Part. - Energia Elétrica   \n",
       "1          1            1                                   Telecomunicações   \n",
       "2          1            1                        Securitização de Recebíveis   \n",
       "3          1            1                             Arrendamento Mercantil   \n",
       "4          2            2  Emp. Adm. Part. - Serviços Transporte e Logística   \n",
       "\n",
       "   year  \n",
       "0  2000  \n",
       "1  2000  \n",
       "2  2000  \n",
       "3  2000  \n",
       "4  2000  "
      ]
     },
     "execution_count": 8,
     "metadata": {},
     "output_type": "execute_result"
    }
   ],
   "source": [
    "# spark.sql(\"REFRESH TABLE fact_company_registration\")\n",
    "# spark.sql(\"REFRESH TABLE dim_time\")\n",
    "# spark.sql(\"REFRESH TABLE dim_company\")\n",
    "\n",
    "df_registers = spark.sql(\"\"\"\n",
    "    SELECT \n",
    "        COUNT(*) as registers,\n",
    "        COUNT(f.sector) as sector_size,\n",
    "        c.sector as sector,\n",
    "        t.year as year\n",
    "    FROM fact_company_registration f\n",
    "    JOIN dim_time t ON t.registration_date = f.registration_date\n",
    "    JOIN dim_company c ON c.cnpj = f.cnpj\n",
    "    WHERE t.year BETWEEN 2000 AND 2021\n",
    "    GROUP BY t.year, c.sector\n",
    "    ORDER BY t.year\n",
    "\"\"\")\n",
    "\n",
    "pd_df_registers = df_registers.toPandas()\n",
    "pd_df_registers.head()"
   ]
  },
  {
   "cell_type": "code",
   "execution_count": 52,
   "metadata": {},
   "outputs": [
    {
     "data": {
      "application/vnd.plotly.v1+json": {
       "config": {
        "plotlyServerURL": "https://plot.ly"
       },
       "data": [
        {
         "hovertemplate": "sector=Emp. Adm. Part. - Energia Elétrica<br>year=%{x}<br>registers=%{y}<br>sector_size=%{marker.size}<extra></extra>",
         "legendgroup": "Emp. Adm. Part. - Energia Elétrica",
         "marker": {
          "color": "#636efa",
          "size": [
           1,
           1,
           1,
           2,
           1,
           2,
           1,
           1,
           1,
           3,
           1
          ],
          "sizemode": "area",
          "sizeref": 0.035,
          "symbol": "circle"
         },
         "mode": "markers",
         "name": "Emp. Adm. Part. - Energia Elétrica",
         "orientation": "v",
         "showlegend": true,
         "type": "scatter",
         "x": [
          2000,
          2001,
          2005,
          2006,
          2007,
          2008,
          2014,
          2016,
          2017,
          2018,
          2021
         ],
         "xaxis": "x",
         "y": [
          1,
          1,
          1,
          2,
          1,
          2,
          1,
          1,
          1,
          3,
          1
         ],
         "yaxis": "y"
        },
        {
         "hovertemplate": "sector=Telecomunicações<br>year=%{x}<br>registers=%{y}<br>sector_size=%{marker.size}<extra></extra>",
         "legendgroup": "Telecomunicações",
         "marker": {
          "color": "#EF553B",
          "size": [
           1,
           1,
           1
          ],
          "sizemode": "area",
          "sizeref": 0.035,
          "symbol": "circle"
         },
         "mode": "markers",
         "name": "Telecomunicações",
         "orientation": "v",
         "showlegend": true,
         "type": "scatter",
         "x": [
          2000,
          2007,
          2020
         ],
         "xaxis": "x",
         "y": [
          1,
          1,
          1
         ],
         "yaxis": "y"
        },
        {
         "hovertemplate": "sector=Securitização de Recebíveis<br>year=%{x}<br>registers=%{y}<br>sector_size=%{marker.size}<extra></extra>",
         "legendgroup": "Securitização de Recebíveis",
         "marker": {
          "color": "#00cc96",
          "size": [
           1,
           2,
           1,
           1,
           2,
           2,
           3,
           4,
           3,
           3,
           2,
           2,
           4,
           3,
           2,
           6,
           5,
           8,
           1
          ],
          "sizemode": "area",
          "sizeref": 0.035,
          "symbol": "circle"
         },
         "mode": "markers",
         "name": "Securitização de Recebíveis",
         "orientation": "v",
         "showlegend": true,
         "type": "scatter",
         "x": [
          2000,
          2003,
          2005,
          2006,
          2007,
          2008,
          2009,
          2010,
          2011,
          2012,
          2013,
          2014,
          2015,
          2016,
          2017,
          2018,
          2019,
          2020,
          2021
         ],
         "xaxis": "x",
         "y": [
          1,
          2,
          1,
          1,
          2,
          2,
          3,
          4,
          3,
          3,
          2,
          2,
          4,
          3,
          2,
          6,
          5,
          8,
          1
         ],
         "yaxis": "y"
        },
        {
         "hovertemplate": "sector=Arrendamento Mercantil<br>year=%{x}<br>registers=%{y}<br>sector_size=%{marker.size}<extra></extra>",
         "legendgroup": "Arrendamento Mercantil",
         "marker": {
          "color": "#ab63fa",
          "size": [
           1,
           1
          ],
          "sizemode": "area",
          "sizeref": 0.035,
          "symbol": "circle"
         },
         "mode": "markers",
         "name": "Arrendamento Mercantil",
         "orientation": "v",
         "showlegend": true,
         "type": "scatter",
         "x": [
          2000,
          2004
         ],
         "xaxis": "x",
         "y": [
          1,
          1
         ],
         "yaxis": "y"
        },
        {
         "hovertemplate": "sector=Emp. Adm. Part. - Serviços Transporte e Logística<br>year=%{x}<br>registers=%{y}<br>sector_size=%{marker.size}<extra></extra>",
         "legendgroup": "Emp. Adm. Part. - Serviços Transporte e Logística",
         "marker": {
          "color": "#FFA15A",
          "size": [
           2,
           1,
           1,
           1,
           2,
           1
          ],
          "sizemode": "area",
          "sizeref": 0.035,
          "symbol": "circle"
         },
         "mode": "markers",
         "name": "Emp. Adm. Part. - Serviços Transporte e Logística",
         "orientation": "v",
         "showlegend": true,
         "type": "scatter",
         "x": [
          2000,
          2004,
          2009,
          2016,
          2019,
          2020
         ],
         "xaxis": "x",
         "y": [
          2,
          1,
          1,
          1,
          2,
          1
         ],
         "yaxis": "y"
        },
        {
         "hovertemplate": "sector=Saneamento, Serv. Água e Gás<br>year=%{x}<br>registers=%{y}<br>sector_size=%{marker.size}<extra></extra>",
         "legendgroup": "Saneamento, Serv. Água e Gás",
         "marker": {
          "color": "#19d3f3",
          "size": [
           2,
           1,
           1,
           1,
           1,
           3,
           1,
           2,
           2
          ],
          "sizemode": "area",
          "sizeref": 0.035,
          "symbol": "circle"
         },
         "mode": "markers",
         "name": "Saneamento, Serv. Água e Gás",
         "orientation": "v",
         "showlegend": true,
         "type": "scatter",
         "x": [
          2000,
          2001,
          2003,
          2004,
          2013,
          2014,
          2015,
          2020,
          2021
         ],
         "xaxis": "x",
         "y": [
          2,
          1,
          1,
          1,
          1,
          3,
          1,
          2,
          2
         ],
         "yaxis": "y"
        },
        {
         "hovertemplate": "sector=Serviços Transporte e Logística<br>year=%{x}<br>registers=%{y}<br>sector_size=%{marker.size}<extra></extra>",
         "legendgroup": "Serviços Transporte e Logística",
         "marker": {
          "color": "#FF6692",
          "size": [
           1,
           2,
           1,
           1,
           2,
           2,
           4,
           2,
           10,
           4,
           2,
           2,
           3,
           1,
           5,
           1,
           1,
           2,
           4,
           3
          ],
          "sizemode": "area",
          "sizeref": 0.035,
          "symbol": "circle"
         },
         "mode": "markers",
         "name": "Serviços Transporte e Logística",
         "orientation": "v",
         "showlegend": true,
         "type": "scatter",
         "x": [
          2000,
          2001,
          2002,
          2003,
          2005,
          2006,
          2007,
          2009,
          2010,
          2011,
          2012,
          2013,
          2014,
          2015,
          2016,
          2017,
          2018,
          2019,
          2020,
          2021
         ],
         "xaxis": "x",
         "y": [
          1,
          2,
          1,
          1,
          2,
          2,
          4,
          2,
          10,
          4,
          2,
          2,
          3,
          1,
          5,
          1,
          1,
          2,
          4,
          3
         ],
         "yaxis": "y"
        },
        {
         "hovertemplate": "sector=Emp. Adm. Part. - Sem Setor Principal<br>year=%{x}<br>registers=%{y}<br>sector_size=%{marker.size}<extra></extra>",
         "legendgroup": "Emp. Adm. Part. - Sem Setor Principal",
         "marker": {
          "color": "#B6E880",
          "size": [
           1,
           3,
           3,
           1,
           1,
           1,
           1,
           3,
           1,
           2
          ],
          "sizemode": "area",
          "sizeref": 0.035,
          "symbol": "circle"
         },
         "mode": "markers",
         "name": "Emp. Adm. Part. - Sem Setor Principal",
         "orientation": "v",
         "showlegend": true,
         "type": "scatter",
         "x": [
          2000,
          2001,
          2006,
          2008,
          2011,
          2012,
          2015,
          2016,
          2020,
          2021
         ],
         "xaxis": "x",
         "y": [
          1,
          3,
          3,
          1,
          1,
          1,
          1,
          3,
          1,
          2
         ],
         "yaxis": "y"
        },
        {
         "hovertemplate": "sector=Emp. Adm. Part. - Extração Mineral<br>year=%{x}<br>registers=%{y}<br>sector_size=%{marker.size}<extra></extra>",
         "legendgroup": "Emp. Adm. Part. - Extração Mineral",
         "marker": {
          "color": "#FF97FF",
          "size": [
           1,
           1,
           1
          ],
          "sizemode": "area",
          "sizeref": 0.035,
          "symbol": "circle"
         },
         "mode": "markers",
         "name": "Emp. Adm. Part. - Extração Mineral",
         "orientation": "v",
         "showlegend": true,
         "type": "scatter",
         "x": [
          2000,
          2006,
          2019
         ],
         "xaxis": "x",
         "y": [
          1,
          1,
          1
         ],
         "yaxis": "y"
        },
        {
         "hovertemplate": "sector=Energia Elétrica<br>year=%{x}<br>registers=%{y}<br>sector_size=%{marker.size}<extra></extra>",
         "legendgroup": "Energia Elétrica",
         "marker": {
          "color": "#FECB52",
          "size": [
           2,
           2,
           1,
           2,
           3,
           2,
           2,
           2,
           2,
           1,
           2,
           1,
           2,
           2,
           3,
           3,
           3,
           4
          ],
          "sizemode": "area",
          "sizeref": 0.035,
          "symbol": "circle"
         },
         "mode": "markers",
         "name": "Energia Elétrica",
         "orientation": "v",
         "showlegend": true,
         "type": "scatter",
         "x": [
          2001,
          2002,
          2003,
          2005,
          2006,
          2007,
          2008,
          2010,
          2011,
          2012,
          2013,
          2014,
          2015,
          2017,
          2018,
          2019,
          2020,
          2021
         ],
         "xaxis": "x",
         "y": [
          2,
          2,
          1,
          2,
          3,
          2,
          2,
          2,
          2,
          1,
          2,
          1,
          2,
          2,
          3,
          3,
          3,
          4
         ],
         "yaxis": "y"
        },
        {
         "hovertemplate": "sector=Emp. Adm. Part. - Comunicação e Informática<br>year=%{x}<br>registers=%{y}<br>sector_size=%{marker.size}<extra></extra>",
         "legendgroup": "Emp. Adm. Part. - Comunicação e Informática",
         "marker": {
          "color": "#636efa",
          "size": [
           1,
           1,
           1
          ],
          "sizemode": "area",
          "sizeref": 0.035,
          "symbol": "circle"
         },
         "mode": "markers",
         "name": "Emp. Adm. Part. - Comunicação e Informática",
         "orientation": "v",
         "showlegend": true,
         "type": "scatter",
         "x": [
          2001,
          2013,
          2021
         ],
         "xaxis": "x",
         "y": [
          1,
          1,
          1
         ],
         "yaxis": "y"
        },
        {
         "hovertemplate": "sector=Farmacêutico e Higiene<br>year=%{x}<br>registers=%{y}<br>sector_size=%{marker.size}<extra></extra>",
         "legendgroup": "Farmacêutico e Higiene",
         "marker": {
          "color": "#EF553B",
          "size": [
           1,
           1,
           1,
           1,
           1,
           2
          ],
          "sizemode": "area",
          "sizeref": 0.035,
          "symbol": "circle"
         },
         "mode": "markers",
         "name": "Farmacêutico e Higiene",
         "orientation": "v",
         "showlegend": true,
         "type": "scatter",
         "x": [
          2002,
          2004,
          2008,
          2011,
          2012,
          2019
         ],
         "xaxis": "x",
         "y": [
          1,
          1,
          1,
          1,
          1,
          2
         ],
         "yaxis": "y"
        },
        {
         "hovertemplate": "sector=Bancos<br>year=%{x}<br>registers=%{y}<br>sector_size=%{marker.size}<extra></extra>",
         "legendgroup": "Bancos",
         "marker": {
          "color": "#00cc96",
          "size": [
           1,
           6,
           1,
           1,
           3,
           1
          ],
          "sizemode": "area",
          "sizeref": 0.035,
          "symbol": "circle"
         },
         "mode": "markers",
         "name": "Bancos",
         "orientation": "v",
         "showlegend": true,
         "type": "scatter",
         "x": [
          2002,
          2007,
          2008,
          2011,
          2018,
          2021
         ],
         "xaxis": "x",
         "y": [
          1,
          6,
          1,
          1,
          3,
          1
         ],
         "yaxis": "y"
        },
        {
         "hovertemplate": "sector=Têxtil e Vestuário<br>year=%{x}<br>registers=%{y}<br>sector_size=%{marker.size}<extra></extra>",
         "legendgroup": "Têxtil e Vestuário",
         "marker": {
          "color": "#ab63fa",
          "size": [
           1,
           1,
           2,
           1,
           1
          ],
          "sizemode": "area",
          "sizeref": 0.035,
          "symbol": "circle"
         },
         "mode": "markers",
         "name": "Têxtil e Vestuário",
         "orientation": "v",
         "showlegend": true,
         "type": "scatter",
         "x": [
          2004,
          2010,
          2011,
          2019,
          2020
         ],
         "xaxis": "x",
         "y": [
          1,
          1,
          2,
          1,
          1
         ],
         "yaxis": "y"
        },
        {
         "hovertemplate": "sector=Agricultura (Açúcar, Álcool e Cana)<br>year=%{x}<br>registers=%{y}<br>sector_size=%{marker.size}<extra></extra>",
         "legendgroup": "Agricultura (Açúcar, Álcool e Cana)",
         "marker": {
          "color": "#FFA15A",
          "size": [
           1,
           1,
           2,
           2,
           1,
           1,
           1,
           1,
           2
          ],
          "sizemode": "area",
          "sizeref": 0.035,
          "symbol": "circle"
         },
         "mode": "markers",
         "name": "Agricultura (Açúcar, Álcool e Cana)",
         "orientation": "v",
         "showlegend": true,
         "type": "scatter",
         "x": [
          2004,
          2005,
          2006,
          2007,
          2008,
          2012,
          2013,
          2016,
          2021
         ],
         "xaxis": "x",
         "y": [
          1,
          1,
          2,
          2,
          1,
          1,
          1,
          1,
          2
         ],
         "yaxis": "y"
        },
        {
         "hovertemplate": "sector=Serviços Médicos<br>year=%{x}<br>registers=%{y}<br>sector_size=%{marker.size}<extra></extra>",
         "legendgroup": "Serviços Médicos",
         "marker": {
          "color": "#19d3f3",
          "size": [
           1,
           1,
           1,
           1,
           1,
           1,
           4
          ],
          "sizemode": "area",
          "sizeref": 0.035,
          "symbol": "circle"
         },
         "mode": "markers",
         "name": "Serviços Médicos",
         "orientation": "v",
         "showlegend": true,
         "type": "scatter",
         "x": [
          2004,
          2009,
          2017,
          2018,
          2019,
          2020,
          2021
         ],
         "xaxis": "x",
         "y": [
          1,
          1,
          1,
          1,
          1,
          1,
          4
         ],
         "yaxis": "y"
        },
        {
         "hovertemplate": "sector=Comunicação e Informática<br>year=%{x}<br>registers=%{y}<br>sector_size=%{marker.size}<extra></extra>",
         "legendgroup": "Comunicação e Informática",
         "marker": {
          "color": "#FF6692",
          "size": [
           2,
           1,
           1,
           1,
           5,
           6
          ],
          "sizemode": "area",
          "sizeref": 0.035,
          "symbol": "circle"
         },
         "mode": "markers",
         "name": "Comunicação e Informática",
         "orientation": "v",
         "showlegend": true,
         "type": "scatter",
         "x": [
          2006,
          2012,
          2013,
          2018,
          2020,
          2021
         ],
         "xaxis": "x",
         "y": [
          2,
          1,
          1,
          1,
          5,
          6
         ],
         "yaxis": "y"
        },
        {
         "hovertemplate": "sector=Emp. Adm. Part. - Comércio (Atacado e Varejo)<br>year=%{x}<br>registers=%{y}<br>sector_size=%{marker.size}<extra></extra>",
         "legendgroup": "Emp. Adm. Part. - Comércio (Atacado e Varejo)",
         "marker": {
          "color": "#B6E880",
          "size": [
           1,
           1,
           1,
           1,
           1,
           1
          ],
          "sizemode": "area",
          "sizeref": 0.035,
          "symbol": "circle"
         },
         "mode": "markers",
         "name": "Emp. Adm. Part. - Comércio (Atacado e Varejo)",
         "orientation": "v",
         "showlegend": true,
         "type": "scatter",
         "x": [
          2006,
          2008,
          2011,
          2017,
          2020,
          2021
         ],
         "xaxis": "x",
         "y": [
          1,
          1,
          1,
          1,
          1,
          1
         ],
         "yaxis": "y"
        },
        {
         "hovertemplate": "sector=Máquinas, Equipamentos, Veículos e Peças<br>year=%{x}<br>registers=%{y}<br>sector_size=%{marker.size}<extra></extra>",
         "legendgroup": "Máquinas, Equipamentos, Veículos e Peças",
         "marker": {
          "color": "#FF97FF",
          "size": [
           2,
           1,
           1,
           1,
           1,
           1
          ],
          "sizemode": "area",
          "sizeref": 0.035,
          "symbol": "circle"
         },
         "mode": "markers",
         "name": "Máquinas, Equipamentos, Veículos e Peças",
         "orientation": "v",
         "showlegend": true,
         "type": "scatter",
         "x": [
          2006,
          2007,
          2017,
          2019,
          2020,
          2021
         ],
         "xaxis": "x",
         "y": [
          2,
          1,
          1,
          1,
          1,
          1
         ],
         "yaxis": "y"
        },
        {
         "hovertemplate": "sector=Emp. Adm. Part. - Const. Civil, Mat. Const. e Decoração<br>year=%{x}<br>registers=%{y}<br>sector_size=%{marker.size}<extra></extra>",
         "legendgroup": "Emp. Adm. Part. - Const. Civil, Mat. Const. e Decoração",
         "marker": {
          "color": "#FECB52",
          "size": [
           1,
           6,
           1,
           1
          ],
          "sizemode": "area",
          "sizeref": 0.035,
          "symbol": "circle"
         },
         "mode": "markers",
         "name": "Emp. Adm. Part. - Const. Civil, Mat. Const. e Decoração",
         "orientation": "v",
         "showlegend": true,
         "type": "scatter",
         "x": [
          2006,
          2007,
          2020,
          2021
         ],
         "xaxis": "x",
         "y": [
          1,
          6,
          1,
          1
         ],
         "yaxis": "y"
        },
        {
         "hovertemplate": "sector=Comércio (Atacado e Varejo)<br>year=%{x}<br>registers=%{y}<br>sector_size=%{marker.size}<extra></extra>",
         "legendgroup": "Comércio (Atacado e Varejo)",
         "marker": {
          "color": "#636efa",
          "size": [
           1,
           3,
           1,
           3,
           2,
           1,
           2,
           6,
           14
          ],
          "sizemode": "area",
          "sizeref": 0.035,
          "symbol": "circle"
         },
         "mode": "markers",
         "name": "Comércio (Atacado e Varejo)",
         "orientation": "v",
         "showlegend": true,
         "type": "scatter",
         "x": [
          2006,
          2007,
          2008,
          2011,
          2017,
          2018,
          2019,
          2020,
          2021
         ],
         "xaxis": "x",
         "y": [
          1,
          3,
          1,
          3,
          2,
          1,
          2,
          6,
          14
         ],
         "yaxis": "y"
        },
        {
         "hovertemplate": "sector=Gráficas e Editoras<br>year=%{x}<br>registers=%{y}<br>sector_size=%{marker.size}<extra></extra>",
         "legendgroup": "Gráficas e Editoras",
         "marker": {
          "color": "#EF553B",
          "size": [
           1
          ],
          "sizemode": "area",
          "sizeref": 0.035,
          "symbol": "circle"
         },
         "mode": "markers",
         "name": "Gráficas e Editoras",
         "orientation": "v",
         "showlegend": true,
         "type": "scatter",
         "x": [
          2006
         ],
         "xaxis": "x",
         "y": [
          1
         ],
         "yaxis": "y"
        },
        {
         "hovertemplate": "sector=Alimentos<br>year=%{x}<br>registers=%{y}<br>sector_size=%{marker.size}<extra></extra>",
         "legendgroup": "Alimentos",
         "marker": {
          "color": "#00cc96",
          "size": [
           1,
           4,
           1,
           2,
           1
          ],
          "sizemode": "area",
          "sizeref": 0.035,
          "symbol": "circle"
         },
         "mode": "markers",
         "name": "Alimentos",
         "orientation": "v",
         "showlegend": true,
         "type": "scatter",
         "x": [
          2006,
          2007,
          2015,
          2017,
          2021
         ],
         "xaxis": "x",
         "y": [
          1,
          4,
          1,
          2,
          1
         ],
         "yaxis": "y"
        },
        {
         "hovertemplate": "sector=Emp. Adm. Part. - Educação<br>year=%{x}<br>registers=%{y}<br>sector_size=%{marker.size}<extra></extra>",
         "legendgroup": "Emp. Adm. Part. - Educação",
         "marker": {
          "color": "#ab63fa",
          "size": [
           1
          ],
          "sizemode": "area",
          "sizeref": 0.035,
          "symbol": "circle"
         },
         "mode": "markers",
         "name": "Emp. Adm. Part. - Educação",
         "orientation": "v",
         "showlegend": true,
         "type": "scatter",
         "x": [
          2007
         ],
         "xaxis": "x",
         "y": [
          1
         ],
         "yaxis": "y"
        },
        {
         "hovertemplate": "sector=Emp. Adm. Part. - Seguradoras e Corretoras<br>year=%{x}<br>registers=%{y}<br>sector_size=%{marker.size}<extra></extra>",
         "legendgroup": "Emp. Adm. Part. - Seguradoras e Corretoras",
         "marker": {
          "color": "#FFA15A",
          "size": [
           1,
           1,
           1,
           1
          ],
          "sizemode": "area",
          "sizeref": 0.035,
          "symbol": "circle"
         },
         "mode": "markers",
         "name": "Emp. Adm. Part. - Seguradoras e Corretoras",
         "orientation": "v",
         "showlegend": true,
         "type": "scatter",
         "x": [
          2007,
          2010,
          2013,
          2015
         ],
         "xaxis": "x",
         "y": [
          1,
          1,
          1,
          1
         ],
         "yaxis": "y"
        },
        {
         "hovertemplate": "sector=Emp. Adm. Part. - Têxtil e Vestuário<br>year=%{x}<br>registers=%{y}<br>sector_size=%{marker.size}<extra></extra>",
         "legendgroup": "Emp. Adm. Part. - Têxtil e Vestuário",
         "marker": {
          "color": "#19d3f3",
          "size": [
           1
          ],
          "sizemode": "area",
          "sizeref": 0.035,
          "symbol": "circle"
         },
         "mode": "markers",
         "name": "Emp. Adm. Part. - Têxtil e Vestuário",
         "orientation": "v",
         "showlegend": true,
         "type": "scatter",
         "x": [
          2007
         ],
         "xaxis": "x",
         "y": [
          1
         ],
         "yaxis": "y"
        },
        {
         "hovertemplate": "sector=Construção Civil, Mat. Constr. e Decoração<br>year=%{x}<br>registers=%{y}<br>sector_size=%{marker.size}<extra></extra>",
         "legendgroup": "Construção Civil, Mat. Constr. e Decoração",
         "marker": {
          "color": "#FF6692",
          "size": [
           11,
           1,
           1,
           1,
           1,
           2,
           1,
           1,
           1,
           12,
           3
          ],
          "sizemode": "area",
          "sizeref": 0.035,
          "symbol": "circle"
         },
         "mode": "markers",
         "name": "Construção Civil, Mat. Constr. e Decoração",
         "orientation": "v",
         "showlegend": true,
         "type": "scatter",
         "x": [
          2007,
          2008,
          2010,
          2012,
          2013,
          2015,
          2016,
          2017,
          2019,
          2020,
          2021
         ],
         "xaxis": "x",
         "y": [
          11,
          1,
          1,
          1,
          1,
          2,
          1,
          1,
          1,
          12,
          3
         ],
         "yaxis": "y"
        },
        {
         "hovertemplate": "sector=Petroquímicos e Borracha<br>year=%{x}<br>registers=%{y}<br>sector_size=%{marker.size}<extra></extra>",
         "legendgroup": "Petroquímicos e Borracha",
         "marker": {
          "color": "#B6E880",
          "size": [
           1
          ],
          "sizemode": "area",
          "sizeref": 0.035,
          "symbol": "circle"
         },
         "mode": "markers",
         "name": "Petroquímicos e Borracha",
         "orientation": "v",
         "showlegend": true,
         "type": "scatter",
         "x": [
          2007
         ],
         "xaxis": "x",
         "y": [
          1
         ],
         "yaxis": "y"
        },
        {
         "hovertemplate": "sector=Bolsas de Valores/Mercadorias e Futuros<br>year=%{x}<br>registers=%{y}<br>sector_size=%{marker.size}<extra></extra>",
         "legendgroup": "Bolsas de Valores/Mercadorias e Futuros",
         "marker": {
          "color": "#FF97FF",
          "size": [
           1
          ],
          "sizemode": "area",
          "sizeref": 0.035,
          "symbol": "circle"
         },
         "mode": "markers",
         "name": "Bolsas de Valores/Mercadorias e Futuros",
         "orientation": "v",
         "showlegend": true,
         "type": "scatter",
         "x": [
          2008
         ],
         "xaxis": "x",
         "y": [
          1
         ],
         "yaxis": "y"
        },
        {
         "hovertemplate": "sector=Emp. Adm. Part. - Agricultura (Açúcar, Álcool e Cana)<br>year=%{x}<br>registers=%{y}<br>sector_size=%{marker.size}<extra></extra>",
         "legendgroup": "Emp. Adm. Part. - Agricultura (Açúcar, Álcool e Cana)",
         "marker": {
          "color": "#FECB52",
          "size": [
           1,
           1
          ],
          "sizemode": "area",
          "sizeref": 0.035,
          "symbol": "circle"
         },
         "mode": "markers",
         "name": "Emp. Adm. Part. - Agricultura (Açúcar, Álcool e Cana)",
         "orientation": "v",
         "showlegend": true,
         "type": "scatter",
         "x": [
          2009,
          2020
         ],
         "xaxis": "x",
         "y": [
          1,
          1
         ],
         "yaxis": "y"
        },
        {
         "hovertemplate": "sector=Intermediação Financeira<br>year=%{x}<br>registers=%{y}<br>sector_size=%{marker.size}<extra></extra>",
         "legendgroup": "Intermediação Financeira",
         "marker": {
          "color": "#636efa",
          "size": [
           1
          ],
          "sizemode": "area",
          "sizeref": 0.035,
          "symbol": "circle"
         },
         "mode": "markers",
         "name": "Intermediação Financeira",
         "orientation": "v",
         "showlegend": true,
         "type": "scatter",
         "x": [
          2009
         ],
         "xaxis": "x",
         "y": [
          1
         ],
         "yaxis": "y"
        },
        {
         "hovertemplate": "sector=Petróleo e Gás<br>year=%{x}<br>registers=%{y}<br>sector_size=%{marker.size}<extra></extra>",
         "legendgroup": "Petróleo e Gás",
         "marker": {
          "color": "#EF553B",
          "size": [
           1,
           1,
           1,
           2
          ],
          "sizemode": "area",
          "sizeref": 0.035,
          "symbol": "circle"
         },
         "mode": "markers",
         "name": "Petróleo e Gás",
         "orientation": "v",
         "showlegend": true,
         "type": "scatter",
         "x": [
          2010,
          2014,
          2020,
          2021
         ],
         "xaxis": "x",
         "y": [
          1,
          1,
          1,
          2
         ],
         "yaxis": "y"
        },
        {
         "hovertemplate": "sector=Emp. Adm. Part. - Petróleo e Gás<br>year=%{x}<br>registers=%{y}<br>sector_size=%{marker.size}<extra></extra>",
         "legendgroup": "Emp. Adm. Part. - Petróleo e Gás",
         "marker": {
          "color": "#00cc96",
          "size": [
           1,
           1,
           1
          ],
          "sizemode": "area",
          "sizeref": 0.035,
          "symbol": "circle"
         },
         "mode": "markers",
         "name": "Emp. Adm. Part. - Petróleo e Gás",
         "orientation": "v",
         "showlegend": true,
         "type": "scatter",
         "x": [
          2011,
          2015,
          2019
         ],
         "xaxis": "x",
         "y": [
          1,
          1,
          1
         ],
         "yaxis": "y"
        },
        {
         "hovertemplate": "sector=Seguradoras e Corretoras<br>year=%{x}<br>registers=%{y}<br>sector_size=%{marker.size}<extra></extra>",
         "legendgroup": "Seguradoras e Corretoras",
         "marker": {
          "color": "#ab63fa",
          "size": [
           1,
           1,
           1
          ],
          "sizemode": "area",
          "sizeref": 0.035,
          "symbol": "circle"
         },
         "mode": "markers",
         "name": "Seguradoras e Corretoras",
         "orientation": "v",
         "showlegend": true,
         "type": "scatter",
         "x": [
          2011,
          2015,
          2017
         ],
         "xaxis": "x",
         "y": [
          1,
          1,
          1
         ],
         "yaxis": "y"
        },
        {
         "hovertemplate": "sector=Brinquedos e Lazer<br>year=%{x}<br>registers=%{y}<br>sector_size=%{marker.size}<extra></extra>",
         "legendgroup": "Brinquedos e Lazer",
         "marker": {
          "color": "#FFA15A",
          "size": [
           1,
           1,
           1
          ],
          "sizemode": "area",
          "sizeref": 0.035,
          "symbol": "circle"
         },
         "mode": "markers",
         "name": "Brinquedos e Lazer",
         "orientation": "v",
         "showlegend": true,
         "type": "scatter",
         "x": [
          2011,
          2016,
          2017
         ],
         "xaxis": "x",
         "y": [
          1,
          1,
          1
         ],
         "yaxis": "y"
        },
        {
         "hovertemplate": "sector=Papel e Celulose<br>year=%{x}<br>registers=%{y}<br>sector_size=%{marker.size}<extra></extra>",
         "legendgroup": "Papel e Celulose",
         "marker": {
          "color": "#19d3f3",
          "size": [
           1
          ],
          "sizemode": "area",
          "sizeref": 0.035,
          "symbol": "circle"
         },
         "mode": "markers",
         "name": "Papel e Celulose",
         "orientation": "v",
         "showlegend": true,
         "type": "scatter",
         "x": [
          2012
         ],
         "xaxis": "x",
         "y": [
          1
         ],
         "yaxis": "y"
        },
        {
         "hovertemplate": "sector=Educação<br>year=%{x}<br>registers=%{y}<br>sector_size=%{marker.size}<extra></extra>",
         "legendgroup": "Educação",
         "marker": {
          "color": "#FF6692",
          "size": [
           2,
           1,
           1
          ],
          "sizemode": "area",
          "sizeref": 0.035,
          "symbol": "circle"
         },
         "mode": "markers",
         "name": "Educação",
         "orientation": "v",
         "showlegend": true,
         "type": "scatter",
         "x": [
          2013,
          2018,
          2021
         ],
         "xaxis": "x",
         "y": [
          2,
          1,
          1
         ],
         "yaxis": "y"
        },
        {
         "hovertemplate": "sector=Hospedagem e Turismo<br>year=%{x}<br>registers=%{y}<br>sector_size=%{marker.size}<extra></extra>",
         "legendgroup": "Hospedagem e Turismo",
         "marker": {
          "color": "#B6E880",
          "size": [
           1
          ],
          "sizemode": "area",
          "sizeref": 0.035,
          "symbol": "circle"
         },
         "mode": "markers",
         "name": "Hospedagem e Turismo",
         "orientation": "v",
         "showlegend": true,
         "type": "scatter",
         "x": [
          2013
         ],
         "xaxis": "x",
         "y": [
          1
         ],
         "yaxis": "y"
        },
        {
         "hovertemplate": "sector=Bebidas e Fumo<br>year=%{x}<br>registers=%{y}<br>sector_size=%{marker.size}<extra></extra>",
         "legendgroup": "Bebidas e Fumo",
         "marker": {
          "color": "#FF97FF",
          "size": [
           1
          ],
          "sizemode": "area",
          "sizeref": 0.035,
          "symbol": "circle"
         },
         "mode": "markers",
         "name": "Bebidas e Fumo",
         "orientation": "v",
         "showlegend": true,
         "type": "scatter",
         "x": [
          2013
         ],
         "xaxis": "x",
         "y": [
          1
         ],
         "yaxis": "y"
        },
        {
         "hovertemplate": "sector=Emp. Adm. Part. - Telecomunicações<br>year=%{x}<br>registers=%{y}<br>sector_size=%{marker.size}<extra></extra>",
         "legendgroup": "Emp. Adm. Part. - Telecomunicações",
         "marker": {
          "color": "#FECB52",
          "size": [
           1,
           1
          ],
          "sizemode": "area",
          "sizeref": 0.035,
          "symbol": "circle"
         },
         "mode": "markers",
         "name": "Emp. Adm. Part. - Telecomunicações",
         "orientation": "v",
         "showlegend": true,
         "type": "scatter",
         "x": [
          2014,
          2020
         ],
         "xaxis": "x",
         "y": [
          1,
          1
         ],
         "yaxis": "y"
        },
        {
         "hovertemplate": "sector=Emp. Adm. Part. - Máqs., Equip., Veíc. e Peças<br>year=%{x}<br>registers=%{y}<br>sector_size=%{marker.size}<extra></extra>",
         "legendgroup": "Emp. Adm. Part. - Máqs., Equip., Veíc. e Peças",
         "marker": {
          "color": "#636efa",
          "size": [
           1
          ],
          "sizemode": "area",
          "sizeref": 0.035,
          "symbol": "circle"
         },
         "mode": "markers",
         "name": "Emp. Adm. Part. - Máqs., Equip., Veíc. e Peças",
         "orientation": "v",
         "showlegend": true,
         "type": "scatter",
         "x": [
          2018
         ],
         "xaxis": "x",
         "y": [
          1
         ],
         "yaxis": "y"
        },
        {
         "hovertemplate": "sector=Emp. Adm. Part. - Serviços médicos<br>year=%{x}<br>registers=%{y}<br>sector_size=%{marker.size}<extra></extra>",
         "legendgroup": "Emp. Adm. Part. - Serviços médicos",
         "marker": {
          "color": "#EF553B",
          "size": [
           1,
           1,
           1
          ],
          "sizemode": "area",
          "sizeref": 0.035,
          "symbol": "circle"
         },
         "mode": "markers",
         "name": "Emp. Adm. Part. - Serviços médicos",
         "orientation": "v",
         "showlegend": true,
         "type": "scatter",
         "x": [
          2018,
          2019,
          2021
         ],
         "xaxis": "x",
         "y": [
          1,
          1,
          1
         ],
         "yaxis": "y"
        },
        {
         "hovertemplate": "sector=Emp. Adm. Part. - Saneamento, Serv. Água e Gás<br>year=%{x}<br>registers=%{y}<br>sector_size=%{marker.size}<extra></extra>",
         "legendgroup": "Emp. Adm. Part. - Saneamento, Serv. Água e Gás",
         "marker": {
          "color": "#00cc96",
          "size": [
           1,
           1
          ],
          "sizemode": "area",
          "sizeref": 0.035,
          "symbol": "circle"
         },
         "mode": "markers",
         "name": "Emp. Adm. Part. - Saneamento, Serv. Água e Gás",
         "orientation": "v",
         "showlegend": true,
         "type": "scatter",
         "x": [
          2019,
          2020
         ],
         "xaxis": "x",
         "y": [
          1,
          1
         ],
         "yaxis": "y"
        },
        {
         "hovertemplate": "sector=Extração Mineral<br>year=%{x}<br>registers=%{y}<br>sector_size=%{marker.size}<extra></extra>",
         "legendgroup": "Extração Mineral",
         "marker": {
          "color": "#ab63fa",
          "size": [
           1
          ],
          "sizemode": "area",
          "sizeref": 0.035,
          "symbol": "circle"
         },
         "mode": "markers",
         "name": "Extração Mineral",
         "orientation": "v",
         "showlegend": true,
         "type": "scatter",
         "x": [
          2021
         ],
         "xaxis": "x",
         "y": [
          1
         ],
         "yaxis": "y"
        },
        {
         "hovertemplate": "sector=Emp. Adm. Part. - Bancos<br>year=%{x}<br>registers=%{y}<br>sector_size=%{marker.size}<extra></extra>",
         "legendgroup": "Emp. Adm. Part. - Bancos",
         "marker": {
          "color": "#FFA15A",
          "size": [
           1
          ],
          "sizemode": "area",
          "sizeref": 0.035,
          "symbol": "circle"
         },
         "mode": "markers",
         "name": "Emp. Adm. Part. - Bancos",
         "orientation": "v",
         "showlegend": true,
         "type": "scatter",
         "x": [
          2021
         ],
         "xaxis": "x",
         "y": [
          1
         ],
         "yaxis": "y"
        }
       ],
       "layout": {
        "autosize": true,
        "legend": {
         "itemsizing": "constant",
         "title": {
          "text": "sector"
         },
         "tracegroupgap": 0
        },
        "template": {
         "data": {
          "bar": [
           {
            "error_x": {
             "color": "#2a3f5f"
            },
            "error_y": {
             "color": "#2a3f5f"
            },
            "marker": {
             "line": {
              "color": "#E5ECF6",
              "width": 0.5
             },
             "pattern": {
              "fillmode": "overlay",
              "size": 10,
              "solidity": 0.2
             }
            },
            "type": "bar"
           }
          ],
          "barpolar": [
           {
            "marker": {
             "line": {
              "color": "#E5ECF6",
              "width": 0.5
             },
             "pattern": {
              "fillmode": "overlay",
              "size": 10,
              "solidity": 0.2
             }
            },
            "type": "barpolar"
           }
          ],
          "carpet": [
           {
            "aaxis": {
             "endlinecolor": "#2a3f5f",
             "gridcolor": "white",
             "linecolor": "white",
             "minorgridcolor": "white",
             "startlinecolor": "#2a3f5f"
            },
            "baxis": {
             "endlinecolor": "#2a3f5f",
             "gridcolor": "white",
             "linecolor": "white",
             "minorgridcolor": "white",
             "startlinecolor": "#2a3f5f"
            },
            "type": "carpet"
           }
          ],
          "choropleth": [
           {
            "colorbar": {
             "outlinewidth": 0,
             "ticks": ""
            },
            "type": "choropleth"
           }
          ],
          "contour": [
           {
            "colorbar": {
             "outlinewidth": 0,
             "ticks": ""
            },
            "colorscale": [
             [
              0,
              "#0d0887"
             ],
             [
              0.1111111111111111,
              "#46039f"
             ],
             [
              0.2222222222222222,
              "#7201a8"
             ],
             [
              0.3333333333333333,
              "#9c179e"
             ],
             [
              0.4444444444444444,
              "#bd3786"
             ],
             [
              0.5555555555555556,
              "#d8576b"
             ],
             [
              0.6666666666666666,
              "#ed7953"
             ],
             [
              0.7777777777777778,
              "#fb9f3a"
             ],
             [
              0.8888888888888888,
              "#fdca26"
             ],
             [
              1,
              "#f0f921"
             ]
            ],
            "type": "contour"
           }
          ],
          "contourcarpet": [
           {
            "colorbar": {
             "outlinewidth": 0,
             "ticks": ""
            },
            "type": "contourcarpet"
           }
          ],
          "heatmap": [
           {
            "colorbar": {
             "outlinewidth": 0,
             "ticks": ""
            },
            "colorscale": [
             [
              0,
              "#0d0887"
             ],
             [
              0.1111111111111111,
              "#46039f"
             ],
             [
              0.2222222222222222,
              "#7201a8"
             ],
             [
              0.3333333333333333,
              "#9c179e"
             ],
             [
              0.4444444444444444,
              "#bd3786"
             ],
             [
              0.5555555555555556,
              "#d8576b"
             ],
             [
              0.6666666666666666,
              "#ed7953"
             ],
             [
              0.7777777777777778,
              "#fb9f3a"
             ],
             [
              0.8888888888888888,
              "#fdca26"
             ],
             [
              1,
              "#f0f921"
             ]
            ],
            "type": "heatmap"
           }
          ],
          "heatmapgl": [
           {
            "colorbar": {
             "outlinewidth": 0,
             "ticks": ""
            },
            "colorscale": [
             [
              0,
              "#0d0887"
             ],
             [
              0.1111111111111111,
              "#46039f"
             ],
             [
              0.2222222222222222,
              "#7201a8"
             ],
             [
              0.3333333333333333,
              "#9c179e"
             ],
             [
              0.4444444444444444,
              "#bd3786"
             ],
             [
              0.5555555555555556,
              "#d8576b"
             ],
             [
              0.6666666666666666,
              "#ed7953"
             ],
             [
              0.7777777777777778,
              "#fb9f3a"
             ],
             [
              0.8888888888888888,
              "#fdca26"
             ],
             [
              1,
              "#f0f921"
             ]
            ],
            "type": "heatmapgl"
           }
          ],
          "histogram": [
           {
            "marker": {
             "pattern": {
              "fillmode": "overlay",
              "size": 10,
              "solidity": 0.2
             }
            },
            "type": "histogram"
           }
          ],
          "histogram2d": [
           {
            "colorbar": {
             "outlinewidth": 0,
             "ticks": ""
            },
            "colorscale": [
             [
              0,
              "#0d0887"
             ],
             [
              0.1111111111111111,
              "#46039f"
             ],
             [
              0.2222222222222222,
              "#7201a8"
             ],
             [
              0.3333333333333333,
              "#9c179e"
             ],
             [
              0.4444444444444444,
              "#bd3786"
             ],
             [
              0.5555555555555556,
              "#d8576b"
             ],
             [
              0.6666666666666666,
              "#ed7953"
             ],
             [
              0.7777777777777778,
              "#fb9f3a"
             ],
             [
              0.8888888888888888,
              "#fdca26"
             ],
             [
              1,
              "#f0f921"
             ]
            ],
            "type": "histogram2d"
           }
          ],
          "histogram2dcontour": [
           {
            "colorbar": {
             "outlinewidth": 0,
             "ticks": ""
            },
            "colorscale": [
             [
              0,
              "#0d0887"
             ],
             [
              0.1111111111111111,
              "#46039f"
             ],
             [
              0.2222222222222222,
              "#7201a8"
             ],
             [
              0.3333333333333333,
              "#9c179e"
             ],
             [
              0.4444444444444444,
              "#bd3786"
             ],
             [
              0.5555555555555556,
              "#d8576b"
             ],
             [
              0.6666666666666666,
              "#ed7953"
             ],
             [
              0.7777777777777778,
              "#fb9f3a"
             ],
             [
              0.8888888888888888,
              "#fdca26"
             ],
             [
              1,
              "#f0f921"
             ]
            ],
            "type": "histogram2dcontour"
           }
          ],
          "mesh3d": [
           {
            "colorbar": {
             "outlinewidth": 0,
             "ticks": ""
            },
            "type": "mesh3d"
           }
          ],
          "parcoords": [
           {
            "line": {
             "colorbar": {
              "outlinewidth": 0,
              "ticks": ""
             }
            },
            "type": "parcoords"
           }
          ],
          "pie": [
           {
            "automargin": true,
            "type": "pie"
           }
          ],
          "scatter": [
           {
            "marker": {
             "colorbar": {
              "outlinewidth": 0,
              "ticks": ""
             }
            },
            "type": "scatter"
           }
          ],
          "scatter3d": [
           {
            "line": {
             "colorbar": {
              "outlinewidth": 0,
              "ticks": ""
             }
            },
            "marker": {
             "colorbar": {
              "outlinewidth": 0,
              "ticks": ""
             }
            },
            "type": "scatter3d"
           }
          ],
          "scattercarpet": [
           {
            "marker": {
             "colorbar": {
              "outlinewidth": 0,
              "ticks": ""
             }
            },
            "type": "scattercarpet"
           }
          ],
          "scattergeo": [
           {
            "marker": {
             "colorbar": {
              "outlinewidth": 0,
              "ticks": ""
             }
            },
            "type": "scattergeo"
           }
          ],
          "scattergl": [
           {
            "marker": {
             "colorbar": {
              "outlinewidth": 0,
              "ticks": ""
             }
            },
            "type": "scattergl"
           }
          ],
          "scattermapbox": [
           {
            "marker": {
             "colorbar": {
              "outlinewidth": 0,
              "ticks": ""
             }
            },
            "type": "scattermapbox"
           }
          ],
          "scatterpolar": [
           {
            "marker": {
             "colorbar": {
              "outlinewidth": 0,
              "ticks": ""
             }
            },
            "type": "scatterpolar"
           }
          ],
          "scatterpolargl": [
           {
            "marker": {
             "colorbar": {
              "outlinewidth": 0,
              "ticks": ""
             }
            },
            "type": "scatterpolargl"
           }
          ],
          "scatterternary": [
           {
            "marker": {
             "colorbar": {
              "outlinewidth": 0,
              "ticks": ""
             }
            },
            "type": "scatterternary"
           }
          ],
          "surface": [
           {
            "colorbar": {
             "outlinewidth": 0,
             "ticks": ""
            },
            "colorscale": [
             [
              0,
              "#0d0887"
             ],
             [
              0.1111111111111111,
              "#46039f"
             ],
             [
              0.2222222222222222,
              "#7201a8"
             ],
             [
              0.3333333333333333,
              "#9c179e"
             ],
             [
              0.4444444444444444,
              "#bd3786"
             ],
             [
              0.5555555555555556,
              "#d8576b"
             ],
             [
              0.6666666666666666,
              "#ed7953"
             ],
             [
              0.7777777777777778,
              "#fb9f3a"
             ],
             [
              0.8888888888888888,
              "#fdca26"
             ],
             [
              1,
              "#f0f921"
             ]
            ],
            "type": "surface"
           }
          ],
          "table": [
           {
            "cells": {
             "fill": {
              "color": "#EBF0F8"
             },
             "line": {
              "color": "white"
             }
            },
            "header": {
             "fill": {
              "color": "#C8D4E3"
             },
             "line": {
              "color": "white"
             }
            },
            "type": "table"
           }
          ]
         },
         "layout": {
          "annotationdefaults": {
           "arrowcolor": "#2a3f5f",
           "arrowhead": 0,
           "arrowwidth": 1
          },
          "autotypenumbers": "strict",
          "coloraxis": {
           "colorbar": {
            "outlinewidth": 0,
            "ticks": ""
           }
          },
          "colorscale": {
           "diverging": [
            [
             0,
             "#8e0152"
            ],
            [
             0.1,
             "#c51b7d"
            ],
            [
             0.2,
             "#de77ae"
            ],
            [
             0.3,
             "#f1b6da"
            ],
            [
             0.4,
             "#fde0ef"
            ],
            [
             0.5,
             "#f7f7f7"
            ],
            [
             0.6,
             "#e6f5d0"
            ],
            [
             0.7,
             "#b8e186"
            ],
            [
             0.8,
             "#7fbc41"
            ],
            [
             0.9,
             "#4d9221"
            ],
            [
             1,
             "#276419"
            ]
           ],
           "sequential": [
            [
             0,
             "#0d0887"
            ],
            [
             0.1111111111111111,
             "#46039f"
            ],
            [
             0.2222222222222222,
             "#7201a8"
            ],
            [
             0.3333333333333333,
             "#9c179e"
            ],
            [
             0.4444444444444444,
             "#bd3786"
            ],
            [
             0.5555555555555556,
             "#d8576b"
            ],
            [
             0.6666666666666666,
             "#ed7953"
            ],
            [
             0.7777777777777778,
             "#fb9f3a"
            ],
            [
             0.8888888888888888,
             "#fdca26"
            ],
            [
             1,
             "#f0f921"
            ]
           ],
           "sequentialminus": [
            [
             0,
             "#0d0887"
            ],
            [
             0.1111111111111111,
             "#46039f"
            ],
            [
             0.2222222222222222,
             "#7201a8"
            ],
            [
             0.3333333333333333,
             "#9c179e"
            ],
            [
             0.4444444444444444,
             "#bd3786"
            ],
            [
             0.5555555555555556,
             "#d8576b"
            ],
            [
             0.6666666666666666,
             "#ed7953"
            ],
            [
             0.7777777777777778,
             "#fb9f3a"
            ],
            [
             0.8888888888888888,
             "#fdca26"
            ],
            [
             1,
             "#f0f921"
            ]
           ]
          },
          "colorway": [
           "#636efa",
           "#EF553B",
           "#00cc96",
           "#ab63fa",
           "#FFA15A",
           "#19d3f3",
           "#FF6692",
           "#B6E880",
           "#FF97FF",
           "#FECB52"
          ],
          "font": {
           "color": "#2a3f5f"
          },
          "geo": {
           "bgcolor": "white",
           "lakecolor": "white",
           "landcolor": "#E5ECF6",
           "showlakes": true,
           "showland": true,
           "subunitcolor": "white"
          },
          "hoverlabel": {
           "align": "left"
          },
          "hovermode": "closest",
          "mapbox": {
           "style": "light"
          },
          "paper_bgcolor": "white",
          "plot_bgcolor": "#E5ECF6",
          "polar": {
           "angularaxis": {
            "gridcolor": "white",
            "linecolor": "white",
            "ticks": ""
           },
           "bgcolor": "#E5ECF6",
           "radialaxis": {
            "gridcolor": "white",
            "linecolor": "white",
            "ticks": ""
           }
          },
          "scene": {
           "xaxis": {
            "backgroundcolor": "#E5ECF6",
            "gridcolor": "white",
            "gridwidth": 2,
            "linecolor": "white",
            "showbackground": true,
            "ticks": "",
            "zerolinecolor": "white"
           },
           "yaxis": {
            "backgroundcolor": "#E5ECF6",
            "gridcolor": "white",
            "gridwidth": 2,
            "linecolor": "white",
            "showbackground": true,
            "ticks": "",
            "zerolinecolor": "white"
           },
           "zaxis": {
            "backgroundcolor": "#E5ECF6",
            "gridcolor": "white",
            "gridwidth": 2,
            "linecolor": "white",
            "showbackground": true,
            "ticks": "",
            "zerolinecolor": "white"
           }
          },
          "shapedefaults": {
           "line": {
            "color": "#2a3f5f"
           }
          },
          "ternary": {
           "aaxis": {
            "gridcolor": "white",
            "linecolor": "white",
            "ticks": ""
           },
           "baxis": {
            "gridcolor": "white",
            "linecolor": "white",
            "ticks": ""
           },
           "bgcolor": "#E5ECF6",
           "caxis": {
            "gridcolor": "white",
            "linecolor": "white",
            "ticks": ""
           }
          },
          "title": {
           "x": 0.05
          },
          "xaxis": {
           "automargin": true,
           "gridcolor": "white",
           "linecolor": "white",
           "ticks": "",
           "title": {
            "standoff": 15
           },
           "zerolinecolor": "white",
           "zerolinewidth": 2
          },
          "yaxis": {
           "automargin": true,
           "gridcolor": "white",
           "linecolor": "white",
           "ticks": "",
           "title": {
            "standoff": 15
           },
           "zerolinecolor": "white",
           "zerolinewidth": 2
          }
         }
        },
        "title": {
         "text": "Evolution - Registred companies by sector"
        },
        "xaxis": {
         "anchor": "y",
         "autorange": true,
         "domain": [
          0,
          1
         ],
         "range": [
          1998.660066249355,
          2022.5770602646398
         ],
         "title": {
          "text": "year"
         },
         "type": "linear"
        },
        "yaxis": {
         "anchor": "x",
         "autorange": true,
         "domain": [
          0,
          1
         ],
         "range": [
          -0.21112698253993956,
          16.272059694946563
         ],
         "title": {
          "text": "registers"
         },
         "type": "linear"
        }
       }
      },
      "image/png": "[encoded data removed]",
      "text/html": [
       "<div>                            <div id=\"6ef42402-8d37-4035-831a-78790bd48d8f\" class=\"plotly-graph-div\" style=\"height:525px; width:100%;\"></div>            <script type=\"text/javascript\">                require([\"plotly\"], function(Plotly) {                    window.PLOTLYENV=window.PLOTLYENV || {};                                    if (document.getElementById(\"6ef42402-8d37-4035-831a-78790bd48d8f\")) {                    Plotly.newPlot(                        \"6ef42402-8d37-4035-831a-78790bd48d8f\",                        [{\"hovertemplate\":\"sector=Emp. Adm. Part. - Energia El\\u00e9trica<br>year=%{x}<br>registers=%{y}<br>sector_size=%{marker.size}<extra></extra>\",\"legendgroup\":\"Emp. Adm. Part. - Energia El\\u00e9trica\",\"marker\":{\"color\":\"#636efa\",\"size\":[1,1,1,2,1,2,1,1,1,3,1],\"sizemode\":\"area\",\"sizeref\":0.035,\"symbol\":\"circle\"},\"mode\":\"markers\",\"name\":\"Emp. Adm. Part. - Energia El\\u00e9trica\",\"orientation\":\"v\",\"showlegend\":true,\"type\":\"scatter\",\"x\":[2000,2001,2005,2006,2007,2008,2014,2016,2017,2018,2021],\"xaxis\":\"x\",\"y\":[1,1,1,2,1,2,1,1,1,3,1],\"yaxis\":\"y\"},{\"hovertemplate\":\"sector=Telecomunica\\u00e7\\u00f5es<br>year=%{x}<br>registers=%{y}<br>sector_size=%{marker.size}<extra></extra>\",\"legendgroup\":\"Telecomunica\\u00e7\\u00f5es\",\"marker\":{\"color\":\"#EF553B\",\"size\":[1,1,1],\"sizemode\":\"area\",\"sizeref\":0.035,\"symbol\":\"circle\"},\"mode\":\"markers\",\"name\":\"Telecomunica\\u00e7\\u00f5es\",\"orientation\":\"v\",\"showlegend\":true,\"type\":\"scatter\",\"x\":[2000,2007,2020],\"xaxis\":\"x\",\"y\":[1,1,1],\"yaxis\":\"y\"},{\"hovertemplate\":\"sector=Securitiza\\u00e7\\u00e3o de Receb\\u00edveis<br>year=%{x}<br>registers=%{y}<br>sector_size=%{marker.size}<extra></extra>\",\"legendgroup\":\"Securitiza\\u00e7\\u00e3o de Receb\\u00edveis\",\"marker\":{\"color\":\"#00cc96\",\"size\":[1,2,1,1,2,2,3,4,3,3,2,2,4,3,2,6,5,8,1],\"sizemode\":\"area\",\"sizeref\":0.035,\"symbol\":\"circle\"},\"mode\":\"markers\",\"name\":\"Securitiza\\u00e7\\u00e3o de Receb\\u00edveis\",\"orientation\":\"v\",\"showlegend\":true,\"type\":\"scatter\",\"x\":[2000,2003,2005,2006,2007,2008,2009,2010,2011,2012,2013,2014,2015,2016,2017,2018,2019,2020,2021],\"xaxis\":\"x\",\"y\":[1,2,1,1,2,2,3,4,3,3,2,2,4,3,2,6,5,8,1],\"yaxis\":\"y\"},{\"hovertemplate\":\"sector=Arrendamento Mercantil<br>year=%{x}<br>registers=%{y}<br>sector_size=%{marker.size}<extra></extra>\",\"legendgroup\":\"Arrendamento Mercantil\",\"marker\":{\"color\":\"#ab63fa\",\"size\":[1,1],\"sizemode\":\"area\",\"sizeref\":0.035,\"symbol\":\"circle\"},\"mode\":\"markers\",\"name\":\"Arrendamento Mercantil\",\"orientation\":\"v\",\"showlegend\":true,\"type\":\"scatter\",\"x\":[2000,2004],\"xaxis\":\"x\",\"y\":[1,1],\"yaxis\":\"y\"},{\"hovertemplate\":\"sector=Emp. Adm. Part. - Servi\\u00e7os Transporte e Log\\u00edstica<br>year=%{x}<br>registers=%{y}<br>sector_size=%{marker.size}<extra></extra>\",\"legendgroup\":\"Emp. Adm. Part. - Servi\\u00e7os Transporte e Log\\u00edstica\",\"marker\":{\"color\":\"#FFA15A\",\"size\":[2,1,1,1,2,1],\"sizemode\":\"area\",\"sizeref\":0.035,\"symbol\":\"circle\"},\"mode\":\"markers\",\"name\":\"Emp. Adm. Part. - Servi\\u00e7os Transporte e Log\\u00edstica\",\"orientation\":\"v\",\"showlegend\":true,\"type\":\"scatter\",\"x\":[2000,2004,2009,2016,2019,2020],\"xaxis\":\"x\",\"y\":[2,1,1,1,2,1],\"yaxis\":\"y\"},{\"hovertemplate\":\"sector=Saneamento, Serv. \\u00c1gua e G\\u00e1s<br>year=%{x}<br>registers=%{y}<br>sector_size=%{marker.size}<extra></extra>\",\"legendgroup\":\"Saneamento, Serv. \\u00c1gua e G\\u00e1s\",\"marker\":{\"color\":\"#19d3f3\",\"size\":[2,1,1,1,1,3,1,2,2],\"sizemode\":\"area\",\"sizeref\":0.035,\"symbol\":\"circle\"},\"mode\":\"markers\",\"name\":\"Saneamento, Serv. \\u00c1gua e G\\u00e1s\",\"orientation\":\"v\",\"showlegend\":true,\"type\":\"scatter\",\"x\":[2000,2001,2003,2004,2013,2014,2015,2020,2021],\"xaxis\":\"x\",\"y\":[2,1,1,1,1,3,1,2,2],\"yaxis\":\"y\"},{\"hovertemplate\":\"sector=Servi\\u00e7os Transporte e Log\\u00edstica<br>year=%{x}<br>registers=%{y}<br>sector_size=%{marker.size}<extra></extra>\",\"legendgroup\":\"Servi\\u00e7os Transporte e Log\\u00edstica\",\"marker\":{\"color\":\"#FF6692\",\"size\":[1,2,1,1,2,2,4,2,10,4,2,2,3,1,5,1,1,2,4,3],\"sizemode\":\"area\",\"sizeref\":0.035,\"symbol\":\"circle\"},\"mode\":\"markers\",\"name\":\"Servi\\u00e7os Transporte e Log\\u00edstica\",\"orientation\":\"v\",\"showlegend\":true,\"type\":\"scatter\",\"x\":[2000,2001,2002,2003,2005,2006,2007,2009,2010,2011,2012,2013,2014,2015,2016,2017,2018,2019,2020,2021],\"xaxis\":\"x\",\"y\":[1,2,1,1,2,2,4,2,10,4,2,2,3,1,5,1,1,2,4,3],\"yaxis\":\"y\"},{\"hovertemplate\":\"sector=Emp. Adm. Part. - Sem Setor Principal<br>year=%{x}<br>registers=%{y}<br>sector_size=%{marker.size}<extra></extra>\",\"legendgroup\":\"Emp. Adm. Part. - Sem Setor Principal\",\"marker\":{\"color\":\"#B6E880\",\"size\":[1,3,3,1,1,1,1,3,1,2],\"sizemode\":\"area\",\"sizeref\":0.035,\"symbol\":\"circle\"},\"mode\":\"markers\",\"name\":\"Emp. Adm. Part. - Sem Setor Principal\",\"orientation\":\"v\",\"showlegend\":true,\"type\":\"scatter\",\"x\":[2000,2001,2006,2008,2011,2012,2015,2016,2020,2021],\"xaxis\":\"x\",\"y\":[1,3,3,1,1,1,1,3,1,2],\"yaxis\":\"y\"},{\"hovertemplate\":\"sector=Emp. Adm. Part. - Extra\\u00e7\\u00e3o Mineral<br>year=%{x}<br>registers=%{y}<br>sector_size=%{marker.size}<extra></extra>\",\"legendgroup\":\"Emp. Adm. Part. - Extra\\u00e7\\u00e3o Mineral\",\"marker\":{\"color\":\"#FF97FF\",\"size\":[1,1,1],\"sizemode\":\"area\",\"sizeref\":0.035,\"symbol\":\"circle\"},\"mode\":\"markers\",\"name\":\"Emp. Adm. Part. - Extra\\u00e7\\u00e3o Mineral\",\"orientation\":\"v\",\"showlegend\":true,\"type\":\"scatter\",\"x\":[2000,2006,2019],\"xaxis\":\"x\",\"y\":[1,1,1],\"yaxis\":\"y\"},{\"hovertemplate\":\"sector=Energia El\\u00e9trica<br>year=%{x}<br>registers=%{y}<br>sector_size=%{marker.size}<extra></extra>\",\"legendgroup\":\"Energia El\\u00e9trica\",\"marker\":{\"color\":\"#FECB52\",\"size\":[2,2,1,2,3,2,2,2,2,1,2,1,2,2,3,3,3,4],\"sizemode\":\"area\",\"sizeref\":0.035,\"symbol\":\"circle\"},\"mode\":\"markers\",\"name\":\"Energia El\\u00e9trica\",\"orientation\":\"v\",\"showlegend\":true,\"type\":\"scatter\",\"x\":[2001,2002,2003,2005,2006,2007,2008,2010,2011,2012,2013,2014,2015,2017,2018,2019,2020,2021],\"xaxis\":\"x\",\"y\":[2,2,1,2,3,2,2,2,2,1,2,1,2,2,3,3,3,4],\"yaxis\":\"y\"},{\"hovertemplate\":\"sector=Emp. Adm. Part. - Comunica\\u00e7\\u00e3o e Inform\\u00e1tica<br>year=%{x}<br>registers=%{y}<br>sector_size=%{marker.size}<extra></extra>\",\"legendgroup\":\"Emp. Adm. Part. - Comunica\\u00e7\\u00e3o e Inform\\u00e1tica\",\"marker\":{\"color\":\"#636efa\",\"size\":[1,1,1],\"sizemode\":\"area\",\"sizeref\":0.035,\"symbol\":\"circle\"},\"mode\":\"markers\",\"name\":\"Emp. Adm. Part. - Comunica\\u00e7\\u00e3o e Inform\\u00e1tica\",\"orientation\":\"v\",\"showlegend\":true,\"type\":\"scatter\",\"x\":[2001,2013,2021],\"xaxis\":\"x\",\"y\":[1,1,1],\"yaxis\":\"y\"},{\"hovertemplate\":\"sector=Farmac\\u00eautico e Higiene<br>year=%{x}<br>registers=%{y}<br>sector_size=%{marker.size}<extra></extra>\",\"legendgroup\":\"Farmac\\u00eautico e Higiene\",\"marker\":{\"color\":\"#EF553B\",\"size\":[1,1,1,1,1,2],\"sizemode\":\"area\",\"sizeref\":0.035,\"symbol\":\"circle\"},\"mode\":\"markers\",\"name\":\"Farmac\\u00eautico e Higiene\",\"orientation\":\"v\",\"showlegend\":true,\"type\":\"scatter\",\"x\":[2002,2004,2008,2011,2012,2019],\"xaxis\":\"x\",\"y\":[1,1,1,1,1,2],\"yaxis\":\"y\"},{\"hovertemplate\":\"sector=Bancos<br>year=%{x}<br>registers=%{y}<br>sector_size=%{marker.size}<extra></extra>\",\"legendgroup\":\"Bancos\",\"marker\":{\"color\":\"#00cc96\",\"size\":[1,6,1,1,3,1],\"sizemode\":\"area\",\"sizeref\":0.035,\"symbol\":\"circle\"},\"mode\":\"markers\",\"name\":\"Bancos\",\"orientation\":\"v\",\"showlegend\":true,\"type\":\"scatter\",\"x\":[2002,2007,2008,2011,2018,2021],\"xaxis\":\"x\",\"y\":[1,6,1,1,3,1],\"yaxis\":\"y\"},{\"hovertemplate\":\"sector=T\\u00eaxtil e Vestu\\u00e1rio<br>year=%{x}<br>registers=%{y}<br>sector_size=%{marker.size}<extra></extra>\",\"legendgroup\":\"T\\u00eaxtil e Vestu\\u00e1rio\",\"marker\":{\"color\":\"#ab63fa\",\"size\":[1,1,2,1,1],\"sizemode\":\"area\",\"sizeref\":0.035,\"symbol\":\"circle\"},\"mode\":\"markers\",\"name\":\"T\\u00eaxtil e Vestu\\u00e1rio\",\"orientation\":\"v\",\"showlegend\":true,\"type\":\"scatter\",\"x\":[2004,2010,2011,2019,2020],\"xaxis\":\"x\",\"y\":[1,1,2,1,1],\"yaxis\":\"y\"},{\"hovertemplate\":\"sector=Agricultura (A\\u00e7\\u00facar, \\u00c1lcool e Cana)<br>year=%{x}<br>registers=%{y}<br>sector_size=%{marker.size}<extra></extra>\",\"legendgroup\":\"Agricultura (A\\u00e7\\u00facar, \\u00c1lcool e Cana)\",\"marker\":{\"color\":\"#FFA15A\",\"size\":[1,1,2,2,1,1,1,1,2],\"sizemode\":\"area\",\"sizeref\":0.035,\"symbol\":\"circle\"},\"mode\":\"markers\",\"name\":\"Agricultura (A\\u00e7\\u00facar, \\u00c1lcool e Cana)\",\"orientation\":\"v\",\"showlegend\":true,\"type\":\"scatter\",\"x\":[2004,2005,2006,2007,2008,2012,2013,2016,2021],\"xaxis\":\"x\",\"y\":[1,1,2,2,1,1,1,1,2],\"yaxis\":\"y\"},{\"hovertemplate\":\"sector=Servi\\u00e7os M\\u00e9dicos<br>year=%{x}<br>registers=%{y}<br>sector_size=%{marker.size}<extra></extra>\",\"legendgroup\":\"Servi\\u00e7os M\\u00e9dicos\",\"marker\":{\"color\":\"#19d3f3\",\"size\":[1,1,1,1,1,1,4],\"sizemode\":\"area\",\"sizeref\":0.035,\"symbol\":\"circle\"},\"mode\":\"markers\",\"name\":\"Servi\\u00e7os M\\u00e9dicos\",\"orientation\":\"v\",\"showlegend\":true,\"type\":\"scatter\",\"x\":[2004,2009,2017,2018,2019,2020,2021],\"xaxis\":\"x\",\"y\":[1,1,1,1,1,1,4],\"yaxis\":\"y\"},{\"hovertemplate\":\"sector=Comunica\\u00e7\\u00e3o e Inform\\u00e1tica<br>year=%{x}<br>registers=%{y}<br>sector_size=%{marker.size}<extra></extra>\",\"legendgroup\":\"Comunica\\u00e7\\u00e3o e Inform\\u00e1tica\",\"marker\":{\"color\":\"#FF6692\",\"size\":[2,1,1,1,5,6],\"sizemode\":\"area\",\"sizeref\":0.035,\"symbol\":\"circle\"},\"mode\":\"markers\",\"name\":\"Comunica\\u00e7\\u00e3o e Inform\\u00e1tica\",\"orientation\":\"v\",\"showlegend\":true,\"type\":\"scatter\",\"x\":[2006,2012,2013,2018,2020,2021],\"xaxis\":\"x\",\"y\":[2,1,1,1,5,6],\"yaxis\":\"y\"},{\"hovertemplate\":\"sector=Emp. Adm. Part. - Com\\u00e9rcio (Atacado e Varejo)<br>year=%{x}<br>registers=%{y}<br>sector_size=%{marker.size}<extra></extra>\",\"legendgroup\":\"Emp. Adm. Part. - Com\\u00e9rcio (Atacado e Varejo)\",\"marker\":{\"color\":\"#B6E880\",\"size\":[1,1,1,1,1,1],\"sizemode\":\"area\",\"sizeref\":0.035,\"symbol\":\"circle\"},\"mode\":\"markers\",\"name\":\"Emp. Adm. Part. - Com\\u00e9rcio (Atacado e Varejo)\",\"orientation\":\"v\",\"showlegend\":true,\"type\":\"scatter\",\"x\":[2006,2008,2011,2017,2020,2021],\"xaxis\":\"x\",\"y\":[1,1,1,1,1,1],\"yaxis\":\"y\"},{\"hovertemplate\":\"sector=M\\u00e1quinas, Equipamentos, Ve\\u00edculos e Pe\\u00e7as<br>year=%{x}<br>registers=%{y}<br>sector_size=%{marker.size}<extra></extra>\",\"legendgroup\":\"M\\u00e1quinas, Equipamentos, Ve\\u00edculos e Pe\\u00e7as\",\"marker\":{\"color\":\"#FF97FF\",\"size\":[2,1,1,1,1,1],\"sizemode\":\"area\",\"sizeref\":0.035,\"symbol\":\"circle\"},\"mode\":\"markers\",\"name\":\"M\\u00e1quinas, Equipamentos, Ve\\u00edculos e Pe\\u00e7as\",\"orientation\":\"v\",\"showlegend\":true,\"type\":\"scatter\",\"x\":[2006,2007,2017,2019,2020,2021],\"xaxis\":\"x\",\"y\":[2,1,1,1,1,1],\"yaxis\":\"y\"},{\"hovertemplate\":\"sector=Emp. Adm. Part. - Const. Civil, Mat. Const. e Decora\\u00e7\\u00e3o<br>year=%{x}<br>registers=%{y}<br>sector_size=%{marker.size}<extra></extra>\",\"legendgroup\":\"Emp. Adm. Part. - Const. Civil, Mat. Const. e Decora\\u00e7\\u00e3o\",\"marker\":{\"color\":\"#FECB52\",\"size\":[1,6,1,1],\"sizemode\":\"area\",\"sizeref\":0.035,\"symbol\":\"circle\"},\"mode\":\"markers\",\"name\":\"Emp. Adm. Part. - Const. Civil, Mat. Const. e Decora\\u00e7\\u00e3o\",\"orientation\":\"v\",\"showlegend\":true,\"type\":\"scatter\",\"x\":[2006,2007,2020,2021],\"xaxis\":\"x\",\"y\":[1,6,1,1],\"yaxis\":\"y\"},{\"hovertemplate\":\"sector=Com\\u00e9rcio (Atacado e Varejo)<br>year=%{x}<br>registers=%{y}<br>sector_size=%{marker.size}<extra></extra>\",\"legendgroup\":\"Com\\u00e9rcio (Atacado e Varejo)\",\"marker\":{\"color\":\"#636efa\",\"size\":[1,3,1,3,2,1,2,6,14],\"sizemode\":\"area\",\"sizeref\":0.035,\"symbol\":\"circle\"},\"mode\":\"markers\",\"name\":\"Com\\u00e9rcio (Atacado e Varejo)\",\"orientation\":\"v\",\"showlegend\":true,\"type\":\"scatter\",\"x\":[2006,2007,2008,2011,2017,2018,2019,2020,2021],\"xaxis\":\"x\",\"y\":[1,3,1,3,2,1,2,6,14],\"yaxis\":\"y\"},{\"hovertemplate\":\"sector=Gr\\u00e1ficas e Editoras<br>year=%{x}<br>registers=%{y}<br>sector_size=%{marker.size}<extra></extra>\",\"legendgroup\":\"Gr\\u00e1ficas e Editoras\",\"marker\":{\"color\":\"#EF553B\",\"size\":[1],\"sizemode\":\"area\",\"sizeref\":0.035,\"symbol\":\"circle\"},\"mode\":\"markers\",\"name\":\"Gr\\u00e1ficas e Editoras\",\"orientation\":\"v\",\"showlegend\":true,\"type\":\"scatter\",\"x\":[2006],\"xaxis\":\"x\",\"y\":[1],\"yaxis\":\"y\"},{\"hovertemplate\":\"sector=Alimentos<br>year=%{x}<br>registers=%{y}<br>sector_size=%{marker.size}<extra></extra>\",\"legendgroup\":\"Alimentos\",\"marker\":{\"color\":\"#00cc96\",\"size\":[1,4,1,2,1],\"sizemode\":\"area\",\"sizeref\":0.035,\"symbol\":\"circle\"},\"mode\":\"markers\",\"name\":\"Alimentos\",\"orientation\":\"v\",\"showlegend\":true,\"type\":\"scatter\",\"x\":[2006,2007,2015,2017,2021],\"xaxis\":\"x\",\"y\":[1,4,1,2,1],\"yaxis\":\"y\"},{\"hovertemplate\":\"sector=Emp. Adm. Part. - Educa\\u00e7\\u00e3o<br>year=%{x}<br>registers=%{y}<br>sector_size=%{marker.size}<extra></extra>\",\"legendgroup\":\"Emp. Adm. Part. - Educa\\u00e7\\u00e3o\",\"marker\":{\"color\":\"#ab63fa\",\"size\":[1],\"sizemode\":\"area\",\"sizeref\":0.035,\"symbol\":\"circle\"},\"mode\":\"markers\",\"name\":\"Emp. Adm. Part. - Educa\\u00e7\\u00e3o\",\"orientation\":\"v\",\"showlegend\":true,\"type\":\"scatter\",\"x\":[2007],\"xaxis\":\"x\",\"y\":[1],\"yaxis\":\"y\"},{\"hovertemplate\":\"sector=Emp. Adm. Part. - Seguradoras e Corretoras<br>year=%{x}<br>registers=%{y}<br>sector_size=%{marker.size}<extra></extra>\",\"legendgroup\":\"Emp. Adm. Part. - Seguradoras e Corretoras\",\"marker\":{\"color\":\"#FFA15A\",\"size\":[1,1,1,1],\"sizemode\":\"area\",\"sizeref\":0.035,\"symbol\":\"circle\"},\"mode\":\"markers\",\"name\":\"Emp. Adm. Part. - Seguradoras e Corretoras\",\"orientation\":\"v\",\"showlegend\":true,\"type\":\"scatter\",\"x\":[2007,2010,2013,2015],\"xaxis\":\"x\",\"y\":[1,1,1,1],\"yaxis\":\"y\"},{\"hovertemplate\":\"sector=Emp. Adm. Part. - T\\u00eaxtil e Vestu\\u00e1rio<br>year=%{x}<br>registers=%{y}<br>sector_size=%{marker.size}<extra></extra>\",\"legendgroup\":\"Emp. Adm. Part. - T\\u00eaxtil e Vestu\\u00e1rio\",\"marker\":{\"color\":\"#19d3f3\",\"size\":[1],\"sizemode\":\"area\",\"sizeref\":0.035,\"symbol\":\"circle\"},\"mode\":\"markers\",\"name\":\"Emp. Adm. Part. - T\\u00eaxtil e Vestu\\u00e1rio\",\"orientation\":\"v\",\"showlegend\":true,\"type\":\"scatter\",\"x\":[2007],\"xaxis\":\"x\",\"y\":[1],\"yaxis\":\"y\"},{\"hovertemplate\":\"sector=Constru\\u00e7\\u00e3o Civil, Mat. Constr. e Decora\\u00e7\\u00e3o<br>year=%{x}<br>registers=%{y}<br>sector_size=%{marker.size}<extra></extra>\",\"legendgroup\":\"Constru\\u00e7\\u00e3o Civil, Mat. Constr. e Decora\\u00e7\\u00e3o\",\"marker\":{\"color\":\"#FF6692\",\"size\":[11,1,1,1,1,2,1,1,1,12,3],\"sizemode\":\"area\",\"sizeref\":0.035,\"symbol\":\"circle\"},\"mode\":\"markers\",\"name\":\"Constru\\u00e7\\u00e3o Civil, Mat. Constr. e Decora\\u00e7\\u00e3o\",\"orientation\":\"v\",\"showlegend\":true,\"type\":\"scatter\",\"x\":[2007,2008,2010,2012,2013,2015,2016,2017,2019,2020,2021],\"xaxis\":\"x\",\"y\":[11,1,1,1,1,2,1,1,1,12,3],\"yaxis\":\"y\"},{\"hovertemplate\":\"sector=Petroqu\\u00edmicos e Borracha<br>year=%{x}<br>registers=%{y}<br>sector_size=%{marker.size}<extra></extra>\",\"legendgroup\":\"Petroqu\\u00edmicos e Borracha\",\"marker\":{\"color\":\"#B6E880\",\"size\":[1],\"sizemode\":\"area\",\"sizeref\":0.035,\"symbol\":\"circle\"},\"mode\":\"markers\",\"name\":\"Petroqu\\u00edmicos e Borracha\",\"orientation\":\"v\",\"showlegend\":true,\"type\":\"scatter\",\"x\":[2007],\"xaxis\":\"x\",\"y\":[1],\"yaxis\":\"y\"},{\"hovertemplate\":\"sector=Bolsas de Valores/Mercadorias e Futuros<br>year=%{x}<br>registers=%{y}<br>sector_size=%{marker.size}<extra></extra>\",\"legendgroup\":\"Bolsas de Valores/Mercadorias e Futuros\",\"marker\":{\"color\":\"#FF97FF\",\"size\":[1],\"sizemode\":\"area\",\"sizeref\":0.035,\"symbol\":\"circle\"},\"mode\":\"markers\",\"name\":\"Bolsas de Valores/Mercadorias e Futuros\",\"orientation\":\"v\",\"showlegend\":true,\"type\":\"scatter\",\"x\":[2008],\"xaxis\":\"x\",\"y\":[1],\"yaxis\":\"y\"},{\"hovertemplate\":\"sector=Emp. Adm. Part. - Agricultura (A\\u00e7\\u00facar, \\u00c1lcool e Cana)<br>year=%{x}<br>registers=%{y}<br>sector_size=%{marker.size}<extra></extra>\",\"legendgroup\":\"Emp. Adm. Part. - Agricultura (A\\u00e7\\u00facar, \\u00c1lcool e Cana)\",\"marker\":{\"color\":\"#FECB52\",\"size\":[1,1],\"sizemode\":\"area\",\"sizeref\":0.035,\"symbol\":\"circle\"},\"mode\":\"markers\",\"name\":\"Emp. Adm. Part. - Agricultura (A\\u00e7\\u00facar, \\u00c1lcool e Cana)\",\"orientation\":\"v\",\"showlegend\":true,\"type\":\"scatter\",\"x\":[2009,2020],\"xaxis\":\"x\",\"y\":[1,1],\"yaxis\":\"y\"},{\"hovertemplate\":\"sector=Intermedia\\u00e7\\u00e3o Financeira<br>year=%{x}<br>registers=%{y}<br>sector_size=%{marker.size}<extra></extra>\",\"legendgroup\":\"Intermedia\\u00e7\\u00e3o Financeira\",\"marker\":{\"color\":\"#636efa\",\"size\":[1],\"sizemode\":\"area\",\"sizeref\":0.035,\"symbol\":\"circle\"},\"mode\":\"markers\",\"name\":\"Intermedia\\u00e7\\u00e3o Financeira\",\"orientation\":\"v\",\"showlegend\":true,\"type\":\"scatter\",\"x\":[2009],\"xaxis\":\"x\",\"y\":[1],\"yaxis\":\"y\"},{\"hovertemplate\":\"sector=Petr\\u00f3leo e G\\u00e1s<br>year=%{x}<br>registers=%{y}<br>sector_size=%{marker.size}<extra></extra>\",\"legendgroup\":\"Petr\\u00f3leo e G\\u00e1s\",\"marker\":{\"color\":\"#EF553B\",\"size\":[1,1,1,2],\"sizemode\":\"area\",\"sizeref\":0.035,\"symbol\":\"circle\"},\"mode\":\"markers\",\"name\":\"Petr\\u00f3leo e G\\u00e1s\",\"orientation\":\"v\",\"showlegend\":true,\"type\":\"scatter\",\"x\":[2010,2014,2020,2021],\"xaxis\":\"x\",\"y\":[1,1,1,2],\"yaxis\":\"y\"},{\"hovertemplate\":\"sector=Emp. Adm. Part. - Petr\\u00f3leo e G\\u00e1s<br>year=%{x}<br>registers=%{y}<br>sector_size=%{marker.size}<extra></extra>\",\"legendgroup\":\"Emp. Adm. Part. - Petr\\u00f3leo e G\\u00e1s\",\"marker\":{\"color\":\"#00cc96\",\"size\":[1,1,1],\"sizemode\":\"area\",\"sizeref\":0.035,\"symbol\":\"circle\"},\"mode\":\"markers\",\"name\":\"Emp. Adm. Part. - Petr\\u00f3leo e G\\u00e1s\",\"orientation\":\"v\",\"showlegend\":true,\"type\":\"scatter\",\"x\":[2011,2015,2019],\"xaxis\":\"x\",\"y\":[1,1,1],\"yaxis\":\"y\"},{\"hovertemplate\":\"sector=Seguradoras e Corretoras<br>year=%{x}<br>registers=%{y}<br>sector_size=%{marker.size}<extra></extra>\",\"legendgroup\":\"Seguradoras e Corretoras\",\"marker\":{\"color\":\"#ab63fa\",\"size\":[1,1,1],\"sizemode\":\"area\",\"sizeref\":0.035,\"symbol\":\"circle\"},\"mode\":\"markers\",\"name\":\"Seguradoras e Corretoras\",\"orientation\":\"v\",\"showlegend\":true,\"type\":\"scatter\",\"x\":[2011,2015,2017],\"xaxis\":\"x\",\"y\":[1,1,1],\"yaxis\":\"y\"},{\"hovertemplate\":\"sector=Brinquedos e Lazer<br>year=%{x}<br>registers=%{y}<br>sector_size=%{marker.size}<extra></extra>\",\"legendgroup\":\"Brinquedos e Lazer\",\"marker\":{\"color\":\"#FFA15A\",\"size\":[1,1,1],\"sizemode\":\"area\",\"sizeref\":0.035,\"symbol\":\"circle\"},\"mode\":\"markers\",\"name\":\"Brinquedos e Lazer\",\"orientation\":\"v\",\"showlegend\":true,\"type\":\"scatter\",\"x\":[2011,2016,2017],\"xaxis\":\"x\",\"y\":[1,1,1],\"yaxis\":\"y\"},{\"hovertemplate\":\"sector=Papel e Celulose<br>year=%{x}<br>registers=%{y}<br>sector_size=%{marker.size}<extra></extra>\",\"legendgroup\":\"Papel e Celulose\",\"marker\":{\"color\":\"#19d3f3\",\"size\":[1],\"sizemode\":\"area\",\"sizeref\":0.035,\"symbol\":\"circle\"},\"mode\":\"markers\",\"name\":\"Papel e Celulose\",\"orientation\":\"v\",\"showlegend\":true,\"type\":\"scatter\",\"x\":[2012],\"xaxis\":\"x\",\"y\":[1],\"yaxis\":\"y\"},{\"hovertemplate\":\"sector=Educa\\u00e7\\u00e3o<br>year=%{x}<br>registers=%{y}<br>sector_size=%{marker.size}<extra></extra>\",\"legendgroup\":\"Educa\\u00e7\\u00e3o\",\"marker\":{\"color\":\"#FF6692\",\"size\":[2,1,1],\"sizemode\":\"area\",\"sizeref\":0.035,\"symbol\":\"circle\"},\"mode\":\"markers\",\"name\":\"Educa\\u00e7\\u00e3o\",\"orientation\":\"v\",\"showlegend\":true,\"type\":\"scatter\",\"x\":[2013,2018,2021],\"xaxis\":\"x\",\"y\":[2,1,1],\"yaxis\":\"y\"},{\"hovertemplate\":\"sector=Hospedagem e Turismo<br>year=%{x}<br>registers=%{y}<br>sector_size=%{marker.size}<extra></extra>\",\"legendgroup\":\"Hospedagem e Turismo\",\"marker\":{\"color\":\"#B6E880\",\"size\":[1],\"sizemode\":\"area\",\"sizeref\":0.035,\"symbol\":\"circle\"},\"mode\":\"markers\",\"name\":\"Hospedagem e Turismo\",\"orientation\":\"v\",\"showlegend\":true,\"type\":\"scatter\",\"x\":[2013],\"xaxis\":\"x\",\"y\":[1],\"yaxis\":\"y\"},{\"hovertemplate\":\"sector=Bebidas e Fumo<br>year=%{x}<br>registers=%{y}<br>sector_size=%{marker.size}<extra></extra>\",\"legendgroup\":\"Bebidas e Fumo\",\"marker\":{\"color\":\"#FF97FF\",\"size\":[1],\"sizemode\":\"area\",\"sizeref\":0.035,\"symbol\":\"circle\"},\"mode\":\"markers\",\"name\":\"Bebidas e Fumo\",\"orientation\":\"v\",\"showlegend\":true,\"type\":\"scatter\",\"x\":[2013],\"xaxis\":\"x\",\"y\":[1],\"yaxis\":\"y\"},{\"hovertemplate\":\"sector=Emp. Adm. Part. - Telecomunica\\u00e7\\u00f5es<br>year=%{x}<br>registers=%{y}<br>sector_size=%{marker.size}<extra></extra>\",\"legendgroup\":\"Emp. Adm. Part. - Telecomunica\\u00e7\\u00f5es\",\"marker\":{\"color\":\"#FECB52\",\"size\":[1,1],\"sizemode\":\"area\",\"sizeref\":0.035,\"symbol\":\"circle\"},\"mode\":\"markers\",\"name\":\"Emp. Adm. Part. - Telecomunica\\u00e7\\u00f5es\",\"orientation\":\"v\",\"showlegend\":true,\"type\":\"scatter\",\"x\":[2014,2020],\"xaxis\":\"x\",\"y\":[1,1],\"yaxis\":\"y\"},{\"hovertemplate\":\"sector=Emp. Adm. Part. - M\\u00e1qs., Equip., Ve\\u00edc. e Pe\\u00e7as<br>year=%{x}<br>registers=%{y}<br>sector_size=%{marker.size}<extra></extra>\",\"legendgroup\":\"Emp. Adm. Part. - M\\u00e1qs., Equip., Ve\\u00edc. e Pe\\u00e7as\",\"marker\":{\"color\":\"#636efa\",\"size\":[1],\"sizemode\":\"area\",\"sizeref\":0.035,\"symbol\":\"circle\"},\"mode\":\"markers\",\"name\":\"Emp. Adm. Part. - M\\u00e1qs., Equip., Ve\\u00edc. e Pe\\u00e7as\",\"orientation\":\"v\",\"showlegend\":true,\"type\":\"scatter\",\"x\":[2018],\"xaxis\":\"x\",\"y\":[1],\"yaxis\":\"y\"},{\"hovertemplate\":\"sector=Emp. Adm. Part. - Servi\\u00e7os m\\u00e9dicos<br>year=%{x}<br>registers=%{y}<br>sector_size=%{marker.size}<extra></extra>\",\"legendgroup\":\"Emp. Adm. Part. - Servi\\u00e7os m\\u00e9dicos\",\"marker\":{\"color\":\"#EF553B\",\"size\":[1,1,1],\"sizemode\":\"area\",\"sizeref\":0.035,\"symbol\":\"circle\"},\"mode\":\"markers\",\"name\":\"Emp. Adm. Part. - Servi\\u00e7os m\\u00e9dicos\",\"orientation\":\"v\",\"showlegend\":true,\"type\":\"scatter\",\"x\":[2018,2019,2021],\"xaxis\":\"x\",\"y\":[1,1,1],\"yaxis\":\"y\"},{\"hovertemplate\":\"sector=Emp. Adm. Part. - Saneamento, Serv. \\u00c1gua e G\\u00e1s<br>year=%{x}<br>registers=%{y}<br>sector_size=%{marker.size}<extra></extra>\",\"legendgroup\":\"Emp. Adm. Part. - Saneamento, Serv. \\u00c1gua e G\\u00e1s\",\"marker\":{\"color\":\"#00cc96\",\"size\":[1,1],\"sizemode\":\"area\",\"sizeref\":0.035,\"symbol\":\"circle\"},\"mode\":\"markers\",\"name\":\"Emp. Adm. Part. - Saneamento, Serv. \\u00c1gua e G\\u00e1s\",\"orientation\":\"v\",\"showlegend\":true,\"type\":\"scatter\",\"x\":[2019,2020],\"xaxis\":\"x\",\"y\":[1,1],\"yaxis\":\"y\"},{\"hovertemplate\":\"sector=Extra\\u00e7\\u00e3o Mineral<br>year=%{x}<br>registers=%{y}<br>sector_size=%{marker.size}<extra></extra>\",\"legendgroup\":\"Extra\\u00e7\\u00e3o Mineral\",\"marker\":{\"color\":\"#ab63fa\",\"size\":[1],\"sizemode\":\"area\",\"sizeref\":0.035,\"symbol\":\"circle\"},\"mode\":\"markers\",\"name\":\"Extra\\u00e7\\u00e3o Mineral\",\"orientation\":\"v\",\"showlegend\":true,\"type\":\"scatter\",\"x\":[2021],\"xaxis\":\"x\",\"y\":[1],\"yaxis\":\"y\"},{\"hovertemplate\":\"sector=Emp. Adm. Part. - Bancos<br>year=%{x}<br>registers=%{y}<br>sector_size=%{marker.size}<extra></extra>\",\"legendgroup\":\"Emp. Adm. Part. - Bancos\",\"marker\":{\"color\":\"#FFA15A\",\"size\":[1],\"sizemode\":\"area\",\"sizeref\":0.035,\"symbol\":\"circle\"},\"mode\":\"markers\",\"name\":\"Emp. Adm. Part. - Bancos\",\"orientation\":\"v\",\"showlegend\":true,\"type\":\"scatter\",\"x\":[2021],\"xaxis\":\"x\",\"y\":[1],\"yaxis\":\"y\"}],                        {\"legend\":{\"itemsizing\":\"constant\",\"title\":{\"text\":\"sector\"},\"tracegroupgap\":0},\"template\":{\"data\":{\"bar\":[{\"error_x\":{\"color\":\"#2a3f5f\"},\"error_y\":{\"color\":\"#2a3f5f\"},\"marker\":{\"line\":{\"color\":\"#E5ECF6\",\"width\":0.5},\"pattern\":{\"fillmode\":\"overlay\",\"size\":10,\"solidity\":0.2}},\"type\":\"bar\"}],\"barpolar\":[{\"marker\":{\"line\":{\"color\":\"#E5ECF6\",\"width\":0.5},\"pattern\":{\"fillmode\":\"overlay\",\"size\":10,\"solidity\":0.2}},\"type\":\"barpolar\"}],\"carpet\":[{\"aaxis\":{\"endlinecolor\":\"#2a3f5f\",\"gridcolor\":\"white\",\"linecolor\":\"white\",\"minorgridcolor\":\"white\",\"startlinecolor\":\"#2a3f5f\"},\"baxis\":{\"endlinecolor\":\"#2a3f5f\",\"gridcolor\":\"white\",\"linecolor\":\"white\",\"minorgridcolor\":\"white\",\"startlinecolor\":\"#2a3f5f\"},\"type\":\"carpet\"}],\"choropleth\":[{\"colorbar\":{\"outlinewidth\":0,\"ticks\":\"\"},\"type\":\"choropleth\"}],\"contour\":[{\"colorbar\":{\"outlinewidth\":0,\"ticks\":\"\"},\"colorscale\":[[0.0,\"#0d0887\"],[0.1111111111111111,\"#46039f\"],[0.2222222222222222,\"#7201a8\"],[0.3333333333333333,\"#9c179e\"],[0.4444444444444444,\"#bd3786\"],[0.5555555555555556,\"#d8576b\"],[0.6666666666666666,\"#ed7953\"],[0.7777777777777778,\"#fb9f3a\"],[0.8888888888888888,\"#fdca26\"],[1.0,\"#f0f921\"]],\"type\":\"contour\"}],\"contourcarpet\":[{\"colorbar\":{\"outlinewidth\":0,\"ticks\":\"\"},\"type\":\"contourcarpet\"}],\"heatmap\":[{\"colorbar\":{\"outlinewidth\":0,\"ticks\":\"\"},\"colorscale\":[[0.0,\"#0d0887\"],[0.1111111111111111,\"#46039f\"],[0.2222222222222222,\"#7201a8\"],[0.3333333333333333,\"#9c179e\"],[0.4444444444444444,\"#bd3786\"],[0.5555555555555556,\"#d8576b\"],[0.6666666666666666,\"#ed7953\"],[0.7777777777777778,\"#fb9f3a\"],[0.8888888888888888,\"#fdca26\"],[1.0,\"#f0f921\"]],\"type\":\"heatmap\"}],\"heatmapgl\":[{\"colorbar\":{\"outlinewidth\":0,\"ticks\":\"\"},\"colorscale\":[[0.0,\"#0d0887\"],[0.1111111111111111,\"#46039f\"],[0.2222222222222222,\"#7201a8\"],[0.3333333333333333,\"#9c179e\"],[0.4444444444444444,\"#bd3786\"],[0.5555555555555556,\"#d8576b\"],[0.6666666666666666,\"#ed7953\"],[0.7777777777777778,\"#fb9f3a\"],[0.8888888888888888,\"#fdca26\"],[1.0,\"#f0f921\"]],\"type\":\"heatmapgl\"}],\"histogram\":[{\"marker\":{\"pattern\":{\"fillmode\":\"overlay\",\"size\":10,\"solidity\":0.2}},\"type\":\"histogram\"}],\"histogram2d\":[{\"colorbar\":{\"outlinewidth\":0,\"ticks\":\"\"},\"colorscale\":[[0.0,\"#0d0887\"],[0.1111111111111111,\"#46039f\"],[0.2222222222222222,\"#7201a8\"],[0.3333333333333333,\"#9c179e\"],[0.4444444444444444,\"#bd3786\"],[0.5555555555555556,\"#d8576b\"],[0.6666666666666666,\"#ed7953\"],[0.7777777777777778,\"#fb9f3a\"],[0.8888888888888888,\"#fdca26\"],[1.0,\"#f0f921\"]],\"type\":\"histogram2d\"}],\"histogram2dcontour\":[{\"colorbar\":{\"outlinewidth\":0,\"ticks\":\"\"},\"colorscale\":[[0.0,\"#0d0887\"],[0.1111111111111111,\"#46039f\"],[0.2222222222222222,\"#7201a8\"],[0.3333333333333333,\"#9c179e\"],[0.4444444444444444,\"#bd3786\"],[0.5555555555555556,\"#d8576b\"],[0.6666666666666666,\"#ed7953\"],[0.7777777777777778,\"#fb9f3a\"],[0.8888888888888888,\"#fdca26\"],[1.0,\"#f0f921\"]],\"type\":\"histogram2dcontour\"}],\"mesh3d\":[{\"colorbar\":{\"outlinewidth\":0,\"ticks\":\"\"},\"type\":\"mesh3d\"}],\"parcoords\":[{\"line\":{\"colorbar\":{\"outlinewidth\":0,\"ticks\":\"\"}},\"type\":\"parcoords\"}],\"pie\":[{\"automargin\":true,\"type\":\"pie\"}],\"scatter\":[{\"marker\":{\"colorbar\":{\"outlinewidth\":0,\"ticks\":\"\"}},\"type\":\"scatter\"}],\"scatter3d\":[{\"line\":{\"colorbar\":{\"outlinewidth\":0,\"ticks\":\"\"}},\"marker\":{\"colorbar\":{\"outlinewidth\":0,\"ticks\":\"\"}},\"type\":\"scatter3d\"}],\"scattercarpet\":[{\"marker\":{\"colorbar\":{\"outlinewidth\":0,\"ticks\":\"\"}},\"type\":\"scattercarpet\"}],\"scattergeo\":[{\"marker\":{\"colorbar\":{\"outlinewidth\":0,\"ticks\":\"\"}},\"type\":\"scattergeo\"}],\"scattergl\":[{\"marker\":{\"colorbar\":{\"outlinewidth\":0,\"ticks\":\"\"}},\"type\":\"scattergl\"}],\"scattermapbox\":[{\"marker\":{\"colorbar\":{\"outlinewidth\":0,\"ticks\":\"\"}},\"type\":\"scattermapbox\"}],\"scatterpolar\":[{\"marker\":{\"colorbar\":{\"outlinewidth\":0,\"ticks\":\"\"}},\"type\":\"scatterpolar\"}],\"scatterpolargl\":[{\"marker\":{\"colorbar\":{\"outlinewidth\":0,\"ticks\":\"\"}},\"type\":\"scatterpolargl\"}],\"scatterternary\":[{\"marker\":{\"colorbar\":{\"outlinewidth\":0,\"ticks\":\"\"}},\"type\":\"scatterternary\"}],\"surface\":[{\"colorbar\":{\"outlinewidth\":0,\"ticks\":\"\"},\"colorscale\":[[0.0,\"#0d0887\"],[0.1111111111111111,\"#46039f\"],[0.2222222222222222,\"#7201a8\"],[0.3333333333333333,\"#9c179e\"],[0.4444444444444444,\"#bd3786\"],[0.5555555555555556,\"#d8576b\"],[0.6666666666666666,\"#ed7953\"],[0.7777777777777778,\"#fb9f3a\"],[0.8888888888888888,\"#fdca26\"],[1.0,\"#f0f921\"]],\"type\":\"surface\"}],\"table\":[{\"cells\":{\"fill\":{\"color\":\"#EBF0F8\"},\"line\":{\"color\":\"white\"}},\"header\":{\"fill\":{\"color\":\"#C8D4E3\"},\"line\":{\"color\":\"white\"}},\"type\":\"table\"}]},\"layout\":{\"annotationdefaults\":{\"arrowcolor\":\"#2a3f5f\",\"arrowhead\":0,\"arrowwidth\":1},\"autotypenumbers\":\"strict\",\"coloraxis\":{\"colorbar\":{\"outlinewidth\":0,\"ticks\":\"\"}},\"colorscale\":{\"diverging\":[[0,\"#8e0152\"],[0.1,\"#c51b7d\"],[0.2,\"#de77ae\"],[0.3,\"#f1b6da\"],[0.4,\"#fde0ef\"],[0.5,\"#f7f7f7\"],[0.6,\"#e6f5d0\"],[0.7,\"#b8e186\"],[0.8,\"#7fbc41\"],[0.9,\"#4d9221\"],[1,\"#276419\"]],\"sequential\":[[0.0,\"#0d0887\"],[0.1111111111111111,\"#46039f\"],[0.2222222222222222,\"#7201a8\"],[0.3333333333333333,\"#9c179e\"],[0.4444444444444444,\"#bd3786\"],[0.5555555555555556,\"#d8576b\"],[0.6666666666666666,\"#ed7953\"],[0.7777777777777778,\"#fb9f3a\"],[0.8888888888888888,\"#fdca26\"],[1.0,\"#f0f921\"]],\"sequentialminus\":[[0.0,\"#0d0887\"],[0.1111111111111111,\"#46039f\"],[0.2222222222222222,\"#7201a8\"],[0.3333333333333333,\"#9c179e\"],[0.4444444444444444,\"#bd3786\"],[0.5555555555555556,\"#d8576b\"],[0.6666666666666666,\"#ed7953\"],[0.7777777777777778,\"#fb9f3a\"],[0.8888888888888888,\"#fdca26\"],[1.0,\"#f0f921\"]]},\"colorway\":[\"#636efa\",\"#EF553B\",\"#00cc96\",\"#ab63fa\",\"#FFA15A\",\"#19d3f3\",\"#FF6692\",\"#B6E880\",\"#FF97FF\",\"#FECB52\"],\"font\":{\"color\":\"#2a3f5f\"},\"geo\":{\"bgcolor\":\"white\",\"lakecolor\":\"white\",\"landcolor\":\"#E5ECF6\",\"showlakes\":true,\"showland\":true,\"subunitcolor\":\"white\"},\"hoverlabel\":{\"align\":\"left\"},\"hovermode\":\"closest\",\"mapbox\":{\"style\":\"light\"},\"paper_bgcolor\":\"white\",\"plot_bgcolor\":\"#E5ECF6\",\"polar\":{\"angularaxis\":{\"gridcolor\":\"white\",\"linecolor\":\"white\",\"ticks\":\"\"},\"bgcolor\":\"#E5ECF6\",\"radialaxis\":{\"gridcolor\":\"white\",\"linecolor\":\"white\",\"ticks\":\"\"}},\"scene\":{\"xaxis\":{\"backgroundcolor\":\"#E5ECF6\",\"gridcolor\":\"white\",\"gridwidth\":2,\"linecolor\":\"white\",\"showbackground\":true,\"ticks\":\"\",\"zerolinecolor\":\"white\"},\"yaxis\":{\"backgroundcolor\":\"#E5ECF6\",\"gridcolor\":\"white\",\"gridwidth\":2,\"linecolor\":\"white\",\"showbackground\":true,\"ticks\":\"\",\"zerolinecolor\":\"white\"},\"zaxis\":{\"backgroundcolor\":\"#E5ECF6\",\"gridcolor\":\"white\",\"gridwidth\":2,\"linecolor\":\"white\",\"showbackground\":true,\"ticks\":\"\",\"zerolinecolor\":\"white\"}},\"shapedefaults\":{\"line\":{\"color\":\"#2a3f5f\"}},\"ternary\":{\"aaxis\":{\"gridcolor\":\"white\",\"linecolor\":\"white\",\"ticks\":\"\"},\"baxis\":{\"gridcolor\":\"white\",\"linecolor\":\"white\",\"ticks\":\"\"},\"bgcolor\":\"#E5ECF6\",\"caxis\":{\"gridcolor\":\"white\",\"linecolor\":\"white\",\"ticks\":\"\"}},\"title\":{\"x\":0.05},\"xaxis\":{\"automargin\":true,\"gridcolor\":\"white\",\"linecolor\":\"white\",\"ticks\":\"\",\"title\":{\"standoff\":15},\"zerolinecolor\":\"white\",\"zerolinewidth\":2},\"yaxis\":{\"automargin\":true,\"gridcolor\":\"white\",\"linecolor\":\"white\",\"ticks\":\"\",\"title\":{\"standoff\":15},\"zerolinecolor\":\"white\",\"zerolinewidth\":2}}},\"title\":{\"text\":\"Evolution - Registred companies by sector\"},\"xaxis\":{\"anchor\":\"y\",\"domain\":[0.0,1.0],\"title\":{\"text\":\"year\"}},\"yaxis\":{\"anchor\":\"x\",\"domain\":[0.0,1.0],\"title\":{\"text\":\"registers\"}}},                        {\"responsive\": true}                    ).then(function(){\n",
       "                            \n",
       "var gd = document.getElementById('6ef42402-8d37-4035-831a-78790bd48d8f');\n",
       "var x = new MutationObserver(function (mutations, observer) {{\n",
       "        var display = window.getComputedStyle(gd).display;\n",
       "        if (!display || display === 'none') {{\n",
       "            console.log([gd, 'removed!']);\n",
       "            Plotly.purge(gd);\n",
       "            observer.disconnect();\n",
       "        }}\n",
       "}});\n",
       "\n",
       "// Listen for the removal of the full notebook cells\n",
       "var notebookContainer = gd.closest('#notebook-container');\n",
       "if (notebookContainer) {{\n",
       "    x.observe(notebookContainer, {childList: true});\n",
       "}}\n",
       "\n",
       "// Listen for the clearing of the current output cell\n",
       "var outputEl = gd.closest('.output');\n",
       "if (outputEl) {{\n",
       "    x.observe(outputEl, {childList: true});\n",
       "}}\n",
       "\n",
       "                        })                };                });            </script>        </div>"
      ]
     },
     "metadata": {},
     "output_type": "display_data"
    }
   ],
   "source": [
    "fig = px.scatter(pd_df_registers, x=\"year\", y=\"registers\", size=\"sector_size\", color=\"sector\", title=\"Evolution - Registred companies by sector\")\n",
    "fig.show()"
   ]
  },
  {
   "cell_type": "code",
   "execution_count": 44,
   "metadata": {},
   "outputs": [
    {
     "data": {
      "text/html": [
       "<div>\n",
       "<style scoped>\n",
       "    .dataframe tbody tr th:only-of-type {\n",
       "        vertical-align: middle;\n",
       "    }\n",
       "\n",
       "    .dataframe tbody tr th {\n",
       "        vertical-align: top;\n",
       "    }\n",
       "\n",
       "    .dataframe thead th {\n",
       "        text-align: right;\n",
       "    }\n",
       "</style>\n",
       "<table border=\"1\" class=\"dataframe\">\n",
       "  <thead>\n",
       "    <tr style=\"text-align: right;\">\n",
       "      <th></th>\n",
       "      <th>companies</th>\n",
       "      <th>state</th>\n",
       "    </tr>\n",
       "  </thead>\n",
       "  <tbody>\n",
       "    <tr>\n",
       "      <th>0</th>\n",
       "      <td>8</td>\n",
       "      <td>SC</td>\n",
       "    </tr>\n",
       "    <tr>\n",
       "      <th>1</th>\n",
       "      <td>1</td>\n",
       "      <td>PI</td>\n",
       "    </tr>\n",
       "    <tr>\n",
       "      <th>2</th>\n",
       "      <td>7</td>\n",
       "      <td>GO</td>\n",
       "    </tr>\n",
       "    <tr>\n",
       "      <th>3</th>\n",
       "      <td>1</td>\n",
       "      <td>TO</td>\n",
       "    </tr>\n",
       "    <tr>\n",
       "      <th>4</th>\n",
       "      <td>3</td>\n",
       "      <td>MT</td>\n",
       "    </tr>\n",
       "  </tbody>\n",
       "</table>\n",
       "</div>"
      ],
      "text/plain": [
       "   companies state\n",
       "0          8    SC\n",
       "1          1    PI\n",
       "2          7    GO\n",
       "3          1    TO\n",
       "4          3    MT"
      ]
     },
     "execution_count": 44,
     "metadata": {},
     "output_type": "execute_result"
    }
   ],
   "source": [
    "df_cia_state = spark.sql(\"\"\"\n",
    "    SELECT \n",
    "        COUNT(f.*) as companies,\n",
    "        l.state as state\n",
    "    FROM fact_company_registration f\n",
    "    JOIN dim_time t ON t.registration_date = f.registration_date\n",
    "    JOIN dim_location l ON l.location_id = f.location_id\n",
    "    WHERE t.year BETWEEN 2000 AND 2021\n",
    "    GROUP BY state\n",
    "\"\"\")\n",
    "\n",
    "df_cia_state = df_cia_state.toPandas()\n",
    "df_cia_state.head()"
   ]
  },
  {
   "cell_type": "code",
   "execution_count": 45,
   "metadata": {},
   "outputs": [
    {
     "data": {
      "application/vnd.plotly.v1+json": {
       "config": {
        "plotlyServerURL": "https://plot.ly"
       },
       "data": [
        {
         "alignmentgroup": "True",
         "hovertemplate": "state=%{x}<br>companies=%{y}<extra></extra>",
         "legendgroup": "",
         "marker": {
          "color": "#636efa",
          "pattern": {
           "shape": ""
          }
         },
         "name": "",
         "offsetgroup": "",
         "orientation": "v",
         "showlegend": false,
         "textposition": "auto",
         "type": "bar",
         "x": [
          "SC",
          "PI",
          "GO",
          "TO",
          "MT",
          "SP",
          "ES",
          "PB",
          "RS",
          "MS",
          "MG",
          "BA",
          "SE",
          "PE",
          "CE",
          "RJ",
          "MA",
          "DF",
          "PR"
         ],
         "xaxis": "x",
         "y": [
          8,
          1,
          7,
          1,
          3,
          236,
          4,
          1,
          11,
          2,
          33,
          5,
          1,
          3,
          9,
          64,
          4,
          7,
          18
         ],
         "yaxis": "y"
        }
       ],
       "layout": {
        "autosize": true,
        "barmode": "relative",
        "legend": {
         "tracegroupgap": 0
        },
        "template": {
         "data": {
          "bar": [
           {
            "error_x": {
             "color": "#2a3f5f"
            },
            "error_y": {
             "color": "#2a3f5f"
            },
            "marker": {
             "line": {
              "color": "#E5ECF6",
              "width": 0.5
             },
             "pattern": {
              "fillmode": "overlay",
              "size": 10,
              "solidity": 0.2
             }
            },
            "type": "bar"
           }
          ],
          "barpolar": [
           {
            "marker": {
             "line": {
              "color": "#E5ECF6",
              "width": 0.5
             },
             "pattern": {
              "fillmode": "overlay",
              "size": 10,
              "solidity": 0.2
             }
            },
            "type": "barpolar"
           }
          ],
          "carpet": [
           {
            "aaxis": {
             "endlinecolor": "#2a3f5f",
             "gridcolor": "white",
             "linecolor": "white",
             "minorgridcolor": "white",
             "startlinecolor": "#2a3f5f"
            },
            "baxis": {
             "endlinecolor": "#2a3f5f",
             "gridcolor": "white",
             "linecolor": "white",
             "minorgridcolor": "white",
             "startlinecolor": "#2a3f5f"
            },
            "type": "carpet"
           }
          ],
          "choropleth": [
           {
            "colorbar": {
             "outlinewidth": 0,
             "ticks": ""
            },
            "type": "choropleth"
           }
          ],
          "contour": [
           {
            "colorbar": {
             "outlinewidth": 0,
             "ticks": ""
            },
            "colorscale": [
             [
              0,
              "#0d0887"
             ],
             [
              0.1111111111111111,
              "#46039f"
             ],
             [
              0.2222222222222222,
              "#7201a8"
             ],
             [
              0.3333333333333333,
              "#9c179e"
             ],
             [
              0.4444444444444444,
              "#bd3786"
             ],
             [
              0.5555555555555556,
              "#d8576b"
             ],
             [
              0.6666666666666666,
              "#ed7953"
             ],
             [
              0.7777777777777778,
              "#fb9f3a"
             ],
             [
              0.8888888888888888,
              "#fdca26"
             ],
             [
              1,
              "#f0f921"
             ]
            ],
            "type": "contour"
           }
          ],
          "contourcarpet": [
           {
            "colorbar": {
             "outlinewidth": 0,
             "ticks": ""
            },
            "type": "contourcarpet"
           }
          ],
          "heatmap": [
           {
            "colorbar": {
             "outlinewidth": 0,
             "ticks": ""
            },
            "colorscale": [
             [
              0,
              "#0d0887"
             ],
             [
              0.1111111111111111,
              "#46039f"
             ],
             [
              0.2222222222222222,
              "#7201a8"
             ],
             [
              0.3333333333333333,
              "#9c179e"
             ],
             [
              0.4444444444444444,
              "#bd3786"
             ],
             [
              0.5555555555555556,
              "#d8576b"
             ],
             [
              0.6666666666666666,
              "#ed7953"
             ],
             [
              0.7777777777777778,
              "#fb9f3a"
             ],
             [
              0.8888888888888888,
              "#fdca26"
             ],
             [
              1,
              "#f0f921"
             ]
            ],
            "type": "heatmap"
           }
          ],
          "heatmapgl": [
           {
            "colorbar": {
             "outlinewidth": 0,
             "ticks": ""
            },
            "colorscale": [
             [
              0,
              "#0d0887"
             ],
             [
              0.1111111111111111,
              "#46039f"
             ],
             [
              0.2222222222222222,
              "#7201a8"
             ],
             [
              0.3333333333333333,
              "#9c179e"
             ],
             [
              0.4444444444444444,
              "#bd3786"
             ],
             [
              0.5555555555555556,
              "#d8576b"
             ],
             [
              0.6666666666666666,
              "#ed7953"
             ],
             [
              0.7777777777777778,
              "#fb9f3a"
             ],
             [
              0.8888888888888888,
              "#fdca26"
             ],
             [
              1,
              "#f0f921"
             ]
            ],
            "type": "heatmapgl"
           }
          ],
          "histogram": [
           {
            "marker": {
             "pattern": {
              "fillmode": "overlay",
              "size": 10,
              "solidity": 0.2
             }
            },
            "type": "histogram"
           }
          ],
          "histogram2d": [
           {
            "colorbar": {
             "outlinewidth": 0,
             "ticks": ""
            },
            "colorscale": [
             [
              0,
              "#0d0887"
             ],
             [
              0.1111111111111111,
              "#46039f"
             ],
             [
              0.2222222222222222,
              "#7201a8"
             ],
             [
              0.3333333333333333,
              "#9c179e"
             ],
             [
              0.4444444444444444,
              "#bd3786"
             ],
             [
              0.5555555555555556,
              "#d8576b"
             ],
             [
              0.6666666666666666,
              "#ed7953"
             ],
             [
              0.7777777777777778,
              "#fb9f3a"
             ],
             [
              0.8888888888888888,
              "#fdca26"
             ],
             [
              1,
              "#f0f921"
             ]
            ],
            "type": "histogram2d"
           }
          ],
          "histogram2dcontour": [
           {
            "colorbar": {
             "outlinewidth": 0,
             "ticks": ""
            },
            "colorscale": [
             [
              0,
              "#0d0887"
             ],
             [
              0.1111111111111111,
              "#46039f"
             ],
             [
              0.2222222222222222,
              "#7201a8"
             ],
             [
              0.3333333333333333,
              "#9c179e"
             ],
             [
              0.4444444444444444,
              "#bd3786"
             ],
             [
              0.5555555555555556,
              "#d8576b"
             ],
             [
              0.6666666666666666,
              "#ed7953"
             ],
             [
              0.7777777777777778,
              "#fb9f3a"
             ],
             [
              0.8888888888888888,
              "#fdca26"
             ],
             [
              1,
              "#f0f921"
             ]
            ],
            "type": "histogram2dcontour"
           }
          ],
          "mesh3d": [
           {
            "colorbar": {
             "outlinewidth": 0,
             "ticks": ""
            },
            "type": "mesh3d"
           }
          ],
          "parcoords": [
           {
            "line": {
             "colorbar": {
              "outlinewidth": 0,
              "ticks": ""
             }
            },
            "type": "parcoords"
           }
          ],
          "pie": [
           {
            "automargin": true,
            "type": "pie"
           }
          ],
          "scatter": [
           {
            "marker": {
             "colorbar": {
              "outlinewidth": 0,
              "ticks": ""
             }
            },
            "type": "scatter"
           }
          ],
          "scatter3d": [
           {
            "line": {
             "colorbar": {
              "outlinewidth": 0,
              "ticks": ""
             }
            },
            "marker": {
             "colorbar": {
              "outlinewidth": 0,
              "ticks": ""
             }
            },
            "type": "scatter3d"
           }
          ],
          "scattercarpet": [
           {
            "marker": {
             "colorbar": {
              "outlinewidth": 0,
              "ticks": ""
             }
            },
            "type": "scattercarpet"
           }
          ],
          "scattergeo": [
           {
            "marker": {
             "colorbar": {
              "outlinewidth": 0,
              "ticks": ""
             }
            },
            "type": "scattergeo"
           }
          ],
          "scattergl": [
           {
            "marker": {
             "colorbar": {
              "outlinewidth": 0,
              "ticks": ""
             }
            },
            "type": "scattergl"
           }
          ],
          "scattermapbox": [
           {
            "marker": {
             "colorbar": {
              "outlinewidth": 0,
              "ticks": ""
             }
            },
            "type": "scattermapbox"
           }
          ],
          "scatterpolar": [
           {
            "marker": {
             "colorbar": {
              "outlinewidth": 0,
              "ticks": ""
             }
            },
            "type": "scatterpolar"
           }
          ],
          "scatterpolargl": [
           {
            "marker": {
             "colorbar": {
              "outlinewidth": 0,
              "ticks": ""
             }
            },
            "type": "scatterpolargl"
           }
          ],
          "scatterternary": [
           {
            "marker": {
             "colorbar": {
              "outlinewidth": 0,
              "ticks": ""
             }
            },
            "type": "scatterternary"
           }
          ],
          "surface": [
           {
            "colorbar": {
             "outlinewidth": 0,
             "ticks": ""
            },
            "colorscale": [
             [
              0,
              "#0d0887"
             ],
             [
              0.1111111111111111,
              "#46039f"
             ],
             [
              0.2222222222222222,
              "#7201a8"
             ],
             [
              0.3333333333333333,
              "#9c179e"
             ],
             [
              0.4444444444444444,
              "#bd3786"
             ],
             [
              0.5555555555555556,
              "#d8576b"
             ],
             [
              0.6666666666666666,
              "#ed7953"
             ],
             [
              0.7777777777777778,
              "#fb9f3a"
             ],
             [
              0.8888888888888888,
              "#fdca26"
             ],
             [
              1,
              "#f0f921"
             ]
            ],
            "type": "surface"
           }
          ],
          "table": [
           {
            "cells": {
             "fill": {
              "color": "#EBF0F8"
             },
             "line": {
              "color": "white"
             }
            },
            "header": {
             "fill": {
              "color": "#C8D4E3"
             },
             "line": {
              "color": "white"
             }
            },
            "type": "table"
           }
          ]
         },
         "layout": {
          "annotationdefaults": {
           "arrowcolor": "#2a3f5f",
           "arrowhead": 0,
           "arrowwidth": 1
          },
          "autotypenumbers": "strict",
          "coloraxis": {
           "colorbar": {
            "outlinewidth": 0,
            "ticks": ""
           }
          },
          "colorscale": {
           "diverging": [
            [
             0,
             "#8e0152"
            ],
            [
             0.1,
             "#c51b7d"
            ],
            [
             0.2,
             "#de77ae"
            ],
            [
             0.3,
             "#f1b6da"
            ],
            [
             0.4,
             "#fde0ef"
            ],
            [
             0.5,
             "#f7f7f7"
            ],
            [
             0.6,
             "#e6f5d0"
            ],
            [
             0.7,
             "#b8e186"
            ],
            [
             0.8,
             "#7fbc41"
            ],
            [
             0.9,
             "#4d9221"
            ],
            [
             1,
             "#276419"
            ]
           ],
           "sequential": [
            [
             0,
             "#0d0887"
            ],
            [
             0.1111111111111111,
             "#46039f"
            ],
            [
             0.2222222222222222,
             "#7201a8"
            ],
            [
             0.3333333333333333,
             "#9c179e"
            ],
            [
             0.4444444444444444,
             "#bd3786"
            ],
            [
             0.5555555555555556,
             "#d8576b"
            ],
            [
             0.6666666666666666,
             "#ed7953"
            ],
            [
             0.7777777777777778,
             "#fb9f3a"
            ],
            [
             0.8888888888888888,
             "#fdca26"
            ],
            [
             1,
             "#f0f921"
            ]
           ],
           "sequentialminus": [
            [
             0,
             "#0d0887"
            ],
            [
             0.1111111111111111,
             "#46039f"
            ],
            [
             0.2222222222222222,
             "#7201a8"
            ],
            [
             0.3333333333333333,
             "#9c179e"
            ],
            [
             0.4444444444444444,
             "#bd3786"
            ],
            [
             0.5555555555555556,
             "#d8576b"
            ],
            [
             0.6666666666666666,
             "#ed7953"
            ],
            [
             0.7777777777777778,
             "#fb9f3a"
            ],
            [
             0.8888888888888888,
             "#fdca26"
            ],
            [
             1,
             "#f0f921"
            ]
           ]
          },
          "colorway": [
           "#636efa",
           "#EF553B",
           "#00cc96",
           "#ab63fa",
           "#FFA15A",
           "#19d3f3",
           "#FF6692",
           "#B6E880",
           "#FF97FF",
           "#FECB52"
          ],
          "font": {
           "color": "#2a3f5f"
          },
          "geo": {
           "bgcolor": "white",
           "lakecolor": "white",
           "landcolor": "#E5ECF6",
           "showlakes": true,
           "showland": true,
           "subunitcolor": "white"
          },
          "hoverlabel": {
           "align": "left"
          },
          "hovermode": "closest",
          "mapbox": {
           "style": "light"
          },
          "paper_bgcolor": "white",
          "plot_bgcolor": "#E5ECF6",
          "polar": {
           "angularaxis": {
            "gridcolor": "white",
            "linecolor": "white",
            "ticks": ""
           },
           "bgcolor": "#E5ECF6",
           "radialaxis": {
            "gridcolor": "white",
            "linecolor": "white",
            "ticks": ""
           }
          },
          "scene": {
           "xaxis": {
            "backgroundcolor": "#E5ECF6",
            "gridcolor": "white",
            "gridwidth": 2,
            "linecolor": "white",
            "showbackground": true,
            "ticks": "",
            "zerolinecolor": "white"
           },
           "yaxis": {
            "backgroundcolor": "#E5ECF6",
            "gridcolor": "white",
            "gridwidth": 2,
            "linecolor": "white",
            "showbackground": true,
            "ticks": "",
            "zerolinecolor": "white"
           },
           "zaxis": {
            "backgroundcolor": "#E5ECF6",
            "gridcolor": "white",
            "gridwidth": 2,
            "linecolor": "white",
            "showbackground": true,
            "ticks": "",
            "zerolinecolor": "white"
           }
          },
          "shapedefaults": {
           "line": {
            "color": "#2a3f5f"
           }
          },
          "ternary": {
           "aaxis": {
            "gridcolor": "white",
            "linecolor": "white",
            "ticks": ""
           },
           "baxis": {
            "gridcolor": "white",
            "linecolor": "white",
            "ticks": ""
           },
           "bgcolor": "#E5ECF6",
           "caxis": {
            "gridcolor": "white",
            "linecolor": "white",
            "ticks": ""
           }
          },
          "title": {
           "x": 0.05
          },
          "xaxis": {
           "automargin": true,
           "gridcolor": "white",
           "linecolor": "white",
           "ticks": "",
           "title": {
            "standoff": 15
           },
           "zerolinecolor": "white",
           "zerolinewidth": 2
          },
          "yaxis": {
           "automargin": true,
           "gridcolor": "white",
           "linecolor": "white",
           "ticks": "",
           "title": {
            "standoff": 15
           },
           "zerolinecolor": "white",
           "zerolinewidth": 2
          }
         }
        },
        "title": {
         "text": "Companies by State"
        },
        "xaxis": {
         "anchor": "y",
         "autorange": true,
         "domain": [
          0,
          1
         ],
         "range": [
          -0.5,
          18.5
         ],
         "title": {
          "text": "state"
         },
         "type": "category"
        },
        "yaxis": {
         "anchor": "x",
         "autorange": true,
         "domain": [
          0,
          1
         ],
         "range": [
          0,
          248.42105263157896
         ],
         "title": {
          "text": "companies"
         },
         "type": "linear"
        }
       }
      },
      "image/png": "[encoded data removed]",
      "text/html": [
       "<div>                            <div id=\"b1a8b476-1208-43c0-ad19-36ab081513e1\" class=\"plotly-graph-div\" style=\"height:525px; width:100%;\"></div>            <script type=\"text/javascript\">                require([\"plotly\"], function(Plotly) {                    window.PLOTLYENV=window.PLOTLYENV || {};                                    if (document.getElementById(\"b1a8b476-1208-43c0-ad19-36ab081513e1\")) {                    Plotly.newPlot(                        \"b1a8b476-1208-43c0-ad19-36ab081513e1\",                        [{\"alignmentgroup\":\"True\",\"hovertemplate\":\"state=%{x}<br>companies=%{y}<extra></extra>\",\"legendgroup\":\"\",\"marker\":{\"color\":\"#636efa\",\"pattern\":{\"shape\":\"\"}},\"name\":\"\",\"offsetgroup\":\"\",\"orientation\":\"v\",\"showlegend\":false,\"textposition\":\"auto\",\"type\":\"bar\",\"x\":[\"SC\",\"PI\",\"GO\",\"TO\",\"MT\",\"SP\",\"ES\",\"PB\",\"RS\",\"MS\",\"MG\",\"BA\",\"SE\",\"PE\",\"CE\",\"RJ\",\"MA\",\"DF\",\"PR\"],\"xaxis\":\"x\",\"y\":[8,1,7,1,3,236,4,1,11,2,33,5,1,3,9,64,4,7,18],\"yaxis\":\"y\"}],                        {\"barmode\":\"relative\",\"legend\":{\"tracegroupgap\":0},\"template\":{\"data\":{\"bar\":[{\"error_x\":{\"color\":\"#2a3f5f\"},\"error_y\":{\"color\":\"#2a3f5f\"},\"marker\":{\"line\":{\"color\":\"#E5ECF6\",\"width\":0.5},\"pattern\":{\"fillmode\":\"overlay\",\"size\":10,\"solidity\":0.2}},\"type\":\"bar\"}],\"barpolar\":[{\"marker\":{\"line\":{\"color\":\"#E5ECF6\",\"width\":0.5},\"pattern\":{\"fillmode\":\"overlay\",\"size\":10,\"solidity\":0.2}},\"type\":\"barpolar\"}],\"carpet\":[{\"aaxis\":{\"endlinecolor\":\"#2a3f5f\",\"gridcolor\":\"white\",\"linecolor\":\"white\",\"minorgridcolor\":\"white\",\"startlinecolor\":\"#2a3f5f\"},\"baxis\":{\"endlinecolor\":\"#2a3f5f\",\"gridcolor\":\"white\",\"linecolor\":\"white\",\"minorgridcolor\":\"white\",\"startlinecolor\":\"#2a3f5f\"},\"type\":\"carpet\"}],\"choropleth\":[{\"colorbar\":{\"outlinewidth\":0,\"ticks\":\"\"},\"type\":\"choropleth\"}],\"contour\":[{\"colorbar\":{\"outlinewidth\":0,\"ticks\":\"\"},\"colorscale\":[[0.0,\"#0d0887\"],[0.1111111111111111,\"#46039f\"],[0.2222222222222222,\"#7201a8\"],[0.3333333333333333,\"#9c179e\"],[0.4444444444444444,\"#bd3786\"],[0.5555555555555556,\"#d8576b\"],[0.6666666666666666,\"#ed7953\"],[0.7777777777777778,\"#fb9f3a\"],[0.8888888888888888,\"#fdca26\"],[1.0,\"#f0f921\"]],\"type\":\"contour\"}],\"contourcarpet\":[{\"colorbar\":{\"outlinewidth\":0,\"ticks\":\"\"},\"type\":\"contourcarpet\"}],\"heatmap\":[{\"colorbar\":{\"outlinewidth\":0,\"ticks\":\"\"},\"colorscale\":[[0.0,\"#0d0887\"],[0.1111111111111111,\"#46039f\"],[0.2222222222222222,\"#7201a8\"],[0.3333333333333333,\"#9c179e\"],[0.4444444444444444,\"#bd3786\"],[0.5555555555555556,\"#d8576b\"],[0.6666666666666666,\"#ed7953\"],[0.7777777777777778,\"#fb9f3a\"],[0.8888888888888888,\"#fdca26\"],[1.0,\"#f0f921\"]],\"type\":\"heatmap\"}],\"heatmapgl\":[{\"colorbar\":{\"outlinewidth\":0,\"ticks\":\"\"},\"colorscale\":[[0.0,\"#0d0887\"],[0.1111111111111111,\"#46039f\"],[0.2222222222222222,\"#7201a8\"],[0.3333333333333333,\"#9c179e\"],[0.4444444444444444,\"#bd3786\"],[0.5555555555555556,\"#d8576b\"],[0.6666666666666666,\"#ed7953\"],[0.7777777777777778,\"#fb9f3a\"],[0.8888888888888888,\"#fdca26\"],[1.0,\"#f0f921\"]],\"type\":\"heatmapgl\"}],\"histogram\":[{\"marker\":{\"pattern\":{\"fillmode\":\"overlay\",\"size\":10,\"solidity\":0.2}},\"type\":\"histogram\"}],\"histogram2d\":[{\"colorbar\":{\"outlinewidth\":0,\"ticks\":\"\"},\"colorscale\":[[0.0,\"#0d0887\"],[0.1111111111111111,\"#46039f\"],[0.2222222222222222,\"#7201a8\"],[0.3333333333333333,\"#9c179e\"],[0.4444444444444444,\"#bd3786\"],[0.5555555555555556,\"#d8576b\"],[0.6666666666666666,\"#ed7953\"],[0.7777777777777778,\"#fb9f3a\"],[0.8888888888888888,\"#fdca26\"],[1.0,\"#f0f921\"]],\"type\":\"histogram2d\"}],\"histogram2dcontour\":[{\"colorbar\":{\"outlinewidth\":0,\"ticks\":\"\"},\"colorscale\":[[0.0,\"#0d0887\"],[0.1111111111111111,\"#46039f\"],[0.2222222222222222,\"#7201a8\"],[0.3333333333333333,\"#9c179e\"],[0.4444444444444444,\"#bd3786\"],[0.5555555555555556,\"#d8576b\"],[0.6666666666666666,\"#ed7953\"],[0.7777777777777778,\"#fb9f3a\"],[0.8888888888888888,\"#fdca26\"],[1.0,\"#f0f921\"]],\"type\":\"histogram2dcontour\"}],\"mesh3d\":[{\"colorbar\":{\"outlinewidth\":0,\"ticks\":\"\"},\"type\":\"mesh3d\"}],\"parcoords\":[{\"line\":{\"colorbar\":{\"outlinewidth\":0,\"ticks\":\"\"}},\"type\":\"parcoords\"}],\"pie\":[{\"automargin\":true,\"type\":\"pie\"}],\"scatter\":[{\"marker\":{\"colorbar\":{\"outlinewidth\":0,\"ticks\":\"\"}},\"type\":\"scatter\"}],\"scatter3d\":[{\"line\":{\"colorbar\":{\"outlinewidth\":0,\"ticks\":\"\"}},\"marker\":{\"colorbar\":{\"outlinewidth\":0,\"ticks\":\"\"}},\"type\":\"scatter3d\"}],\"scattercarpet\":[{\"marker\":{\"colorbar\":{\"outlinewidth\":0,\"ticks\":\"\"}},\"type\":\"scattercarpet\"}],\"scattergeo\":[{\"marker\":{\"colorbar\":{\"outlinewidth\":0,\"ticks\":\"\"}},\"type\":\"scattergeo\"}],\"scattergl\":[{\"marker\":{\"colorbar\":{\"outlinewidth\":0,\"ticks\":\"\"}},\"type\":\"scattergl\"}],\"scattermapbox\":[{\"marker\":{\"colorbar\":{\"outlinewidth\":0,\"ticks\":\"\"}},\"type\":\"scattermapbox\"}],\"scatterpolar\":[{\"marker\":{\"colorbar\":{\"outlinewidth\":0,\"ticks\":\"\"}},\"type\":\"scatterpolar\"}],\"scatterpolargl\":[{\"marker\":{\"colorbar\":{\"outlinewidth\":0,\"ticks\":\"\"}},\"type\":\"scatterpolargl\"}],\"scatterternary\":[{\"marker\":{\"colorbar\":{\"outlinewidth\":0,\"ticks\":\"\"}},\"type\":\"scatterternary\"}],\"surface\":[{\"colorbar\":{\"outlinewidth\":0,\"ticks\":\"\"},\"colorscale\":[[0.0,\"#0d0887\"],[0.1111111111111111,\"#46039f\"],[0.2222222222222222,\"#7201a8\"],[0.3333333333333333,\"#9c179e\"],[0.4444444444444444,\"#bd3786\"],[0.5555555555555556,\"#d8576b\"],[0.6666666666666666,\"#ed7953\"],[0.7777777777777778,\"#fb9f3a\"],[0.8888888888888888,\"#fdca26\"],[1.0,\"#f0f921\"]],\"type\":\"surface\"}],\"table\":[{\"cells\":{\"fill\":{\"color\":\"#EBF0F8\"},\"line\":{\"color\":\"white\"}},\"header\":{\"fill\":{\"color\":\"#C8D4E3\"},\"line\":{\"color\":\"white\"}},\"type\":\"table\"}]},\"layout\":{\"annotationdefaults\":{\"arrowcolor\":\"#2a3f5f\",\"arrowhead\":0,\"arrowwidth\":1},\"autotypenumbers\":\"strict\",\"coloraxis\":{\"colorbar\":{\"outlinewidth\":0,\"ticks\":\"\"}},\"colorscale\":{\"diverging\":[[0,\"#8e0152\"],[0.1,\"#c51b7d\"],[0.2,\"#de77ae\"],[0.3,\"#f1b6da\"],[0.4,\"#fde0ef\"],[0.5,\"#f7f7f7\"],[0.6,\"#e6f5d0\"],[0.7,\"#b8e186\"],[0.8,\"#7fbc41\"],[0.9,\"#4d9221\"],[1,\"#276419\"]],\"sequential\":[[0.0,\"#0d0887\"],[0.1111111111111111,\"#46039f\"],[0.2222222222222222,\"#7201a8\"],[0.3333333333333333,\"#9c179e\"],[0.4444444444444444,\"#bd3786\"],[0.5555555555555556,\"#d8576b\"],[0.6666666666666666,\"#ed7953\"],[0.7777777777777778,\"#fb9f3a\"],[0.8888888888888888,\"#fdca26\"],[1.0,\"#f0f921\"]],\"sequentialminus\":[[0.0,\"#0d0887\"],[0.1111111111111111,\"#46039f\"],[0.2222222222222222,\"#7201a8\"],[0.3333333333333333,\"#9c179e\"],[0.4444444444444444,\"#bd3786\"],[0.5555555555555556,\"#d8576b\"],[0.6666666666666666,\"#ed7953\"],[0.7777777777777778,\"#fb9f3a\"],[0.8888888888888888,\"#fdca26\"],[1.0,\"#f0f921\"]]},\"colorway\":[\"#636efa\",\"#EF553B\",\"#00cc96\",\"#ab63fa\",\"#FFA15A\",\"#19d3f3\",\"#FF6692\",\"#B6E880\",\"#FF97FF\",\"#FECB52\"],\"font\":{\"color\":\"#2a3f5f\"},\"geo\":{\"bgcolor\":\"white\",\"lakecolor\":\"white\",\"landcolor\":\"#E5ECF6\",\"showlakes\":true,\"showland\":true,\"subunitcolor\":\"white\"},\"hoverlabel\":{\"align\":\"left\"},\"hovermode\":\"closest\",\"mapbox\":{\"style\":\"light\"},\"paper_bgcolor\":\"white\",\"plot_bgcolor\":\"#E5ECF6\",\"polar\":{\"angularaxis\":{\"gridcolor\":\"white\",\"linecolor\":\"white\",\"ticks\":\"\"},\"bgcolor\":\"#E5ECF6\",\"radialaxis\":{\"gridcolor\":\"white\",\"linecolor\":\"white\",\"ticks\":\"\"}},\"scene\":{\"xaxis\":{\"backgroundcolor\":\"#E5ECF6\",\"gridcolor\":\"white\",\"gridwidth\":2,\"linecolor\":\"white\",\"showbackground\":true,\"ticks\":\"\",\"zerolinecolor\":\"white\"},\"yaxis\":{\"backgroundcolor\":\"#E5ECF6\",\"gridcolor\":\"white\",\"gridwidth\":2,\"linecolor\":\"white\",\"showbackground\":true,\"ticks\":\"\",\"zerolinecolor\":\"white\"},\"zaxis\":{\"backgroundcolor\":\"#E5ECF6\",\"gridcolor\":\"white\",\"gridwidth\":2,\"linecolor\":\"white\",\"showbackground\":true,\"ticks\":\"\",\"zerolinecolor\":\"white\"}},\"shapedefaults\":{\"line\":{\"color\":\"#2a3f5f\"}},\"ternary\":{\"aaxis\":{\"gridcolor\":\"white\",\"linecolor\":\"white\",\"ticks\":\"\"},\"baxis\":{\"gridcolor\":\"white\",\"linecolor\":\"white\",\"ticks\":\"\"},\"bgcolor\":\"#E5ECF6\",\"caxis\":{\"gridcolor\":\"white\",\"linecolor\":\"white\",\"ticks\":\"\"}},\"title\":{\"x\":0.05},\"xaxis\":{\"automargin\":true,\"gridcolor\":\"white\",\"linecolor\":\"white\",\"ticks\":\"\",\"title\":{\"standoff\":15},\"zerolinecolor\":\"white\",\"zerolinewidth\":2},\"yaxis\":{\"automargin\":true,\"gridcolor\":\"white\",\"linecolor\":\"white\",\"ticks\":\"\",\"title\":{\"standoff\":15},\"zerolinecolor\":\"white\",\"zerolinewidth\":2}}},\"title\":{\"text\":\"Companies by State\"},\"xaxis\":{\"anchor\":\"y\",\"domain\":[0.0,1.0],\"title\":{\"text\":\"state\"}},\"yaxis\":{\"anchor\":\"x\",\"domain\":[0.0,1.0],\"title\":{\"text\":\"companies\"}}},                        {\"responsive\": true}                    ).then(function(){\n",
       "                            \n",
       "var gd = document.getElementById('b1a8b476-1208-43c0-ad19-36ab081513e1');\n",
       "var x = new MutationObserver(function (mutations, observer) {{\n",
       "        var display = window.getComputedStyle(gd).display;\n",
       "        if (!display || display === 'none') {{\n",
       "            console.log([gd, 'removed!']);\n",
       "            Plotly.purge(gd);\n",
       "            observer.disconnect();\n",
       "        }}\n",
       "}});\n",
       "\n",
       "// Listen for the removal of the full notebook cells\n",
       "var notebookContainer = gd.closest('#notebook-container');\n",
       "if (notebookContainer) {{\n",
       "    x.observe(notebookContainer, {childList: true});\n",
       "}}\n",
       "\n",
       "// Listen for the clearing of the current output cell\n",
       "var outputEl = gd.closest('.output');\n",
       "if (outputEl) {{\n",
       "    x.observe(outputEl, {childList: true});\n",
       "}}\n",
       "\n",
       "                        })                };                });            </script>        </div>"
      ]
     },
     "metadata": {},
     "output_type": "display_data"
    }
   ],
   "source": [
    "fig = px.bar(df_cia_state, x=\"state\", y=\"companies\", title=\"Companies by State\")\n",
    "fig.show()"
   ]
  },
  {
   "cell_type": "code",
   "execution_count": 49,
   "metadata": {},
   "outputs": [
    {
     "data": {
      "text/html": [
       "<div>\n",
       "<style scoped>\n",
       "    .dataframe tbody tr th:only-of-type {\n",
       "        vertical-align: middle;\n",
       "    }\n",
       "\n",
       "    .dataframe tbody tr th {\n",
       "        vertical-align: top;\n",
       "    }\n",
       "\n",
       "    .dataframe thead th {\n",
       "        text-align: right;\n",
       "    }\n",
       "</style>\n",
       "<table border=\"1\" class=\"dataframe\">\n",
       "  <thead>\n",
       "    <tr style=\"text-align: right;\">\n",
       "      <th></th>\n",
       "      <th>companies</th>\n",
       "      <th>city</th>\n",
       "    </tr>\n",
       "  </thead>\n",
       "  <tbody>\n",
       "    <tr>\n",
       "      <th>0</th>\n",
       "      <td>1</td>\n",
       "      <td>SÃO JOAQUIM DA BARRA</td>\n",
       "    </tr>\n",
       "    <tr>\n",
       "      <th>1</th>\n",
       "      <td>3</td>\n",
       "      <td>MOGI DAS CRUZES</td>\n",
       "    </tr>\n",
       "    <tr>\n",
       "      <th>2</th>\n",
       "      <td>2</td>\n",
       "      <td>SALTO</td>\n",
       "    </tr>\n",
       "    <tr>\n",
       "      <th>3</th>\n",
       "      <td>1</td>\n",
       "      <td>GUARULHOS</td>\n",
       "    </tr>\n",
       "    <tr>\n",
       "      <th>4</th>\n",
       "      <td>1</td>\n",
       "      <td>BARRETOS</td>\n",
       "    </tr>\n",
       "  </tbody>\n",
       "</table>\n",
       "</div>"
      ],
      "text/plain": [
       "   companies                  city\n",
       "0          1  SÃO JOAQUIM DA BARRA\n",
       "1          3       MOGI DAS CRUZES\n",
       "2          2                 SALTO\n",
       "3          1             GUARULHOS\n",
       "4          1              BARRETOS"
      ]
     },
     "execution_count": 49,
     "metadata": {},
     "output_type": "execute_result"
    }
   ],
   "source": [
    "df_cia_city_sp = spark.sql(\"\"\"\n",
    "    SELECT \n",
    "        COUNT(f.*) as companies,\n",
    "        l.city\n",
    "    FROM fact_company_registration f\n",
    "    JOIN dim_time t ON t.registration_date = f.registration_date\n",
    "    JOIN dim_location l ON l.location_id = f.location_id\n",
    "    WHERE t.year BETWEEN 2000 AND 2021\n",
    "        AND l.state = 'SP'\n",
    "    GROUP BY city\n",
    "\"\"\")\n",
    "\n",
    "df_cia_city_sp = df_cia_city_sp.toPandas()\n",
    "df_cia_city_sp.head()"
   ]
  },
  {
   "cell_type": "code",
   "execution_count": 51,
   "metadata": {},
   "outputs": [
    {
     "data": {
      "application/vnd.plotly.v1+json": {
       "config": {
        "plotlyServerURL": "https://plot.ly"
       },
       "data": [
        {
         "alignmentgroup": "True",
         "hovertemplate": "city=%{x}<br>companies=%{y}<extra></extra>",
         "legendgroup": "",
         "marker": {
          "color": "#636efa",
          "pattern": {
           "shape": ""
          }
         },
         "name": "",
         "offsetgroup": "",
         "orientation": "v",
         "showlegend": false,
         "textposition": "auto",
         "type": "bar",
         "x": [
          "SÃO JOAQUIM DA BARRA",
          "MOGI DAS CRUZES",
          "SALTO",
          "GUARULHOS",
          "BARRETOS",
          "OSASCO",
          "FRANCA",
          "EMBU DAS ARTES",
          "BAURU",
          "SÃO BERNARDO DO CAMPO",
          "SÃO PAULO",
          "CAMPINAS",
          "BARUERI",
          "COTIA",
          "PRESIDENTE PRUDENTE",
          "SERTÃOZINHO",
          "ITU",
          "ARARAS",
          "REGISTRO",
          "SÃO JOSÉ DOS CAMPOS",
          "NOVA ODESSA",
          "PRADÓPOLIS",
          "ITATIBA",
          "SANTO ANDRÉ",
          "JUNDIAÍ",
          "SÃO JOSÉ DO RIO PRETO",
          "LINS",
          "RIBEIRÃO PRETO"
         ],
         "xaxis": "x",
         "y": [
          1,
          3,
          2,
          1,
          1,
          3,
          1,
          2,
          2,
          4,
          184,
          5,
          9,
          1,
          1,
          1,
          1,
          1,
          1,
          1,
          1,
          1,
          1,
          1,
          2,
          2,
          2,
          1
         ],
         "yaxis": "y"
        }
       ],
       "layout": {
        "autosize": true,
        "barmode": "relative",
        "legend": {
         "tracegroupgap": 0
        },
        "template": {
         "data": {
          "bar": [
           {
            "error_x": {
             "color": "#2a3f5f"
            },
            "error_y": {
             "color": "#2a3f5f"
            },
            "marker": {
             "line": {
              "color": "#E5ECF6",
              "width": 0.5
             },
             "pattern": {
              "fillmode": "overlay",
              "size": 10,
              "solidity": 0.2
             }
            },
            "type": "bar"
           }
          ],
          "barpolar": [
           {
            "marker": {
             "line": {
              "color": "#E5ECF6",
              "width": 0.5
             },
             "pattern": {
              "fillmode": "overlay",
              "size": 10,
              "solidity": 0.2
             }
            },
            "type": "barpolar"
           }
          ],
          "carpet": [
           {
            "aaxis": {
             "endlinecolor": "#2a3f5f",
             "gridcolor": "white",
             "linecolor": "white",
             "minorgridcolor": "white",
             "startlinecolor": "#2a3f5f"
            },
            "baxis": {
             "endlinecolor": "#2a3f5f",
             "gridcolor": "white",
             "linecolor": "white",
             "minorgridcolor": "white",
             "startlinecolor": "#2a3f5f"
            },
            "type": "carpet"
           }
          ],
          "choropleth": [
           {
            "colorbar": {
             "outlinewidth": 0,
             "ticks": ""
            },
            "type": "choropleth"
           }
          ],
          "contour": [
           {
            "colorbar": {
             "outlinewidth": 0,
             "ticks": ""
            },
            "colorscale": [
             [
              0,
              "#0d0887"
             ],
             [
              0.1111111111111111,
              "#46039f"
             ],
             [
              0.2222222222222222,
              "#7201a8"
             ],
             [
              0.3333333333333333,
              "#9c179e"
             ],
             [
              0.4444444444444444,
              "#bd3786"
             ],
             [
              0.5555555555555556,
              "#d8576b"
             ],
             [
              0.6666666666666666,
              "#ed7953"
             ],
             [
              0.7777777777777778,
              "#fb9f3a"
             ],
             [
              0.8888888888888888,
              "#fdca26"
             ],
             [
              1,
              "#f0f921"
             ]
            ],
            "type": "contour"
           }
          ],
          "contourcarpet": [
           {
            "colorbar": {
             "outlinewidth": 0,
             "ticks": ""
            },
            "type": "contourcarpet"
           }
          ],
          "heatmap": [
           {
            "colorbar": {
             "outlinewidth": 0,
             "ticks": ""
            },
            "colorscale": [
             [
              0,
              "#0d0887"
             ],
             [
              0.1111111111111111,
              "#46039f"
             ],
             [
              0.2222222222222222,
              "#7201a8"
             ],
             [
              0.3333333333333333,
              "#9c179e"
             ],
             [
              0.4444444444444444,
              "#bd3786"
             ],
             [
              0.5555555555555556,
              "#d8576b"
             ],
             [
              0.6666666666666666,
              "#ed7953"
             ],
             [
              0.7777777777777778,
              "#fb9f3a"
             ],
             [
              0.8888888888888888,
              "#fdca26"
             ],
             [
              1,
              "#f0f921"
             ]
            ],
            "type": "heatmap"
           }
          ],
          "heatmapgl": [
           {
            "colorbar": {
             "outlinewidth": 0,
             "ticks": ""
            },
            "colorscale": [
             [
              0,
              "#0d0887"
             ],
             [
              0.1111111111111111,
              "#46039f"
             ],
             [
              0.2222222222222222,
              "#7201a8"
             ],
             [
              0.3333333333333333,
              "#9c179e"
             ],
             [
              0.4444444444444444,
              "#bd3786"
             ],
             [
              0.5555555555555556,
              "#d8576b"
             ],
             [
              0.6666666666666666,
              "#ed7953"
             ],
             [
              0.7777777777777778,
              "#fb9f3a"
             ],
             [
              0.8888888888888888,
              "#fdca26"
             ],
             [
              1,
              "#f0f921"
             ]
            ],
            "type": "heatmapgl"
           }
          ],
          "histogram": [
           {
            "marker": {
             "pattern": {
              "fillmode": "overlay",
              "size": 10,
              "solidity": 0.2
             }
            },
            "type": "histogram"
           }
          ],
          "histogram2d": [
           {
            "colorbar": {
             "outlinewidth": 0,
             "ticks": ""
            },
            "colorscale": [
             [
              0,
              "#0d0887"
             ],
             [
              0.1111111111111111,
              "#46039f"
             ],
             [
              0.2222222222222222,
              "#7201a8"
             ],
             [
              0.3333333333333333,
              "#9c179e"
             ],
             [
              0.4444444444444444,
              "#bd3786"
             ],
             [
              0.5555555555555556,
              "#d8576b"
             ],
             [
              0.6666666666666666,
              "#ed7953"
             ],
             [
              0.7777777777777778,
              "#fb9f3a"
             ],
             [
              0.8888888888888888,
              "#fdca26"
             ],
             [
              1,
              "#f0f921"
             ]
            ],
            "type": "histogram2d"
           }
          ],
          "histogram2dcontour": [
           {
            "colorbar": {
             "outlinewidth": 0,
             "ticks": ""
            },
            "colorscale": [
             [
              0,
              "#0d0887"
             ],
             [
              0.1111111111111111,
              "#46039f"
             ],
             [
              0.2222222222222222,
              "#7201a8"
             ],
             [
              0.3333333333333333,
              "#9c179e"
             ],
             [
              0.4444444444444444,
              "#bd3786"
             ],
             [
              0.5555555555555556,
              "#d8576b"
             ],
             [
              0.6666666666666666,
              "#ed7953"
             ],
             [
              0.7777777777777778,
              "#fb9f3a"
             ],
             [
              0.8888888888888888,
              "#fdca26"
             ],
             [
              1,
              "#f0f921"
             ]
            ],
            "type": "histogram2dcontour"
           }
          ],
          "mesh3d": [
           {
            "colorbar": {
             "outlinewidth": 0,
             "ticks": ""
            },
            "type": "mesh3d"
           }
          ],
          "parcoords": [
           {
            "line": {
             "colorbar": {
              "outlinewidth": 0,
              "ticks": ""
             }
            },
            "type": "parcoords"
           }
          ],
          "pie": [
           {
            "automargin": true,
            "type": "pie"
           }
          ],
          "scatter": [
           {
            "marker": {
             "colorbar": {
              "outlinewidth": 0,
              "ticks": ""
             }
            },
            "type": "scatter"
           }
          ],
          "scatter3d": [
           {
            "line": {
             "colorbar": {
              "outlinewidth": 0,
              "ticks": ""
             }
            },
            "marker": {
             "colorbar": {
              "outlinewidth": 0,
              "ticks": ""
             }
            },
            "type": "scatter3d"
           }
          ],
          "scattercarpet": [
           {
            "marker": {
             "colorbar": {
              "outlinewidth": 0,
              "ticks": ""
             }
            },
            "type": "scattercarpet"
           }
          ],
          "scattergeo": [
           {
            "marker": {
             "colorbar": {
              "outlinewidth": 0,
              "ticks": ""
             }
            },
            "type": "scattergeo"
           }
          ],
          "scattergl": [
           {
            "marker": {
             "colorbar": {
              "outlinewidth": 0,
              "ticks": ""
             }
            },
            "type": "scattergl"
           }
          ],
          "scattermapbox": [
           {
            "marker": {
             "colorbar": {
              "outlinewidth": 0,
              "ticks": ""
             }
            },
            "type": "scattermapbox"
           }
          ],
          "scatterpolar": [
           {
            "marker": {
             "colorbar": {
              "outlinewidth": 0,
              "ticks": ""
             }
            },
            "type": "scatterpolar"
           }
          ],
          "scatterpolargl": [
           {
            "marker": {
             "colorbar": {
              "outlinewidth": 0,
              "ticks": ""
             }
            },
            "type": "scatterpolargl"
           }
          ],
          "scatterternary": [
           {
            "marker": {
             "colorbar": {
              "outlinewidth": 0,
              "ticks": ""
             }
            },
            "type": "scatterternary"
           }
          ],
          "surface": [
           {
            "colorbar": {
             "outlinewidth": 0,
             "ticks": ""
            },
            "colorscale": [
             [
              0,
              "#0d0887"
             ],
             [
              0.1111111111111111,
              "#46039f"
             ],
             [
              0.2222222222222222,
              "#7201a8"
             ],
             [
              0.3333333333333333,
              "#9c179e"
             ],
             [
              0.4444444444444444,
              "#bd3786"
             ],
             [
              0.5555555555555556,
              "#d8576b"
             ],
             [
              0.6666666666666666,
              "#ed7953"
             ],
             [
              0.7777777777777778,
              "#fb9f3a"
             ],
             [
              0.8888888888888888,
              "#fdca26"
             ],
             [
              1,
              "#f0f921"
             ]
            ],
            "type": "surface"
           }
          ],
          "table": [
           {
            "cells": {
             "fill": {
              "color": "#EBF0F8"
             },
             "line": {
              "color": "white"
             }
            },
            "header": {
             "fill": {
              "color": "#C8D4E3"
             },
             "line": {
              "color": "white"
             }
            },
            "type": "table"
           }
          ]
         },
         "layout": {
          "annotationdefaults": {
           "arrowcolor": "#2a3f5f",
           "arrowhead": 0,
           "arrowwidth": 1
          },
          "autotypenumbers": "strict",
          "coloraxis": {
           "colorbar": {
            "outlinewidth": 0,
            "ticks": ""
           }
          },
          "colorscale": {
           "diverging": [
            [
             0,
             "#8e0152"
            ],
            [
             0.1,
             "#c51b7d"
            ],
            [
             0.2,
             "#de77ae"
            ],
            [
             0.3,
             "#f1b6da"
            ],
            [
             0.4,
             "#fde0ef"
            ],
            [
             0.5,
             "#f7f7f7"
            ],
            [
             0.6,
             "#e6f5d0"
            ],
            [
             0.7,
             "#b8e186"
            ],
            [
             0.8,
             "#7fbc41"
            ],
            [
             0.9,
             "#4d9221"
            ],
            [
             1,
             "#276419"
            ]
           ],
           "sequential": [
            [
             0,
             "#0d0887"
            ],
            [
             0.1111111111111111,
             "#46039f"
            ],
            [
             0.2222222222222222,
             "#7201a8"
            ],
            [
             0.3333333333333333,
             "#9c179e"
            ],
            [
             0.4444444444444444,
             "#bd3786"
            ],
            [
             0.5555555555555556,
             "#d8576b"
            ],
            [
             0.6666666666666666,
             "#ed7953"
            ],
            [
             0.7777777777777778,
             "#fb9f3a"
            ],
            [
             0.8888888888888888,
             "#fdca26"
            ],
            [
             1,
             "#f0f921"
            ]
           ],
           "sequentialminus": [
            [
             0,
             "#0d0887"
            ],
            [
             0.1111111111111111,
             "#46039f"
            ],
            [
             0.2222222222222222,
             "#7201a8"
            ],
            [
             0.3333333333333333,
             "#9c179e"
            ],
            [
             0.4444444444444444,
             "#bd3786"
            ],
            [
             0.5555555555555556,
             "#d8576b"
            ],
            [
             0.6666666666666666,
             "#ed7953"
            ],
            [
             0.7777777777777778,
             "#fb9f3a"
            ],
            [
             0.8888888888888888,
             "#fdca26"
            ],
            [
             1,
             "#f0f921"
            ]
           ]
          },
          "colorway": [
           "#636efa",
           "#EF553B",
           "#00cc96",
           "#ab63fa",
           "#FFA15A",
           "#19d3f3",
           "#FF6692",
           "#B6E880",
           "#FF97FF",
           "#FECB52"
          ],
          "font": {
           "color": "#2a3f5f"
          },
          "geo": {
           "bgcolor": "white",
           "lakecolor": "white",
           "landcolor": "#E5ECF6",
           "showlakes": true,
           "showland": true,
           "subunitcolor": "white"
          },
          "hoverlabel": {
           "align": "left"
          },
          "hovermode": "closest",
          "mapbox": {
           "style": "light"
          },
          "paper_bgcolor": "white",
          "plot_bgcolor": "#E5ECF6",
          "polar": {
           "angularaxis": {
            "gridcolor": "white",
            "linecolor": "white",
            "ticks": ""
           },
           "bgcolor": "#E5ECF6",
           "radialaxis": {
            "gridcolor": "white",
            "linecolor": "white",
            "ticks": ""
           }
          },
          "scene": {
           "xaxis": {
            "backgroundcolor": "#E5ECF6",
            "gridcolor": "white",
            "gridwidth": 2,
            "linecolor": "white",
            "showbackground": true,
            "ticks": "",
            "zerolinecolor": "white"
           },
           "yaxis": {
            "backgroundcolor": "#E5ECF6",
            "gridcolor": "white",
            "gridwidth": 2,
            "linecolor": "white",
            "showbackground": true,
            "ticks": "",
            "zerolinecolor": "white"
           },
           "zaxis": {
            "backgroundcolor": "#E5ECF6",
            "gridcolor": "white",
            "gridwidth": 2,
            "linecolor": "white",
            "showbackground": true,
            "ticks": "",
            "zerolinecolor": "white"
           }
          },
          "shapedefaults": {
           "line": {
            "color": "#2a3f5f"
           }
          },
          "ternary": {
           "aaxis": {
            "gridcolor": "white",
            "linecolor": "white",
            "ticks": ""
           },
           "baxis": {
            "gridcolor": "white",
            "linecolor": "white",
            "ticks": ""
           },
           "bgcolor": "#E5ECF6",
           "caxis": {
            "gridcolor": "white",
            "linecolor": "white",
            "ticks": ""
           }
          },
          "title": {
           "x": 0.05
          },
          "xaxis": {
           "automargin": true,
           "gridcolor": "white",
           "linecolor": "white",
           "ticks": "",
           "title": {
            "standoff": 15
           },
           "zerolinecolor": "white",
           "zerolinewidth": 2
          },
          "yaxis": {
           "automargin": true,
           "gridcolor": "white",
           "linecolor": "white",
           "ticks": "",
           "title": {
            "standoff": 15
           },
           "zerolinecolor": "white",
           "zerolinewidth": 2
          }
         }
        },
        "title": {
         "text": "SP - Companies by City"
        },
        "xaxis": {
         "anchor": "y",
         "autorange": true,
         "domain": [
          0,
          1
         ],
         "range": [
          -0.5,
          27.5
         ],
         "title": {
          "text": "city"
         },
         "type": "category"
        },
        "yaxis": {
         "anchor": "x",
         "autorange": true,
         "domain": [
          0,
          1
         ],
         "range": [
          0,
          193.68421052631578
         ],
         "title": {
          "text": "companies"
         },
         "type": "linear"
        }
       }
      },
      "image/png": "[encoded data removed]",
      "text/html": [
       "<div>                            <div id=\"bc4ec5ee-152d-447b-a66a-ee7f80a74eb6\" class=\"plotly-graph-div\" style=\"height:525px; width:100%;\"></div>            <script type=\"text/javascript\">                require([\"plotly\"], function(Plotly) {                    window.PLOTLYENV=window.PLOTLYENV || {};                                    if (document.getElementById(\"bc4ec5ee-152d-447b-a66a-ee7f80a74eb6\")) {                    Plotly.newPlot(                        \"bc4ec5ee-152d-447b-a66a-ee7f80a74eb6\",                        [{\"alignmentgroup\":\"True\",\"hovertemplate\":\"city=%{x}<br>companies=%{y}<extra></extra>\",\"legendgroup\":\"\",\"marker\":{\"color\":\"#636efa\",\"pattern\":{\"shape\":\"\"}},\"name\":\"\",\"offsetgroup\":\"\",\"orientation\":\"v\",\"showlegend\":false,\"textposition\":\"auto\",\"type\":\"bar\",\"x\":[\"S\\u00c3O JOAQUIM DA BARRA\",\"MOGI DAS CRUZES\",\"SALTO\",\"GUARULHOS\",\"BARRETOS\",\"OSASCO\",\"FRANCA\",\"EMBU DAS ARTES\",\"BAURU\",\"S\\u00c3O BERNARDO DO CAMPO\",\"S\\u00c3O PAULO\",\"CAMPINAS\",\"BARUERI\",\"COTIA\",\"PRESIDENTE PRUDENTE\",\"SERT\\u00c3OZINHO\",\"ITU\",\"ARARAS\",\"REGISTRO\",\"S\\u00c3O JOS\\u00c9 DOS CAMPOS\",\"NOVA ODESSA\",\"PRAD\\u00d3POLIS\",\"ITATIBA\",\"SANTO ANDR\\u00c9\",\"JUNDIA\\u00cd\",\"S\\u00c3O JOS\\u00c9 DO RIO PRETO\",\"LINS\",\"RIBEIR\\u00c3O PRETO\"],\"xaxis\":\"x\",\"y\":[1,3,2,1,1,3,1,2,2,4,184,5,9,1,1,1,1,1,1,1,1,1,1,1,2,2,2,1],\"yaxis\":\"y\"}],                        {\"barmode\":\"relative\",\"legend\":{\"tracegroupgap\":0},\"template\":{\"data\":{\"bar\":[{\"error_x\":{\"color\":\"#2a3f5f\"},\"error_y\":{\"color\":\"#2a3f5f\"},\"marker\":{\"line\":{\"color\":\"#E5ECF6\",\"width\":0.5},\"pattern\":{\"fillmode\":\"overlay\",\"size\":10,\"solidity\":0.2}},\"type\":\"bar\"}],\"barpolar\":[{\"marker\":{\"line\":{\"color\":\"#E5ECF6\",\"width\":0.5},\"pattern\":{\"fillmode\":\"overlay\",\"size\":10,\"solidity\":0.2}},\"type\":\"barpolar\"}],\"carpet\":[{\"aaxis\":{\"endlinecolor\":\"#2a3f5f\",\"gridcolor\":\"white\",\"linecolor\":\"white\",\"minorgridcolor\":\"white\",\"startlinecolor\":\"#2a3f5f\"},\"baxis\":{\"endlinecolor\":\"#2a3f5f\",\"gridcolor\":\"white\",\"linecolor\":\"white\",\"minorgridcolor\":\"white\",\"startlinecolor\":\"#2a3f5f\"},\"type\":\"carpet\"}],\"choropleth\":[{\"colorbar\":{\"outlinewidth\":0,\"ticks\":\"\"},\"type\":\"choropleth\"}],\"contour\":[{\"colorbar\":{\"outlinewidth\":0,\"ticks\":\"\"},\"colorscale\":[[0.0,\"#0d0887\"],[0.1111111111111111,\"#46039f\"],[0.2222222222222222,\"#7201a8\"],[0.3333333333333333,\"#9c179e\"],[0.4444444444444444,\"#bd3786\"],[0.5555555555555556,\"#d8576b\"],[0.6666666666666666,\"#ed7953\"],[0.7777777777777778,\"#fb9f3a\"],[0.8888888888888888,\"#fdca26\"],[1.0,\"#f0f921\"]],\"type\":\"contour\"}],\"contourcarpet\":[{\"colorbar\":{\"outlinewidth\":0,\"ticks\":\"\"},\"type\":\"contourcarpet\"}],\"heatmap\":[{\"colorbar\":{\"outlinewidth\":0,\"ticks\":\"\"},\"colorscale\":[[0.0,\"#0d0887\"],[0.1111111111111111,\"#46039f\"],[0.2222222222222222,\"#7201a8\"],[0.3333333333333333,\"#9c179e\"],[0.4444444444444444,\"#bd3786\"],[0.5555555555555556,\"#d8576b\"],[0.6666666666666666,\"#ed7953\"],[0.7777777777777778,\"#fb9f3a\"],[0.8888888888888888,\"#fdca26\"],[1.0,\"#f0f921\"]],\"type\":\"heatmap\"}],\"heatmapgl\":[{\"colorbar\":{\"outlinewidth\":0,\"ticks\":\"\"},\"colorscale\":[[0.0,\"#0d0887\"],[0.1111111111111111,\"#46039f\"],[0.2222222222222222,\"#7201a8\"],[0.3333333333333333,\"#9c179e\"],[0.4444444444444444,\"#bd3786\"],[0.5555555555555556,\"#d8576b\"],[0.6666666666666666,\"#ed7953\"],[0.7777777777777778,\"#fb9f3a\"],[0.8888888888888888,\"#fdca26\"],[1.0,\"#f0f921\"]],\"type\":\"heatmapgl\"}],\"histogram\":[{\"marker\":{\"pattern\":{\"fillmode\":\"overlay\",\"size\":10,\"solidity\":0.2}},\"type\":\"histogram\"}],\"histogram2d\":[{\"colorbar\":{\"outlinewidth\":0,\"ticks\":\"\"},\"colorscale\":[[0.0,\"#0d0887\"],[0.1111111111111111,\"#46039f\"],[0.2222222222222222,\"#7201a8\"],[0.3333333333333333,\"#9c179e\"],[0.4444444444444444,\"#bd3786\"],[0.5555555555555556,\"#d8576b\"],[0.6666666666666666,\"#ed7953\"],[0.7777777777777778,\"#fb9f3a\"],[0.8888888888888888,\"#fdca26\"],[1.0,\"#f0f921\"]],\"type\":\"histogram2d\"}],\"histogram2dcontour\":[{\"colorbar\":{\"outlinewidth\":0,\"ticks\":\"\"},\"colorscale\":[[0.0,\"#0d0887\"],[0.1111111111111111,\"#46039f\"],[0.2222222222222222,\"#7201a8\"],[0.3333333333333333,\"#9c179e\"],[0.4444444444444444,\"#bd3786\"],[0.5555555555555556,\"#d8576b\"],[0.6666666666666666,\"#ed7953\"],[0.7777777777777778,\"#fb9f3a\"],[0.8888888888888888,\"#fdca26\"],[1.0,\"#f0f921\"]],\"type\":\"histogram2dcontour\"}],\"mesh3d\":[{\"colorbar\":{\"outlinewidth\":0,\"ticks\":\"\"},\"type\":\"mesh3d\"}],\"parcoords\":[{\"line\":{\"colorbar\":{\"outlinewidth\":0,\"ticks\":\"\"}},\"type\":\"parcoords\"}],\"pie\":[{\"automargin\":true,\"type\":\"pie\"}],\"scatter\":[{\"marker\":{\"colorbar\":{\"outlinewidth\":0,\"ticks\":\"\"}},\"type\":\"scatter\"}],\"scatter3d\":[{\"line\":{\"colorbar\":{\"outlinewidth\":0,\"ticks\":\"\"}},\"marker\":{\"colorbar\":{\"outlinewidth\":0,\"ticks\":\"\"}},\"type\":\"scatter3d\"}],\"scattercarpet\":[{\"marker\":{\"colorbar\":{\"outlinewidth\":0,\"ticks\":\"\"}},\"type\":\"scattercarpet\"}],\"scattergeo\":[{\"marker\":{\"colorbar\":{\"outlinewidth\":0,\"ticks\":\"\"}},\"type\":\"scattergeo\"}],\"scattergl\":[{\"marker\":{\"colorbar\":{\"outlinewidth\":0,\"ticks\":\"\"}},\"type\":\"scattergl\"}],\"scattermapbox\":[{\"marker\":{\"colorbar\":{\"outlinewidth\":0,\"ticks\":\"\"}},\"type\":\"scattermapbox\"}],\"scatterpolar\":[{\"marker\":{\"colorbar\":{\"outlinewidth\":0,\"ticks\":\"\"}},\"type\":\"scatterpolar\"}],\"scatterpolargl\":[{\"marker\":{\"colorbar\":{\"outlinewidth\":0,\"ticks\":\"\"}},\"type\":\"scatterpolargl\"}],\"scatterternary\":[{\"marker\":{\"colorbar\":{\"outlinewidth\":0,\"ticks\":\"\"}},\"type\":\"scatterternary\"}],\"surface\":[{\"colorbar\":{\"outlinewidth\":0,\"ticks\":\"\"},\"colorscale\":[[0.0,\"#0d0887\"],[0.1111111111111111,\"#46039f\"],[0.2222222222222222,\"#7201a8\"],[0.3333333333333333,\"#9c179e\"],[0.4444444444444444,\"#bd3786\"],[0.5555555555555556,\"#d8576b\"],[0.6666666666666666,\"#ed7953\"],[0.7777777777777778,\"#fb9f3a\"],[0.8888888888888888,\"#fdca26\"],[1.0,\"#f0f921\"]],\"type\":\"surface\"}],\"table\":[{\"cells\":{\"fill\":{\"color\":\"#EBF0F8\"},\"line\":{\"color\":\"white\"}},\"header\":{\"fill\":{\"color\":\"#C8D4E3\"},\"line\":{\"color\":\"white\"}},\"type\":\"table\"}]},\"layout\":{\"annotationdefaults\":{\"arrowcolor\":\"#2a3f5f\",\"arrowhead\":0,\"arrowwidth\":1},\"autotypenumbers\":\"strict\",\"coloraxis\":{\"colorbar\":{\"outlinewidth\":0,\"ticks\":\"\"}},\"colorscale\":{\"diverging\":[[0,\"#8e0152\"],[0.1,\"#c51b7d\"],[0.2,\"#de77ae\"],[0.3,\"#f1b6da\"],[0.4,\"#fde0ef\"],[0.5,\"#f7f7f7\"],[0.6,\"#e6f5d0\"],[0.7,\"#b8e186\"],[0.8,\"#7fbc41\"],[0.9,\"#4d9221\"],[1,\"#276419\"]],\"sequential\":[[0.0,\"#0d0887\"],[0.1111111111111111,\"#46039f\"],[0.2222222222222222,\"#7201a8\"],[0.3333333333333333,\"#9c179e\"],[0.4444444444444444,\"#bd3786\"],[0.5555555555555556,\"#d8576b\"],[0.6666666666666666,\"#ed7953\"],[0.7777777777777778,\"#fb9f3a\"],[0.8888888888888888,\"#fdca26\"],[1.0,\"#f0f921\"]],\"sequentialminus\":[[0.0,\"#0d0887\"],[0.1111111111111111,\"#46039f\"],[0.2222222222222222,\"#7201a8\"],[0.3333333333333333,\"#9c179e\"],[0.4444444444444444,\"#bd3786\"],[0.5555555555555556,\"#d8576b\"],[0.6666666666666666,\"#ed7953\"],[0.7777777777777778,\"#fb9f3a\"],[0.8888888888888888,\"#fdca26\"],[1.0,\"#f0f921\"]]},\"colorway\":[\"#636efa\",\"#EF553B\",\"#00cc96\",\"#ab63fa\",\"#FFA15A\",\"#19d3f3\",\"#FF6692\",\"#B6E880\",\"#FF97FF\",\"#FECB52\"],\"font\":{\"color\":\"#2a3f5f\"},\"geo\":{\"bgcolor\":\"white\",\"lakecolor\":\"white\",\"landcolor\":\"#E5ECF6\",\"showlakes\":true,\"showland\":true,\"subunitcolor\":\"white\"},\"hoverlabel\":{\"align\":\"left\"},\"hovermode\":\"closest\",\"mapbox\":{\"style\":\"light\"},\"paper_bgcolor\":\"white\",\"plot_bgcolor\":\"#E5ECF6\",\"polar\":{\"angularaxis\":{\"gridcolor\":\"white\",\"linecolor\":\"white\",\"ticks\":\"\"},\"bgcolor\":\"#E5ECF6\",\"radialaxis\":{\"gridcolor\":\"white\",\"linecolor\":\"white\",\"ticks\":\"\"}},\"scene\":{\"xaxis\":{\"backgroundcolor\":\"#E5ECF6\",\"gridcolor\":\"white\",\"gridwidth\":2,\"linecolor\":\"white\",\"showbackground\":true,\"ticks\":\"\",\"zerolinecolor\":\"white\"},\"yaxis\":{\"backgroundcolor\":\"#E5ECF6\",\"gridcolor\":\"white\",\"gridwidth\":2,\"linecolor\":\"white\",\"showbackground\":true,\"ticks\":\"\",\"zerolinecolor\":\"white\"},\"zaxis\":{\"backgroundcolor\":\"#E5ECF6\",\"gridcolor\":\"white\",\"gridwidth\":2,\"linecolor\":\"white\",\"showbackground\":true,\"ticks\":\"\",\"zerolinecolor\":\"white\"}},\"shapedefaults\":{\"line\":{\"color\":\"#2a3f5f\"}},\"ternary\":{\"aaxis\":{\"gridcolor\":\"white\",\"linecolor\":\"white\",\"ticks\":\"\"},\"baxis\":{\"gridcolor\":\"white\",\"linecolor\":\"white\",\"ticks\":\"\"},\"bgcolor\":\"#E5ECF6\",\"caxis\":{\"gridcolor\":\"white\",\"linecolor\":\"white\",\"ticks\":\"\"}},\"title\":{\"x\":0.05},\"xaxis\":{\"automargin\":true,\"gridcolor\":\"white\",\"linecolor\":\"white\",\"ticks\":\"\",\"title\":{\"standoff\":15},\"zerolinecolor\":\"white\",\"zerolinewidth\":2},\"yaxis\":{\"automargin\":true,\"gridcolor\":\"white\",\"linecolor\":\"white\",\"ticks\":\"\",\"title\":{\"standoff\":15},\"zerolinecolor\":\"white\",\"zerolinewidth\":2}}},\"title\":{\"text\":\"SP - Companies by City\"},\"xaxis\":{\"anchor\":\"y\",\"domain\":[0.0,1.0],\"title\":{\"text\":\"city\"}},\"yaxis\":{\"anchor\":\"x\",\"domain\":[0.0,1.0],\"title\":{\"text\":\"companies\"}}},                        {\"responsive\": true}                    ).then(function(){\n",
       "                            \n",
       "var gd = document.getElementById('bc4ec5ee-152d-447b-a66a-ee7f80a74eb6');\n",
       "var x = new MutationObserver(function (mutations, observer) {{\n",
       "        var display = window.getComputedStyle(gd).display;\n",
       "        if (!display || display === 'none') {{\n",
       "            console.log([gd, 'removed!']);\n",
       "            Plotly.purge(gd);\n",
       "            observer.disconnect();\n",
       "        }}\n",
       "}});\n",
       "\n",
       "// Listen for the removal of the full notebook cells\n",
       "var notebookContainer = gd.closest('#notebook-container');\n",
       "if (notebookContainer) {{\n",
       "    x.observe(notebookContainer, {childList: true});\n",
       "}}\n",
       "\n",
       "// Listen for the clearing of the current output cell\n",
       "var outputEl = gd.closest('.output');\n",
       "if (outputEl) {{\n",
       "    x.observe(outputEl, {childList: true});\n",
       "}}\n",
       "\n",
       "                        })                };                });            </script>        </div>"
      ]
     },
     "metadata": {},
     "output_type": "display_data"
    }
   ],
   "source": [
    "fig = px.bar(df_cia_city_sp, x=\"city\", y=\"companies\", title=\"SP - Companies by City\")\n",
    "fig.show()"
   ]
  },
  {
   "cell_type": "markdown",
   "metadata": {},
   "source": [
    "#### 4.4 Data dictionary "
   ]
  },
  {
   "cell_type": "markdown",
   "metadata": {},
   "source": [
    "##### 4.4.1 fact_company_registration\n",
    "|field              | type  | size | description              |\n",
    "|:------------------|:------|:-----|:-------------------------|\n",
    "| cvm_id            |int    |7     |CVM Code                  | \n",
    "| sector            |varchar|100   |Activity sector           |\n",
    "| cnpj              |varchar|20    |Brazilian Company Document|\n",
    "| registration_date |date   |10    |CVM registration date     |"
   ]
  },
  {
   "cell_type": "markdown",
   "metadata": {},
   "source": [
    "##### 4.4.2 dim_date\n",
    "|field               |type|size| description           |\n",
    "|:-------------------|:---|:---|:----------------------|\n",
    "| registration_date  |date|10  | CVM registration date |\n",
    "| year               |int |4   | Year of date          |\n",
    "| month              |int |2   | Month of date         |\n",
    "| day                |int |2   | Day of date           |\n",
    "| weekday            |int |1   | Weekday of date       |\n",
    "| quarter            |int |1   | Quarter of date       |"
   ]
  },
  {
   "cell_type": "markdown",
   "metadata": {},
   "source": [
    "##### 4.4.3 dim_location\n",
    "|field            | type | size | description                |\n",
    "|:----------------|:------|:----|:---------------------------|\n",
    "| location_id     |int    |     | Auto generated location ID |\n",
    "| state           |varchar| 2   | State of country           |\n",
    "| city            |varchar| 100 | City of state              |\n",
    "| nighborhood     |varchar| 100 | Neighborhood of city       |"
   ]
  },
  {
   "cell_type": "markdown",
   "metadata": {},
   "source": [
    "##### 4.4.3 dim_company\n",
    "|field            | type  |size | description                |\n",
    "|:----------------|:------|:----|:---------------------------|\n",
    "| cnpj            |varchar| 20  | Brazilian Company Document |\n",
    "| company_name    |varchar| 100 | Company name in law        |\n",
    "| business_name   |varchar| 100 | Company comercial name     |\n",
    "| sector          |varchar| 100 | Company activity sector    |\n",
    "| control_type    |varchar| 100 | Shareholding control type  |\n",
    "| state           |varchar| 2   | State of country           |\n",
    "| city            |varchar| 100 | City of state              |\n",
    "| nighborhood     |varchar| 100 | Neighborhood of city       |"
   ]
  },
  {
   "cell_type": "markdown",
   "metadata": {},
   "source": [
    "#### Step 5: Project Write Up"
   ]
  },
  {
   "cell_type": "markdown",
   "metadata": {},
   "source": [
    "* The project was implemented using jupyter notebook, to easy visualization and colaboration, using PySpark to easly query file to validate data and create the final dataframes. The result data was saved on parquet files, that cam be moved to some cloud storage like S3 in future."
   ]
  },
  {
   "cell_type": "markdown",
   "metadata": {},
   "source": [
    "* The data should be updated directly, downloading file from [dados.cvm.gov.br](http://dados.cvm.gov.br/dataset/cia_aberta-cad) and save on `data` directory."
   ]
  },
  {
   "cell_type": "markdown",
   "metadata": {},
   "source": [
    "* How you would approach the problem differently under the following scenarios:\n",
    "    * The data was increased by 1000x: In this scenario, we can use Apache Spark on cloud to handle the data efectively.\n",
    "    \n",
    "    * The data populates a dashboard that must be updated on a daily basis by 7am every day: In this scenario, we can use Apache Airflow to create ETL scheduled DAGs.\n",
    "    \n",
    "    * The database needed to be accessed by 100+ people: In this scenario, we can use Redshift as main database to perform better and build some dashboards with BI tools."
   ]
  }
 ],
 "metadata": {
  "kernelspec": {
   "display_name": "Python 3",
   "language": "python",
   "name": "python3"
  },
  "language_info": {
   "codemirror_mode": {
    "name": "ipython",
    "version": 3
   },
   "file_extension": ".py",
   "mimetype": "text/x-python",
   "name": "python",
   "nbconvert_exporter": "python",
   "pygments_lexer": "ipython3",
   "version": "3.9.2"
  }
 },
 "nbformat": 4,
 "nbformat_minor": 4
}
